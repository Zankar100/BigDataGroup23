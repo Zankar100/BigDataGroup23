{
  "nbformat": 4,
  "nbformat_minor": 0,
  "metadata": {
    "colab": {
      "name": "MapZiptoBorough.ipynb",
      "provenance": []
    },
    "kernelspec": {
      "name": "python3",
      "display_name": "Python 3"
    },
    "language_info": {
      "name": "python"
    }
  },
  "cells": [
    {
      "cell_type": "code",
      "execution_count": null,
      "metadata": {
        "colab": {
          "base_uri": "https://localhost:8080/"
        },
        "id": "g734Y6LGHatk",
        "outputId": "5016d770-ee04-4e11-b5e6-c76d39436fe7"
      },
      "outputs": [
        {
          "output_type": "stream",
          "name": "stdout",
          "text": [
            "Mounted at /content/drive/\n"
          ]
        }
      ],
      "source": [
        "#from google.colab import drive\n",
        "#drive.mount('/content/drive/')"
      ]
    },
    {
      "cell_type": "code",
      "source": [
        "import pandas as pd\n",
        "import os\n",
        "import numpy as np\n",
        "import sqlite3"
      ],
      "metadata": {
        "id": "lp5-kJL8Hits"
      },
      "execution_count": null,
      "outputs": []
    },
    {
      "cell_type": "code",
      "source": [
        "import geopy"
      ],
      "metadata": {
        "id": "HZHYc2jzH1zs"
      },
      "execution_count": null,
      "outputs": []
    },
    {
      "cell_type": "code",
      "source": [
        "pd_data = pd.read_csv(\"../data/311_Service_Requests_small_sample.csv\")"
      ],
      "metadata": {
        "colab": {
          "base_uri": "https://localhost:8080/"
        },
        "id": "0qTA6QqoH4c1",
        "outputId": "1ad5b524-c4fd-496d-edfc-91c258798936"
      },
      "execution_count": null,
      "outputs": [
        {
          "output_type": "stream",
          "name": "stderr",
          "text": [
            "/usr/local/lib/python3.7/dist-packages/IPython/core/interactiveshell.py:2718: DtypeWarning: Columns (9,18,32,33,35,36,37,38) have mixed types.Specify dtype option on import or set low_memory=False.\n",
            "  interactivity=interactivity, compiler=compiler, result=result)\n"
          ]
        }
      ]
    },
    {
      "cell_type": "code",
      "source": [
        "pd_data = pd_data.rename(columns={\"Created Date\":\"Created_Date\",\n",
        "                                  \"Closed Date\":\"Closed_Date\",\n",
        "                                  \"Agency Name\":\"Agency_Name\",\n",
        "                                  \"Complaint Type\":\"Complaint_Type\",\n",
        "                                  \"Location Type\":\"Location_Type\",\n",
        "                                  \"Incident Zip\":\"Incident_Zip\",\n",
        "                                  \"Incident Address\":\"Incident_Address\",\n",
        "                                  \"Street Name\":\"Street_Name\",\n",
        "                                  \"Cross Street 1\":\"Cross_Street_1\",\n",
        "                                  \"Cross Street 2\":\"Cross_Street_2\",\n",
        "                                  \"Intersection Street 1\":\"Intersection_Street_1\",\n",
        "                                  \"Intersection Street 2\":\"Intersection_Street_2\",\n",
        "                                  \"Address Type\":\"Address_Type\",\n",
        "                                  \"Facility Type\":\"Facility_Type\",\n",
        "                                  \"Due Date\":\"Due_Date\",\n",
        "                                  \"Resolution Description\":\"Resolution_Description\",\n",
        "                                  \"Resolution Action Updated Date\":\"Resolution_Action_Updated_Date\",\n",
        "                                  \"Community Board\":\"Community_Board\",\n",
        "                                  \"Park Borough\":\"Park_Borough\"})"
      ],
      "metadata": {
        "id": "5gJ31wQ-H8ZD"
      },
      "execution_count": null,
      "outputs": []
    },
    {
      "cell_type": "markdown",
      "source": [
        "Loading reference data for zip codes."
      ],
      "metadata": {
        "id": "hu89m31AsXuR"
      }
    },
    {
      "cell_type": "code",
      "source": [
        "zip_data = pd.read_csv(\"../data/nyc-zip-codes.csv\")"
      ],
      "metadata": {
        "id": "RKQ7t7zXIFh7"
      },
      "execution_count": null,
      "outputs": []
    },
    {
      "cell_type": "code",
      "source": [
        "zip_data.head()"
      ],
      "metadata": {
        "colab": {
          "base_uri": "https://localhost:8080/",
          "height": 206
        },
        "id": "vh-x3hewUb5z",
        "outputId": "ac53572d-9e86-482d-a603-79d3c99bccb4"
      },
      "execution_count": null,
      "outputs": [
        {
          "output_type": "execute_result",
          "data": {
            "text/html": [
              "<div>\n",
              "<style scoped>\n",
              "    .dataframe tbody tr th:only-of-type {\n",
              "        vertical-align: middle;\n",
              "    }\n",
              "\n",
              "    .dataframe tbody tr th {\n",
              "        vertical-align: top;\n",
              "    }\n",
              "\n",
              "    .dataframe thead th {\n",
              "        text-align: right;\n",
              "    }\n",
              "</style>\n",
              "<table border=\"1\" class=\"dataframe\">\n",
              "  <thead>\n",
              "    <tr style=\"text-align: right;\">\n",
              "      <th></th>\n",
              "      <th>Borough</th>\n",
              "      <th>Neighborhood</th>\n",
              "      <th>ZipCode</th>\n",
              "    </tr>\n",
              "  </thead>\n",
              "  <tbody>\n",
              "    <tr>\n",
              "      <th>0</th>\n",
              "      <td>Bronx</td>\n",
              "      <td>Central Bronx</td>\n",
              "      <td>10453</td>\n",
              "    </tr>\n",
              "    <tr>\n",
              "      <th>1</th>\n",
              "      <td>Bronx</td>\n",
              "      <td>Central Bronx</td>\n",
              "      <td>10457</td>\n",
              "    </tr>\n",
              "    <tr>\n",
              "      <th>2</th>\n",
              "      <td>Bronx</td>\n",
              "      <td>Central Bronx</td>\n",
              "      <td>10460</td>\n",
              "    </tr>\n",
              "    <tr>\n",
              "      <th>3</th>\n",
              "      <td>Bronx</td>\n",
              "      <td>Bronx Park and Fordham</td>\n",
              "      <td>10458</td>\n",
              "    </tr>\n",
              "    <tr>\n",
              "      <th>4</th>\n",
              "      <td>Bronx</td>\n",
              "      <td>Bronx Park and Fordham</td>\n",
              "      <td>10467</td>\n",
              "    </tr>\n",
              "  </tbody>\n",
              "</table>\n",
              "</div>"
            ],
            "text/plain": [
              "  Borough            Neighborhood  ZipCode\n",
              "0   Bronx           Central Bronx    10453\n",
              "1   Bronx           Central Bronx    10457\n",
              "2   Bronx           Central Bronx    10460\n",
              "3   Bronx  Bronx Park and Fordham    10458\n",
              "4   Bronx  Bronx Park and Fordham    10467"
            ]
          },
          "metadata": {},
          "execution_count": 79
        }
      ]
    },
    {
      "cell_type": "code",
      "source": [
        "unique_zips = zip_data.ZipCode.unique()"
      ],
      "metadata": {
        "id": "Rqlc7w4HIIAU"
      },
      "execution_count": null,
      "outputs": []
    },
    {
      "cell_type": "code",
      "source": [
        "def check_zip(z):\n",
        "    \n",
        "  if z in unique_zips:\n",
        "        return str(int(z)) \n",
        "  \n",
        "  else:\n",
        "        return 'Unspecified'"
      ],
      "metadata": {
        "id": "B6otlhQ_IJ_i"
      },
      "execution_count": null,
      "outputs": []
    },
    {
      "cell_type": "code",
      "source": [
        "pd_data.Incident_Zip = pd_data.Incident_Zip.map(lambda x: check_zip(x))"
      ],
      "metadata": {
        "colab": {
          "base_uri": "https://localhost:8080/"
        },
        "id": "BluiWA9OINqH",
        "outputId": "40acb008-2cbd-42fb-e322-7609c40b2371"
      },
      "execution_count": null,
      "outputs": [
        {
          "output_type": "stream",
          "name": "stderr",
          "text": [
            "/usr/local/lib/python3.7/dist-packages/ipykernel_launcher.py:3: FutureWarning: elementwise comparison failed; returning scalar instead, but in the future will perform elementwise comparison\n",
            "  This is separate from the ipykernel package so we can avoid doing imports until\n"
          ]
        }
      ]
    },
    {
      "cell_type": "code",
      "source": [
        "len(pd_data.Incident_Zip.unique())"
      ],
      "metadata": {
        "colab": {
          "base_uri": "https://localhost:8080/"
        },
        "id": "oX3Vt4lkIRuj",
        "outputId": "8be5f6fa-4fa2-4ff4-ec9c-bdb4e0b889f8"
      },
      "execution_count": null,
      "outputs": [
        {
          "output_type": "execute_result",
          "data": {
            "text/plain": [
              "179"
            ]
          },
          "metadata": {},
          "execution_count": 83
        }
      ]
    },
    {
      "cell_type": "code",
      "source": [
        "pd_data.Incident_Zip.unique()"
      ],
      "metadata": {
        "colab": {
          "base_uri": "https://localhost:8080/"
        },
        "id": "TWn-2ERUIj5L",
        "outputId": "69f0fb84-de3e-4efc-f346-3b878b2d47b1"
      },
      "execution_count": null,
      "outputs": [
        {
          "output_type": "execute_result",
          "data": {
            "text/plain": [
              "array(['11421', '10468', '11214', '11229', '11420', '10469', '10456',\n",
              "       '11217', 'Unspecified', '11357', '11369', '11215', '11210',\n",
              "       '11233', '10034', '11103', '11220', '11368', '11361', '10016',\n",
              "       '10463', '11366', '10032', '11419', '10457', '11207', '11226',\n",
              "       '11219', '11379', '10025', '11435', '11212', '11236', '11230',\n",
              "       '10462', '11105', '10031', '11208', '10002', '10019', '11209',\n",
              "       '10459', '10312', '11205', '10309', '10451', '10021', '11203',\n",
              "       '11102', '10465', '11355', '10460', '10314', '10464', '11218',\n",
              "       '11414', '11385', '11204', '11206', '11237', '10029', '10301',\n",
              "       '10452', '10023', '10022', '11691', '10466', '10473', '11373',\n",
              "       '10075', '10003', '10011', '11358', '10454', '11378', '10305',\n",
              "       '11377', '11375', '10012', '11211', '11429', '10040', '11432',\n",
              "       '11106', '11231', '11238', '11234', '11372', '11356', '10467',\n",
              "       '11235', '11223', '11213', '11370', '10001', '10065', '10014',\n",
              "       '10461', '11413', '11411', '11694', '11365', '11418', '11216',\n",
              "       '10475', '11374', '10013', '10026', '11222', '11201', '10471',\n",
              "       '11104', '11225', '11423', '10472', '10028', '10036', '11232',\n",
              "       '10004', '11427', '10038', '10458', '10027', '10009', '10017',\n",
              "       '11434', '10455', '10307', '11428', '10306', '11436', '10037',\n",
              "       '10453', '10005', '10018', '11221', '11224', '11228', '10303',\n",
              "       '10128', '10304', '11433', '10024', '11692', '10035', '11101',\n",
              "       '10302', '11417', '11004', '11354', '11426', '11693', '11412',\n",
              "       '10007', '10308', '11415', '10030', '11422', '10474', '10470',\n",
              "       '10033', '10010', '11360', '11416', '11363', '11364', '10039',\n",
              "       '10310', '11367', '11362', '10280', '10020', '11239', '10006',\n",
              "       '11697', '10044', '11359', '11005', '11695'], dtype=object)"
            ]
          },
          "metadata": {},
          "execution_count": 84
        }
      ]
    },
    {
      "cell_type": "markdown",
      "source": [
        "Separating the rows with Unspecified zip values and valid zip values."
      ],
      "metadata": {
        "id": "N2h-AWqfseJg"
      }
    },
    {
      "cell_type": "code",
      "source": [
        "unspecified_zip_data = pd_data.loc[pd_data['Incident_Zip'] == 'Unspecified']"
      ],
      "metadata": {
        "id": "Iu9UMsIbIm8Z"
      },
      "execution_count": null,
      "outputs": []
    },
    {
      "cell_type": "code",
      "source": [
        "unspecified_zip_data.head()"
      ],
      "metadata": {
        "colab": {
          "base_uri": "https://localhost:8080/",
          "height": 539
        },
        "id": "yChVK-kaIwR1",
        "outputId": "9ec05658-543c-4c89-ee16-6baa4b9f394c"
      },
      "execution_count": null,
      "outputs": [
        {
          "output_type": "execute_result",
          "data": {
            "text/html": [
              "<div>\n",
              "<style scoped>\n",
              "    .dataframe tbody tr th:only-of-type {\n",
              "        vertical-align: middle;\n",
              "    }\n",
              "\n",
              "    .dataframe tbody tr th {\n",
              "        vertical-align: top;\n",
              "    }\n",
              "\n",
              "    .dataframe thead th {\n",
              "        text-align: right;\n",
              "    }\n",
              "</style>\n",
              "<table border=\"1\" class=\"dataframe\">\n",
              "  <thead>\n",
              "    <tr style=\"text-align: right;\">\n",
              "      <th></th>\n",
              "      <th>Unnamed: 0</th>\n",
              "      <th>Unique Key</th>\n",
              "      <th>Created_Date</th>\n",
              "      <th>Closed_Date</th>\n",
              "      <th>Agency</th>\n",
              "      <th>Agency_Name</th>\n",
              "      <th>Complaint_Type</th>\n",
              "      <th>Descriptor</th>\n",
              "      <th>Location_Type</th>\n",
              "      <th>Incident_Zip</th>\n",
              "      <th>Incident_Address</th>\n",
              "      <th>Street_Name</th>\n",
              "      <th>Cross_Street_1</th>\n",
              "      <th>Cross_Street_2</th>\n",
              "      <th>Intersection_Street_1</th>\n",
              "      <th>Intersection_Street_2</th>\n",
              "      <th>Address_Type</th>\n",
              "      <th>City</th>\n",
              "      <th>Landmark</th>\n",
              "      <th>Facility_Type</th>\n",
              "      <th>Status</th>\n",
              "      <th>Due_Date</th>\n",
              "      <th>Resolution_Description</th>\n",
              "      <th>Resolution_Action_Updated_Date</th>\n",
              "      <th>Community_Board</th>\n",
              "      <th>BBL</th>\n",
              "      <th>Borough</th>\n",
              "      <th>X Coordinate (State Plane)</th>\n",
              "      <th>Y Coordinate (State Plane)</th>\n",
              "      <th>Open Data Channel Type</th>\n",
              "      <th>Park Facility Name</th>\n",
              "      <th>Park_Borough</th>\n",
              "      <th>Vehicle Type</th>\n",
              "      <th>Taxi Company Borough</th>\n",
              "      <th>Taxi Pick Up Location</th>\n",
              "      <th>Bridge Highway Name</th>\n",
              "      <th>Bridge Highway Direction</th>\n",
              "      <th>Road Ramp</th>\n",
              "      <th>Bridge Highway Segment</th>\n",
              "      <th>Latitude</th>\n",
              "      <th>Longitude</th>\n",
              "      <th>Location</th>\n",
              "    </tr>\n",
              "  </thead>\n",
              "  <tbody>\n",
              "    <tr>\n",
              "      <th>9</th>\n",
              "      <td>9</td>\n",
              "      <td>51561680</td>\n",
              "      <td>08/17/2021 05:08:00 PM</td>\n",
              "      <td>08/18/2021 09:46:34 AM</td>\n",
              "      <td>DOT</td>\n",
              "      <td>Department of Transportation</td>\n",
              "      <td>Broken Parking Meter</td>\n",
              "      <td>Coin or Card Did Not Register</td>\n",
              "      <td>Street</td>\n",
              "      <td>Unspecified</td>\n",
              "      <td>NaN</td>\n",
              "      <td>NaN</td>\n",
              "      <td>NaN</td>\n",
              "      <td>NaN</td>\n",
              "      <td>NaN</td>\n",
              "      <td>NaN</td>\n",
              "      <td>NaN</td>\n",
              "      <td>NaN</td>\n",
              "      <td>NaN</td>\n",
              "      <td>NaN</td>\n",
              "      <td>Closed</td>\n",
              "      <td>NaN</td>\n",
              "      <td>The Department of Transportation inspected the...</td>\n",
              "      <td>08/18/2021 09:46:38 AM</td>\n",
              "      <td>0 Unspecified</td>\n",
              "      <td>NaN</td>\n",
              "      <td>Unspecified</td>\n",
              "      <td>NaN</td>\n",
              "      <td>NaN</td>\n",
              "      <td>ONLINE</td>\n",
              "      <td>Unspecified</td>\n",
              "      <td>Unspecified</td>\n",
              "      <td>NaN</td>\n",
              "      <td>NaN</td>\n",
              "      <td>NaN</td>\n",
              "      <td>NaN</td>\n",
              "      <td>NaN</td>\n",
              "      <td>NaN</td>\n",
              "      <td>NaN</td>\n",
              "      <td>NaN</td>\n",
              "      <td>NaN</td>\n",
              "      <td>NaN</td>\n",
              "    </tr>\n",
              "    <tr>\n",
              "      <th>14</th>\n",
              "      <td>14</td>\n",
              "      <td>51562435</td>\n",
              "      <td>08/17/2021 07:40:27 PM</td>\n",
              "      <td>08/17/2021 11:59:03 PM</td>\n",
              "      <td>NYPD</td>\n",
              "      <td>New York City Police Department</td>\n",
              "      <td>Encampment</td>\n",
              "      <td>NaN</td>\n",
              "      <td>Highway</td>\n",
              "      <td>Unspecified</td>\n",
              "      <td>NaN</td>\n",
              "      <td>NaN</td>\n",
              "      <td>NaN</td>\n",
              "      <td>NaN</td>\n",
              "      <td>NaN</td>\n",
              "      <td>NaN</td>\n",
              "      <td>NaN</td>\n",
              "      <td>NaN</td>\n",
              "      <td>NaN</td>\n",
              "      <td>NaN</td>\n",
              "      <td>Closed</td>\n",
              "      <td>NaN</td>\n",
              "      <td>The Police Department visited the location and...</td>\n",
              "      <td>08/17/2021 11:59:06 PM</td>\n",
              "      <td>Unspecified QUEENS</td>\n",
              "      <td>NaN</td>\n",
              "      <td>QUEENS</td>\n",
              "      <td>NaN</td>\n",
              "      <td>NaN</td>\n",
              "      <td>PHONE</td>\n",
              "      <td>Unspecified</td>\n",
              "      <td>QUEENS</td>\n",
              "      <td>NaN</td>\n",
              "      <td>NaN</td>\n",
              "      <td>NaN</td>\n",
              "      <td>Belt Pkwy</td>\n",
              "      <td>West/Brooklyn Bound</td>\n",
              "      <td>Roadway</td>\n",
              "      <td>Lefferts Blvd Aqueduct Racetrack (Exit 18B) - ...</td>\n",
              "      <td>NaN</td>\n",
              "      <td>NaN</td>\n",
              "      <td>NaN</td>\n",
              "    </tr>\n",
              "    <tr>\n",
              "      <th>29</th>\n",
              "      <td>29</td>\n",
              "      <td>51563214</td>\n",
              "      <td>08/18/2021 12:48:20 AM</td>\n",
              "      <td>08/18/2021 02:51:54 AM</td>\n",
              "      <td>NYPD</td>\n",
              "      <td>New York City Police Department</td>\n",
              "      <td>Encampment</td>\n",
              "      <td>NaN</td>\n",
              "      <td>Subway</td>\n",
              "      <td>Unspecified</td>\n",
              "      <td>NaN</td>\n",
              "      <td>NaN</td>\n",
              "      <td>NaN</td>\n",
              "      <td>NaN</td>\n",
              "      <td>NaN</td>\n",
              "      <td>NaN</td>\n",
              "      <td>NaN</td>\n",
              "      <td>NaN</td>\n",
              "      <td>NaN</td>\n",
              "      <td>NaN</td>\n",
              "      <td>Closed</td>\n",
              "      <td>NaN</td>\n",
              "      <td>The Police Department visited the location and...</td>\n",
              "      <td>08/18/2021 02:51:58 AM</td>\n",
              "      <td>Unspecified QUEENS</td>\n",
              "      <td>NaN</td>\n",
              "      <td>QUEENS</td>\n",
              "      <td>1012386.0</td>\n",
              "      <td>212417.0</td>\n",
              "      <td>MOBILE</td>\n",
              "      <td>Unspecified</td>\n",
              "      <td>QUEENS</td>\n",
              "      <td>NaN</td>\n",
              "      <td>NaN</td>\n",
              "      <td>NaN</td>\n",
              "      <td>R</td>\n",
              "      <td>M R to Forest Hills - Jamaica</td>\n",
              "      <td>NaN</td>\n",
              "      <td>Platform</td>\n",
              "      <td>40.749667</td>\n",
              "      <td>-73.898453</td>\n",
              "      <td>(40.74966739007307, -73.89845319094752)</td>\n",
              "    </tr>\n",
              "    <tr>\n",
              "      <th>34</th>\n",
              "      <td>34</td>\n",
              "      <td>51563637</td>\n",
              "      <td>08/18/2021 11:35:00 AM</td>\n",
              "      <td>08/18/2021 10:15:00 PM</td>\n",
              "      <td>DOT</td>\n",
              "      <td>Department of Transportation</td>\n",
              "      <td>Street Light Condition</td>\n",
              "      <td>Street Light Out</td>\n",
              "      <td>NaN</td>\n",
              "      <td>Unspecified</td>\n",
              "      <td>NaN</td>\n",
              "      <td>NaN</td>\n",
              "      <td>NaN</td>\n",
              "      <td>NaN</td>\n",
              "      <td>COLLEGE AVE</td>\n",
              "      <td>164 ST E</td>\n",
              "      <td>INTERSECTION</td>\n",
              "      <td>NaN</td>\n",
              "      <td>NaN</td>\n",
              "      <td>NaN</td>\n",
              "      <td>Closed</td>\n",
              "      <td>NaN</td>\n",
              "      <td>Service Request status for this request is ava...</td>\n",
              "      <td>08/18/2021 10:15:00 PM</td>\n",
              "      <td>Unspecified BRONX</td>\n",
              "      <td>NaN</td>\n",
              "      <td>BRONX</td>\n",
              "      <td>NaN</td>\n",
              "      <td>NaN</td>\n",
              "      <td>UNKNOWN</td>\n",
              "      <td>Unspecified</td>\n",
              "      <td>BRONX</td>\n",
              "      <td>NaN</td>\n",
              "      <td>NaN</td>\n",
              "      <td>NaN</td>\n",
              "      <td>NaN</td>\n",
              "      <td>NaN</td>\n",
              "      <td>NaN</td>\n",
              "      <td>NaN</td>\n",
              "      <td>NaN</td>\n",
              "      <td>NaN</td>\n",
              "      <td>NaN</td>\n",
              "    </tr>\n",
              "    <tr>\n",
              "      <th>40</th>\n",
              "      <td>40</td>\n",
              "      <td>50472100</td>\n",
              "      <td>05/04/2021 08:47:12 PM</td>\n",
              "      <td>05/14/2021 01:58:18 PM</td>\n",
              "      <td>DOT</td>\n",
              "      <td>Department of Transportation</td>\n",
              "      <td>Highway Condition</td>\n",
              "      <td>Pothole - Highway</td>\n",
              "      <td>Highway</td>\n",
              "      <td>Unspecified</td>\n",
              "      <td>NaN</td>\n",
              "      <td>NaN</td>\n",
              "      <td>NaN</td>\n",
              "      <td>NaN</td>\n",
              "      <td>NaN</td>\n",
              "      <td>NaN</td>\n",
              "      <td>NaN</td>\n",
              "      <td>NaN</td>\n",
              "      <td>NaN</td>\n",
              "      <td>NaN</td>\n",
              "      <td>Closed</td>\n",
              "      <td>NaN</td>\n",
              "      <td>The Department of Transportation has completed...</td>\n",
              "      <td>05/14/2021 01:58:21 PM</td>\n",
              "      <td>0 Unspecified</td>\n",
              "      <td>NaN</td>\n",
              "      <td>Unspecified</td>\n",
              "      <td>NaN</td>\n",
              "      <td>NaN</td>\n",
              "      <td>ONLINE</td>\n",
              "      <td>Unspecified</td>\n",
              "      <td>Unspecified</td>\n",
              "      <td>NaN</td>\n",
              "      <td>NaN</td>\n",
              "      <td>NaN</td>\n",
              "      <td>BQE/Gowanus Expwy</td>\n",
              "      <td>East/Bronx Bound</td>\n",
              "      <td>Roadway</td>\n",
              "      <td>Eastern Long Is Riverhead (Exit 35E) - Grand C...</td>\n",
              "      <td>NaN</td>\n",
              "      <td>NaN</td>\n",
              "      <td>NaN</td>\n",
              "    </tr>\n",
              "  </tbody>\n",
              "</table>\n",
              "</div>"
            ],
            "text/plain": [
              "    Unnamed: 0  Unique Key  ...  Longitude                                 Location\n",
              "9            9    51561680  ...        NaN                                      NaN\n",
              "14          14    51562435  ...        NaN                                      NaN\n",
              "29          29    51563214  ... -73.898453  (40.74966739007307, -73.89845319094752)\n",
              "34          34    51563637  ...        NaN                                      NaN\n",
              "40          40    50472100  ...        NaN                                      NaN\n",
              "\n",
              "[5 rows x 42 columns]"
            ]
          },
          "metadata": {},
          "execution_count": 86
        }
      ]
    },
    {
      "cell_type": "code",
      "source": [
        "specified_zip_data = pd_data.loc[pd_data['Incident_Zip'] != 'Unspecified']"
      ],
      "metadata": {
        "id": "IE4KLFs9IqAM"
      },
      "execution_count": null,
      "outputs": []
    },
    {
      "cell_type": "code",
      "source": [
        "specified_zip_data.head()"
      ],
      "metadata": {
        "colab": {
          "base_uri": "https://localhost:8080/",
          "height": 452
        },
        "id": "pRGDee8JIyfw",
        "outputId": "066e6d0f-8ae4-46e5-b4a5-d618b2cdb069"
      },
      "execution_count": null,
      "outputs": [
        {
          "output_type": "execute_result",
          "data": {
            "text/html": [
              "<div>\n",
              "<style scoped>\n",
              "    .dataframe tbody tr th:only-of-type {\n",
              "        vertical-align: middle;\n",
              "    }\n",
              "\n",
              "    .dataframe tbody tr th {\n",
              "        vertical-align: top;\n",
              "    }\n",
              "\n",
              "    .dataframe thead th {\n",
              "        text-align: right;\n",
              "    }\n",
              "</style>\n",
              "<table border=\"1\" class=\"dataframe\">\n",
              "  <thead>\n",
              "    <tr style=\"text-align: right;\">\n",
              "      <th></th>\n",
              "      <th>Unnamed: 0</th>\n",
              "      <th>Unique Key</th>\n",
              "      <th>Created_Date</th>\n",
              "      <th>Closed_Date</th>\n",
              "      <th>Agency</th>\n",
              "      <th>Agency_Name</th>\n",
              "      <th>Complaint_Type</th>\n",
              "      <th>Descriptor</th>\n",
              "      <th>Location_Type</th>\n",
              "      <th>Incident_Zip</th>\n",
              "      <th>Incident_Address</th>\n",
              "      <th>Street_Name</th>\n",
              "      <th>Cross_Street_1</th>\n",
              "      <th>Cross_Street_2</th>\n",
              "      <th>Intersection_Street_1</th>\n",
              "      <th>Intersection_Street_2</th>\n",
              "      <th>Address_Type</th>\n",
              "      <th>City</th>\n",
              "      <th>Landmark</th>\n",
              "      <th>Facility_Type</th>\n",
              "      <th>Status</th>\n",
              "      <th>Due_Date</th>\n",
              "      <th>Resolution_Description</th>\n",
              "      <th>Resolution_Action_Updated_Date</th>\n",
              "      <th>Community_Board</th>\n",
              "      <th>BBL</th>\n",
              "      <th>Borough</th>\n",
              "      <th>X Coordinate (State Plane)</th>\n",
              "      <th>Y Coordinate (State Plane)</th>\n",
              "      <th>Open Data Channel Type</th>\n",
              "      <th>Park Facility Name</th>\n",
              "      <th>Park_Borough</th>\n",
              "      <th>Vehicle Type</th>\n",
              "      <th>Taxi Company Borough</th>\n",
              "      <th>Taxi Pick Up Location</th>\n",
              "      <th>Bridge Highway Name</th>\n",
              "      <th>Bridge Highway Direction</th>\n",
              "      <th>Road Ramp</th>\n",
              "      <th>Bridge Highway Segment</th>\n",
              "      <th>Latitude</th>\n",
              "      <th>Longitude</th>\n",
              "      <th>Location</th>\n",
              "    </tr>\n",
              "  </thead>\n",
              "  <tbody>\n",
              "    <tr>\n",
              "      <th>0</th>\n",
              "      <td>0</td>\n",
              "      <td>51560911</td>\n",
              "      <td>08/17/2021 07:34:45 AM</td>\n",
              "      <td>08/17/2021 09:34:29 AM</td>\n",
              "      <td>NYPD</td>\n",
              "      <td>New York City Police Department</td>\n",
              "      <td>Illegal Parking</td>\n",
              "      <td>Blocked Sidewalk</td>\n",
              "      <td>Street/Sidewalk</td>\n",
              "      <td>11421</td>\n",
              "      <td>92-13 92 AVENUE</td>\n",
              "      <td>92 AVENUE</td>\n",
              "      <td>92 STREET</td>\n",
              "      <td>WOODHAVEN BOULEVARD</td>\n",
              "      <td>92 STREET</td>\n",
              "      <td>WOODHAVEN BOULEVARD</td>\n",
              "      <td>NaN</td>\n",
              "      <td>WOODHAVEN</td>\n",
              "      <td>92 AVENUE</td>\n",
              "      <td>NaN</td>\n",
              "      <td>Closed</td>\n",
              "      <td>NaN</td>\n",
              "      <td>The Police Department issued a summons in resp...</td>\n",
              "      <td>08/17/2021 09:34:31 AM</td>\n",
              "      <td>09 QUEENS</td>\n",
              "      <td>4.089860e+09</td>\n",
              "      <td>QUEENS</td>\n",
              "      <td>1025640.0</td>\n",
              "      <td>190277.0</td>\n",
              "      <td>MOBILE</td>\n",
              "      <td>Unspecified</td>\n",
              "      <td>QUEENS</td>\n",
              "      <td>NaN</td>\n",
              "      <td>NaN</td>\n",
              "      <td>NaN</td>\n",
              "      <td>NaN</td>\n",
              "      <td>NaN</td>\n",
              "      <td>NaN</td>\n",
              "      <td>NaN</td>\n",
              "      <td>40.688846</td>\n",
              "      <td>-73.850754</td>\n",
              "      <td>(40.68884640295723, -73.85075384808735)</td>\n",
              "    </tr>\n",
              "    <tr>\n",
              "      <th>1</th>\n",
              "      <td>1</td>\n",
              "      <td>51560923</td>\n",
              "      <td>08/17/2021 06:04:48 PM</td>\n",
              "      <td>08/17/2021 07:25:36 PM</td>\n",
              "      <td>NYPD</td>\n",
              "      <td>New York City Police Department</td>\n",
              "      <td>Illegal Parking</td>\n",
              "      <td>Blocked Sidewalk</td>\n",
              "      <td>Street/Sidewalk</td>\n",
              "      <td>10468</td>\n",
              "      <td>CLAFLIN AVENUE</td>\n",
              "      <td>CLAFLIN AVENUE</td>\n",
              "      <td>CLAFLIN AVENUE</td>\n",
              "      <td>WEST  195 STREET</td>\n",
              "      <td>CLAFLIN AVENUE</td>\n",
              "      <td>WEST  195 STREET</td>\n",
              "      <td>NaN</td>\n",
              "      <td>NaN</td>\n",
              "      <td>NaN</td>\n",
              "      <td>NaN</td>\n",
              "      <td>Closed</td>\n",
              "      <td>NaN</td>\n",
              "      <td>The Police Department responded and upon arriv...</td>\n",
              "      <td>08/17/2021 07:25:44 PM</td>\n",
              "      <td>08 BRONX</td>\n",
              "      <td>NaN</td>\n",
              "      <td>BRONX</td>\n",
              "      <td>1011740.0</td>\n",
              "      <td>256343.0</td>\n",
              "      <td>PHONE</td>\n",
              "      <td>Unspecified</td>\n",
              "      <td>BRONX</td>\n",
              "      <td>NaN</td>\n",
              "      <td>NaN</td>\n",
              "      <td>NaN</td>\n",
              "      <td>NaN</td>\n",
              "      <td>NaN</td>\n",
              "      <td>NaN</td>\n",
              "      <td>NaN</td>\n",
              "      <td>40.870234</td>\n",
              "      <td>-73.900605</td>\n",
              "      <td>(40.87023400587434, -73.90060480716431)</td>\n",
              "    </tr>\n",
              "    <tr>\n",
              "      <th>2</th>\n",
              "      <td>2</td>\n",
              "      <td>50469886</td>\n",
              "      <td>05/04/2021 11:40:00 AM</td>\n",
              "      <td>07/21/2021 01:55:00 PM</td>\n",
              "      <td>DOT</td>\n",
              "      <td>Department of Transportation</td>\n",
              "      <td>Street Light Condition</td>\n",
              "      <td>Street Light Out</td>\n",
              "      <td>NaN</td>\n",
              "      <td>11214</td>\n",
              "      <td>NaN</td>\n",
              "      <td>NaN</td>\n",
              "      <td>NaN</td>\n",
              "      <td>NaN</td>\n",
              "      <td>NEW UTRECHT AVENUE</td>\n",
              "      <td>84 STREET</td>\n",
              "      <td>INTERSECTION</td>\n",
              "      <td>BROOKLYN</td>\n",
              "      <td>NaN</td>\n",
              "      <td>NaN</td>\n",
              "      <td>Closed</td>\n",
              "      <td>NaN</td>\n",
              "      <td>Service Request status for this request is ava...</td>\n",
              "      <td>07/21/2021 01:55:00 PM</td>\n",
              "      <td>11 BROOKLYN</td>\n",
              "      <td>NaN</td>\n",
              "      <td>BROOKLYN</td>\n",
              "      <td>983735.0</td>\n",
              "      <td>161202.0</td>\n",
              "      <td>UNKNOWN</td>\n",
              "      <td>Unspecified</td>\n",
              "      <td>BROOKLYN</td>\n",
              "      <td>NaN</td>\n",
              "      <td>NaN</td>\n",
              "      <td>NaN</td>\n",
              "      <td>NaN</td>\n",
              "      <td>NaN</td>\n",
              "      <td>NaN</td>\n",
              "      <td>NaN</td>\n",
              "      <td>40.609139</td>\n",
              "      <td>-74.001855</td>\n",
              "      <td>(40.60913860285155, -74.00185479490075)</td>\n",
              "    </tr>\n",
              "    <tr>\n",
              "      <th>3</th>\n",
              "      <td>3</td>\n",
              "      <td>50470191</td>\n",
              "      <td>05/04/2021 04:31:32 PM</td>\n",
              "      <td>NaN</td>\n",
              "      <td>DPR</td>\n",
              "      <td>Department of Parks and Recreation</td>\n",
              "      <td>New Tree Request</td>\n",
              "      <td>For One Address</td>\n",
              "      <td>Street</td>\n",
              "      <td>11229</td>\n",
              "      <td>2041 EAST   18 STREET</td>\n",
              "      <td>EAST   18 STREET</td>\n",
              "      <td>AVENUE T</td>\n",
              "      <td>AVENUE U</td>\n",
              "      <td>AVENUE T</td>\n",
              "      <td>AVENUE U</td>\n",
              "      <td>NaN</td>\n",
              "      <td>BROOKLYN</td>\n",
              "      <td>EAST   18 STREET</td>\n",
              "      <td>NaN</td>\n",
              "      <td>In Progress</td>\n",
              "      <td>NaN</td>\n",
              "      <td>NaN</td>\n",
              "      <td>NaN</td>\n",
              "      <td>15 BROOKLYN</td>\n",
              "      <td>3.073230e+09</td>\n",
              "      <td>BROOKLYN</td>\n",
              "      <td>997085.0</td>\n",
              "      <td>158030.0</td>\n",
              "      <td>UNKNOWN</td>\n",
              "      <td>Unspecified</td>\n",
              "      <td>BROOKLYN</td>\n",
              "      <td>NaN</td>\n",
              "      <td>NaN</td>\n",
              "      <td>NaN</td>\n",
              "      <td>NaN</td>\n",
              "      <td>NaN</td>\n",
              "      <td>NaN</td>\n",
              "      <td>NaN</td>\n",
              "      <td>40.600423</td>\n",
              "      <td>-73.953780</td>\n",
              "      <td>(40.600422830424975, -73.95378022131071)</td>\n",
              "    </tr>\n",
              "    <tr>\n",
              "      <th>4</th>\n",
              "      <td>4</td>\n",
              "      <td>50470218</td>\n",
              "      <td>05/05/2021 01:47:05 AM</td>\n",
              "      <td>10/01/2021 10:53:17 AM</td>\n",
              "      <td>DOHMH</td>\n",
              "      <td>Department of Health and Mental Hygiene</td>\n",
              "      <td>Rodent</td>\n",
              "      <td>Signs of Rodents</td>\n",
              "      <td>1-2 Family Dwelling</td>\n",
              "      <td>11420</td>\n",
              "      <td>115-44 135 STREET</td>\n",
              "      <td>135 STREET</td>\n",
              "      <td>115 AVENUE</td>\n",
              "      <td>116 AVENUE</td>\n",
              "      <td>115 AVENUE</td>\n",
              "      <td>116 AVENUE</td>\n",
              "      <td>ADDRESS</td>\n",
              "      <td>South Ozone Park</td>\n",
              "      <td>135 STREET</td>\n",
              "      <td>NaN</td>\n",
              "      <td>Closed</td>\n",
              "      <td>NaN</td>\n",
              "      <td>This service request was closed because the De...</td>\n",
              "      <td>05/05/2021 01:47:05 AM</td>\n",
              "      <td>10 QUEENS</td>\n",
              "      <td>4.116770e+09</td>\n",
              "      <td>QUEENS</td>\n",
              "      <td>1038085.0</td>\n",
              "      <td>187070.0</td>\n",
              "      <td>MOBILE</td>\n",
              "      <td>Unspecified</td>\n",
              "      <td>QUEENS</td>\n",
              "      <td>NaN</td>\n",
              "      <td>NaN</td>\n",
              "      <td>NaN</td>\n",
              "      <td>NaN</td>\n",
              "      <td>NaN</td>\n",
              "      <td>NaN</td>\n",
              "      <td>NaN</td>\n",
              "      <td>40.679977</td>\n",
              "      <td>-73.805905</td>\n",
              "      <td>(40.67997699346374, -73.8059047916443)</td>\n",
              "    </tr>\n",
              "  </tbody>\n",
              "</table>\n",
              "</div>"
            ],
            "text/plain": [
              "   Unnamed: 0  Unique Key  ...  Longitude                                  Location\n",
              "0           0    51560911  ... -73.850754   (40.68884640295723, -73.85075384808735)\n",
              "1           1    51560923  ... -73.900605   (40.87023400587434, -73.90060480716431)\n",
              "2           2    50469886  ... -74.001855   (40.60913860285155, -74.00185479490075)\n",
              "3           3    50470191  ... -73.953780  (40.600422830424975, -73.95378022131071)\n",
              "4           4    50470218  ... -73.805905    (40.67997699346374, -73.8059047916443)\n",
              "\n",
              "[5 rows x 42 columns]"
            ]
          },
          "metadata": {},
          "execution_count": 88
        }
      ]
    },
    {
      "cell_type": "code",
      "source": [
        "unspecified_zip_data = unspecified_zip_data.reset_index()"
      ],
      "metadata": {
        "id": "u0oJYB4VS_8I"
      },
      "execution_count": null,
      "outputs": []
    },
    {
      "cell_type": "code",
      "source": [
        "specified_zip_data = specified_zip_data.reset_index()"
      ],
      "metadata": {
        "id": "FqDfPVo7S_5Q"
      },
      "execution_count": null,
      "outputs": []
    },
    {
      "cell_type": "code",
      "source": [
        "zip_data['ZipCode'] = zip_data['ZipCode'].map(str)"
      ],
      "metadata": {
        "id": "_Gn3KhliS_2b"
      },
      "execution_count": null,
      "outputs": []
    },
    {
      "cell_type": "code",
      "source": [
        "zip_data.loc[zip_data['ZipCode'] == '11209', 'Borough'].iloc[0]"
      ],
      "metadata": {
        "colab": {
          "base_uri": "https://localhost:8080/",
          "height": 35
        },
        "id": "qy-FI6VNZcQi",
        "outputId": "5a82fb85-5f95-488d-a778-606515be5a25"
      },
      "execution_count": null,
      "outputs": [
        {
          "output_type": "execute_result",
          "data": {
            "application/vnd.google.colaboratory.intrinsic+json": {
              "type": "string"
            },
            "text/plain": [
              "'Brooklyn'"
            ]
          },
          "metadata": {},
          "execution_count": 95
        }
      ]
    },
    {
      "cell_type": "code",
      "source": [
        "specified_zip_data.Borough[4]"
      ],
      "metadata": {
        "colab": {
          "base_uri": "https://localhost:8080/",
          "height": 35
        },
        "id": "lly8XlFJanS5",
        "outputId": "c3bfda8e-2469-43b5-c380-1ca86727c450"
      },
      "execution_count": null,
      "outputs": [
        {
          "output_type": "execute_result",
          "data": {
            "application/vnd.google.colaboratory.intrinsic+json": {
              "type": "string"
            },
            "text/plain": [
              "'QUEENS'"
            ]
          },
          "metadata": {},
          "execution_count": 99
        }
      ]
    },
    {
      "cell_type": "code",
      "source": [
        "zip_data['Borough'] = zip_data['Borough'].str.upper()"
      ],
      "metadata": {
        "id": "9D_EKxUUbFc2"
      },
      "execution_count": null,
      "outputs": []
    },
    {
      "cell_type": "markdown",
      "source": [
        "CHecking unique values of Boroughs in reference data."
      ],
      "metadata": {
        "id": "VO6jFf8wsrYH"
      }
    },
    {
      "cell_type": "code",
      "source": [
        "zip_data.Borough.unique()"
      ],
      "metadata": {
        "colab": {
          "base_uri": "https://localhost:8080/"
        },
        "id": "jd-cSFprkWpP",
        "outputId": "a8638fff-d183-4454-c1f8-cd8ac5b26306"
      },
      "execution_count": null,
      "outputs": [
        {
          "output_type": "execute_result",
          "data": {
            "text/plain": [
              "array(['BRONX', 'BROOKLYN', 'MANHATTAN', 'QUEENS', 'STATEN ISLAND'],\n",
              "      dtype=object)"
            ]
          },
          "metadata": {},
          "execution_count": 108
        }
      ]
    },
    {
      "cell_type": "markdown",
      "source": [
        "Mapping the Boroughs to zip codes using reference data. If mapping found to be wrong, replace with valid value of Borough from reference data."
      ],
      "metadata": {
        "id": "XpYcj4PgsxIF"
      }
    },
    {
      "cell_type": "code",
      "source": [
        "for i in range(len(specified_zip_data)):\n",
        "  if (specified_zip_data.Borough[i] == zip_data.loc[zip_data['ZipCode'] == specified_zip_data.Incident_Zip[i], 'Borough'].iloc[0]):\n",
        "    continue\n",
        "  else:\n",
        "    specified_zip_data.Borough[i] = zip_data.loc[zip_data['ZipCode'] == specified_zip_data.Incident_Zip[i], 'Borough'].iloc[0]"
      ],
      "metadata": {
        "id": "JDYQD4vBItUN"
      },
      "execution_count": null,
      "outputs": []
    },
    {
      "cell_type": "code",
      "source": [
        ""
      ],
      "metadata": {
        "id": "zwLywe-QjXoL"
      },
      "execution_count": null,
      "outputs": []
    },
    {
      "cell_type": "markdown",
      "source": [
        "Unique values of Boroughs in the dataset after Mapping"
      ],
      "metadata": {
        "id": "HCd04mLKs9rs"
      }
    },
    {
      "cell_type": "code",
      "source": [
        "specified_zip_data.Borough.unique()"
      ],
      "metadata": {
        "colab": {
          "base_uri": "https://localhost:8080/"
        },
        "id": "r4RqO5CVRTgk",
        "outputId": "a81e3acc-eda5-4333-ba07-28b2f2b27302"
      },
      "execution_count": null,
      "outputs": [
        {
          "output_type": "execute_result",
          "data": {
            "text/plain": [
              "array(['MANHATTAN', 'BROOKLYN', 'BRONX', 'STATEN ISLAND', 'QUEENS'],\n",
              "      dtype=object)"
            ]
          },
          "metadata": {},
          "execution_count": 112
        }
      ]
    },
    {
      "cell_type": "code",
      "source": [
        ""
      ],
      "metadata": {
        "id": "PU5oAFKuhTgb"
      },
      "execution_count": null,
      "outputs": []
    }
  ]
}