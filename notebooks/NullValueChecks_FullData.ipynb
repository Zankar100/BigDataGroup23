{
  "nbformat": 4,
  "nbformat_minor": 0,
  "metadata": {
    "colab": {
      "name": "NullValueChecks_FullData.ipynb",
      "provenance": [],
      "collapsed_sections": []
    },
    "kernelspec": {
      "name": "python3",
      "display_name": "Python 3"
    },
    "language_info": {
      "name": "python"
    }
  },
  "cells": [
    {
      "cell_type": "markdown",
      "source": [
        "# NYC 311 Service Requests from 2010 to present - Data Profiling and Data Cleaning\n",
        "\n",
        "\n",
        "The dataset that is used for all the examples is the [311 Service Requests from 2010 to Present](https://data.cityofnewyork.us/Social-Services/311-Service-Requests-from-2010-to-Present/erm2-nwe9), which contains 311 calls or service requests made from 2010 to present.\n",
        "\n",
        "The dataset consists of over 27 million rows with information about the time, complaint type, location and status of the 311 calls. The d\n",
        "The dataset was accessed with the [Socrata Open Data API (SODA)](https://dev.socrata.com/)."
      ],
      "metadata": {
        "id": "q3Qgdyxi8iJ0"
      }
    },
    {
      "cell_type": "markdown",
      "source": [
        "# **NULL Value Handling**"
      ],
      "metadata": {
        "id": "UBSOUn7L8thI"
      }
    },
    {
      "cell_type": "code",
      "execution_count": null,
      "metadata": {
        "colab": {
          "base_uri": "https://localhost:8080/"
        },
        "id": "x1wVG0S3Is4Y",
        "outputId": "cc7f10d3-ed2b-41d9-a691-e58f701b913c"
      },
      "outputs": [
        {
          "output_type": "stream",
          "name": "stdout",
          "text": [
            "Drive already mounted at /content/drive/; to attempt to forcibly remount, call drive.mount(\"/content/drive/\", force_remount=True).\n"
          ]
        }
      ],
      "source": [
        "#from google.colab import drive\n",
        "#drive.mount('/content/drive/')"
      ]
    },
    {
      "cell_type": "markdown",
      "source": [
        "Installing required libraries"
      ],
      "metadata": {
        "id": "WjLoHNpT80K8"
      }
    },
    {
      "cell_type": "code",
      "source": [
        "!pip install pyspark\n",
        "!pip install openclean\n",
        "!pip install uszipcode\n",
        "!pip install humanfriendly"
      ],
      "metadata": {
        "colab": {
          "base_uri": "https://localhost:8080/"
        },
        "id": "uOrTviNDI3eZ",
        "outputId": "c85c2c3f-3176-49ac-9a89-616e6b9821e5"
      },
      "execution_count": null,
      "outputs": [
        {
          "output_type": "stream",
          "name": "stdout",
          "text": [
            "Requirement already satisfied: pyspark in /usr/local/lib/python3.7/dist-packages (3.2.0)\n",
            "Requirement already satisfied: py4j==0.10.9.2 in /usr/local/lib/python3.7/dist-packages (from pyspark) (0.10.9.2)\n",
            "Requirement already satisfied: openclean in /usr/local/lib/python3.7/dist-packages (0.2.1)\n",
            "Requirement already satisfied: openclean-core==0.4.1 in /usr/local/lib/python3.7/dist-packages (from openclean) (0.4.1)\n",
            "Requirement already satisfied: jellyfish in /usr/local/lib/python3.7/dist-packages (from openclean-core==0.4.1->openclean) (0.8.9)\n",
            "Requirement already satisfied: requests in /usr/local/lib/python3.7/dist-packages (from openclean-core==0.4.1->openclean) (2.23.0)\n",
            "Requirement already satisfied: jsonschema>=3.2.0 in /usr/local/lib/python3.7/dist-packages (from openclean-core==0.4.1->openclean) (4.2.1)\n",
            "Requirement already satisfied: pandas>=1.0.0 in /usr/local/lib/python3.7/dist-packages (from openclean-core==0.4.1->openclean) (1.1.5)\n",
            "Requirement already satisfied: scikit-learn in /usr/local/lib/python3.7/dist-packages (from openclean-core==0.4.1->openclean) (1.0.1)\n",
            "Requirement already satisfied: python-dateutil in /usr/local/lib/python3.7/dist-packages (from openclean-core==0.4.1->openclean) (2.8.2)\n",
            "Requirement already satisfied: flowserv-core>=0.8.0 in /usr/local/lib/python3.7/dist-packages (from openclean-core==0.4.1->openclean) (0.9.2)\n",
            "Requirement already satisfied: scipy in /usr/local/lib/python3.7/dist-packages (from openclean-core==0.4.1->openclean) (1.4.1)\n",
            "Requirement already satisfied: refdata>=0.2.0 in /usr/local/lib/python3.7/dist-packages (from openclean-core==0.4.1->openclean) (0.2.0)\n",
            "Requirement already satisfied: histore>=0.4.0 in /usr/local/lib/python3.7/dist-packages (from openclean-core==0.4.1->openclean) (0.4.1)\n",
            "Requirement already satisfied: future in /usr/local/lib/python3.7/dist-packages (from openclean-core==0.4.1->openclean) (0.16.0)\n",
            "Requirement already satisfied: appdirs>=1.4.4 in /usr/local/lib/python3.7/dist-packages (from openclean-core==0.4.1->openclean) (1.4.4)\n",
            "Requirement already satisfied: dill in /usr/local/lib/python3.7/dist-packages (from openclean-core==0.4.1->openclean) (0.3.4)\n",
            "Requirement already satisfied: pyyaml>=5.1 in /usr/local/lib/python3.7/dist-packages (from flowserv-core>=0.8.0->openclean-core==0.4.1->openclean) (5.4.1)\n",
            "Requirement already satisfied: gitpython in /usr/local/lib/python3.7/dist-packages (from flowserv-core>=0.8.0->openclean-core==0.4.1->openclean) (3.1.24)\n",
            "Requirement already satisfied: passlib in /usr/local/lib/python3.7/dist-packages (from flowserv-core>=0.8.0->openclean-core==0.4.1->openclean) (1.7.4)\n",
            "Requirement already satisfied: paramiko in /usr/local/lib/python3.7/dist-packages (from flowserv-core>=0.8.0->openclean-core==0.4.1->openclean) (2.8.1)\n",
            "Requirement already satisfied: SQLAlchemy>=1.3.18 in /usr/local/lib/python3.7/dist-packages (from flowserv-core>=0.8.0->openclean-core==0.4.1->openclean) (1.4.27)\n",
            "Requirement already satisfied: pyyaml-include in /usr/local/lib/python3.7/dist-packages (from flowserv-core>=0.8.0->openclean-core==0.4.1->openclean) (1.2.post2)\n",
            "Requirement already satisfied: Click in /usr/local/lib/python3.7/dist-packages (from flowserv-core>=0.8.0->openclean-core==0.4.1->openclean) (7.1.2)\n",
            "Requirement already satisfied: psutil in /usr/local/lib/python3.7/dist-packages (from histore>=0.4.0->openclean-core==0.4.1->openclean) (5.4.8)\n",
            "Requirement already satisfied: importlib-resources>=1.4.0 in /usr/local/lib/python3.7/dist-packages (from jsonschema>=3.2.0->openclean-core==0.4.1->openclean) (5.4.0)\n",
            "Requirement already satisfied: attrs>=17.4.0 in /usr/local/lib/python3.7/dist-packages (from jsonschema>=3.2.0->openclean-core==0.4.1->openclean) (21.2.0)\n",
            "Requirement already satisfied: pyrsistent!=0.17.0,!=0.17.1,!=0.17.2,>=0.14.0 in /usr/local/lib/python3.7/dist-packages (from jsonschema>=3.2.0->openclean-core==0.4.1->openclean) (0.18.0)\n",
            "Requirement already satisfied: importlib-metadata in /usr/local/lib/python3.7/dist-packages (from jsonschema>=3.2.0->openclean-core==0.4.1->openclean) (4.8.2)\n",
            "Requirement already satisfied: zipp>=3.1.0 in /usr/local/lib/python3.7/dist-packages (from importlib-resources>=1.4.0->jsonschema>=3.2.0->openclean-core==0.4.1->openclean) (3.6.0)\n",
            "Requirement already satisfied: numpy>=1.15.4 in /usr/local/lib/python3.7/dist-packages (from pandas>=1.0.0->openclean-core==0.4.1->openclean) (1.19.5)\n",
            "Requirement already satisfied: pytz>=2017.2 in /usr/local/lib/python3.7/dist-packages (from pandas>=1.0.0->openclean-core==0.4.1->openclean) (2018.9)\n",
            "Requirement already satisfied: six>=1.5 in /usr/local/lib/python3.7/dist-packages (from python-dateutil->openclean-core==0.4.1->openclean) (1.15.0)\n",
            "Requirement already satisfied: tableprint in /usr/local/lib/python3.7/dist-packages (from refdata>=0.2.0->openclean-core==0.4.1->openclean) (0.9.1)\n",
            "Requirement already satisfied: pooch>=1.3.0 in /usr/local/lib/python3.7/dist-packages (from refdata>=0.2.0->openclean-core==0.4.1->openclean) (1.5.2)\n",
            "Requirement already satisfied: datasize>=1.0.0 in /usr/local/lib/python3.7/dist-packages (from refdata>=0.2.0->openclean-core==0.4.1->openclean) (1.0.0)\n",
            "Requirement already satisfied: packaging in /usr/local/lib/python3.7/dist-packages (from pooch>=1.3.0->refdata>=0.2.0->openclean-core==0.4.1->openclean) (21.3)\n",
            "Requirement already satisfied: greenlet!=0.4.17 in /usr/local/lib/python3.7/dist-packages (from SQLAlchemy>=1.3.18->flowserv-core>=0.8.0->openclean-core==0.4.1->openclean) (1.1.2)\n",
            "Requirement already satisfied: gitdb<5,>=4.0.1 in /usr/local/lib/python3.7/dist-packages (from gitpython->flowserv-core>=0.8.0->openclean-core==0.4.1->openclean) (4.0.9)\n",
            "Requirement already satisfied: typing-extensions>=3.7.4.3 in /usr/local/lib/python3.7/dist-packages (from gitpython->flowserv-core>=0.8.0->openclean-core==0.4.1->openclean) (3.10.0.2)\n",
            "Requirement already satisfied: smmap<6,>=3.0.1 in /usr/local/lib/python3.7/dist-packages (from gitdb<5,>=4.0.1->gitpython->flowserv-core>=0.8.0->openclean-core==0.4.1->openclean) (5.0.0)\n",
            "Requirement already satisfied: pyparsing!=3.0.5,>=2.0.2 in /usr/local/lib/python3.7/dist-packages (from packaging->pooch>=1.3.0->refdata>=0.2.0->openclean-core==0.4.1->openclean) (3.0.6)\n",
            "Requirement already satisfied: bcrypt>=3.1.3 in /usr/local/lib/python3.7/dist-packages (from paramiko->flowserv-core>=0.8.0->openclean-core==0.4.1->openclean) (3.2.0)\n",
            "Requirement already satisfied: cryptography>=2.5 in /usr/local/lib/python3.7/dist-packages (from paramiko->flowserv-core>=0.8.0->openclean-core==0.4.1->openclean) (36.0.0)\n",
            "Requirement already satisfied: pynacl>=1.0.1 in /usr/local/lib/python3.7/dist-packages (from paramiko->flowserv-core>=0.8.0->openclean-core==0.4.1->openclean) (1.4.0)\n",
            "Requirement already satisfied: cffi>=1.1 in /usr/local/lib/python3.7/dist-packages (from bcrypt>=3.1.3->paramiko->flowserv-core>=0.8.0->openclean-core==0.4.1->openclean) (1.15.0)\n",
            "Requirement already satisfied: pycparser in /usr/local/lib/python3.7/dist-packages (from cffi>=1.1->bcrypt>=3.1.3->paramiko->flowserv-core>=0.8.0->openclean-core==0.4.1->openclean) (2.21)\n",
            "Requirement already satisfied: urllib3!=1.25.0,!=1.25.1,<1.26,>=1.21.1 in /usr/local/lib/python3.7/dist-packages (from requests->openclean-core==0.4.1->openclean) (1.24.3)\n",
            "Requirement already satisfied: idna<3,>=2.5 in /usr/local/lib/python3.7/dist-packages (from requests->openclean-core==0.4.1->openclean) (2.10)\n",
            "Requirement already satisfied: chardet<4,>=3.0.2 in /usr/local/lib/python3.7/dist-packages (from requests->openclean-core==0.4.1->openclean) (3.0.4)\n",
            "Requirement already satisfied: certifi>=2017.4.17 in /usr/local/lib/python3.7/dist-packages (from requests->openclean-core==0.4.1->openclean) (2021.10.8)\n",
            "Requirement already satisfied: threadpoolctl>=2.0.0 in /usr/local/lib/python3.7/dist-packages (from scikit-learn->openclean-core==0.4.1->openclean) (3.0.0)\n",
            "Requirement already satisfied: joblib>=0.11 in /usr/local/lib/python3.7/dist-packages (from scikit-learn->openclean-core==0.4.1->openclean) (1.1.0)\n",
            "Requirement already satisfied: wcwidth in /usr/local/lib/python3.7/dist-packages (from tableprint->refdata>=0.2.0->openclean-core==0.4.1->openclean) (0.2.5)\n",
            "Requirement already satisfied: uszipcode in /usr/local/lib/python3.7/dist-packages (0.2.6)\n",
            "Requirement already satisfied: attrs in /usr/local/lib/python3.7/dist-packages (from uszipcode) (21.2.0)\n",
            "Requirement already satisfied: requests in /usr/local/lib/python3.7/dist-packages (from uszipcode) (2.23.0)\n",
            "Requirement already satisfied: SQLAlchemy in /usr/local/lib/python3.7/dist-packages (from uszipcode) (1.4.27)\n",
            "Requirement already satisfied: pathlib-mate in /usr/local/lib/python3.7/dist-packages (from uszipcode) (1.0.2)\n",
            "Requirement already satisfied: six in /usr/local/lib/python3.7/dist-packages (from pathlib-mate->uszipcode) (1.15.0)\n",
            "Requirement already satisfied: atomicwrites in /usr/local/lib/python3.7/dist-packages (from pathlib-mate->uszipcode) (1.4.0)\n",
            "Requirement already satisfied: autopep8 in /usr/local/lib/python3.7/dist-packages (from pathlib-mate->uszipcode) (1.6.0)\n",
            "Requirement already satisfied: pycodestyle>=2.8.0 in /usr/local/lib/python3.7/dist-packages (from autopep8->pathlib-mate->uszipcode) (2.8.0)\n",
            "Requirement already satisfied: toml in /usr/local/lib/python3.7/dist-packages (from autopep8->pathlib-mate->uszipcode) (0.10.2)\n",
            "Requirement already satisfied: chardet<4,>=3.0.2 in /usr/local/lib/python3.7/dist-packages (from requests->uszipcode) (3.0.4)\n",
            "Requirement already satisfied: idna<3,>=2.5 in /usr/local/lib/python3.7/dist-packages (from requests->uszipcode) (2.10)\n",
            "Requirement already satisfied: urllib3!=1.25.0,!=1.25.1,<1.26,>=1.21.1 in /usr/local/lib/python3.7/dist-packages (from requests->uszipcode) (1.24.3)\n",
            "Requirement already satisfied: certifi>=2017.4.17 in /usr/local/lib/python3.7/dist-packages (from requests->uszipcode) (2021.10.8)\n",
            "Requirement already satisfied: importlib-metadata in /usr/local/lib/python3.7/dist-packages (from SQLAlchemy->uszipcode) (4.8.2)\n",
            "Requirement already satisfied: greenlet!=0.4.17 in /usr/local/lib/python3.7/dist-packages (from SQLAlchemy->uszipcode) (1.1.2)\n",
            "Requirement already satisfied: zipp>=0.5 in /usr/local/lib/python3.7/dist-packages (from importlib-metadata->SQLAlchemy->uszipcode) (3.6.0)\n",
            "Requirement already satisfied: typing-extensions>=3.6.4 in /usr/local/lib/python3.7/dist-packages (from importlib-metadata->SQLAlchemy->uszipcode) (3.10.0.2)\n",
            "Requirement already satisfied: humanfriendly in /usr/local/lib/python3.7/dist-packages (10.0)\n"
          ]
        }
      ]
    },
    {
      "cell_type": "code",
      "source": [
        "import pandas as pd\n",
        "import uszipcode\n",
        "import gzip\n",
        "import humanfriendly\n",
        "import os"
      ],
      "metadata": {
        "id": "hhmiS5fcI9uO"
      },
      "execution_count": null,
      "outputs": []
    },
    {
      "cell_type": "code",
      "source": [
        "from openclean.data.source.socrata import Socrata\n",
        "from openclean.profiling.column import DefaultColumnProfiler\n",
        "from openclean.profiling.anomalies.sklearn import DBSCANOutliers\n",
        "from openclean.cluster.key import KeyCollision\n",
        "from openclean.function.value.key.fingerprint import Fingerprint"
      ],
      "metadata": {
        "id": "GbsNCCrCJ2BG"
      },
      "execution_count": null,
      "outputs": []
    },
    {
      "cell_type": "code",
      "source": [
        "from pyspark.sql import SparkSession\n",
        "from pyspark.sql.functions import *\n",
        "from pyspark import SparkContext\n",
        "from pyspark.sql.types import *\n",
        "from pyspark.ml.feature import *\n",
        "\n",
        "spark = SparkSession.builder.appName(\"BDProject\").getOrCreate()\n",
        "sc = spark.sparkContext"
      ],
      "metadata": {
        "id": "n9S4u9eXJ4S7"
      },
      "execution_count": null,
      "outputs": []
    },
    {
      "cell_type": "code",
      "source": [
        "df_full_data = spark.read.format(\"csv\") \\\n",
        ".option(\"header\", \"true\") \\\n",
        ".option(\"infer_schema\",\"true\")\\\n",
        ".option(\"first_row_is_header\",\"true\")\\\n",
        ".load(r\"../data/311_Service_Requests_from_2010_to_Present.csv\")\n",
        "df_full_data.createOrReplaceTempView(\"df_full_data\")\n",
        "df_full_data.show()"
      ],
      "metadata": {
        "colab": {
          "base_uri": "https://localhost:8080/"
        },
        "id": "CFT8tEHnJ4Uy",
        "outputId": "f706af22-3831-440a-d895-5170b36cb3d4"
      },
      "execution_count": null,
      "outputs": [
        {
          "output_type": "stream",
          "name": "stdout",
          "text": [
            "+----------+--------------------+--------------------+------+--------------------+--------------------+--------------------+--------------------+------------+--------------------+-----------------+---------------+--------------+---------------------+---------------------+------------+----------------+--------+-------------+------+--------------------+----------------------+------------------------------+------------------+----------+---------+--------------------------+--------------------------+----------------------+------------------+------------+------------+--------------------+---------------------+-------------------+------------------------+---------+----------------------+------------------+------------------+--------------------+\n",
            "|Unique Key|        Created Date|         Closed Date|Agency|         Agency Name|      Complaint Type|          Descriptor|       Location Type|Incident Zip|    Incident Address|      Street Name| Cross Street 1|Cross Street 2|Intersection Street 1|Intersection Street 2|Address Type|            City|Landmark|Facility Type|Status|            Due Date|Resolution Description|Resolution Action Updated Date|   Community Board|       BBL|  Borough|X Coordinate (State Plane)|Y Coordinate (State Plane)|Open Data Channel Type|Park Facility Name|Park Borough|Vehicle Type|Taxi Company Borough|Taxi Pick Up Location|Bridge Highway Name|Bridge Highway Direction|Road Ramp|Bridge Highway Segment|          Latitude|         Longitude|            Location|\n",
            "+----------+--------------------+--------------------+------+--------------------+--------------------+--------------------+--------------------+------------+--------------------+-----------------+---------------+--------------+---------------------+---------------------+------------+----------------+--------+-------------+------+--------------------+----------------------+------------------------------+------------------+----------+---------+--------------------------+--------------------------+----------------------+------------------+------------+------------+--------------------+---------------------+-------------------+------------------------+---------+----------------------+------------------+------------------+--------------------+\n",
            "|  38820187|03/30/2018 05:13:...|03/31/2018 02:57:...|  NYPD|New York City Pol...|     Illegal Parking|     Blocked Hydrant|     Street/Sidewalk|       11218|   61 EAST 10 STREET|   EAST 10 STREET|   CATON AVENUE| CHURCH AVENUE|                 null|                 null|     ADDRESS|        BROOKLYN|    null|     Precinct|Closed|03/31/2018 01:13:...|  The Police Depart...|          03/31/2018 02:57:...|       14 BROOKLYN|3050710049| BROOKLYN|                   992,459|                   175,047|                 PHONE|       Unspecified|    BROOKLYN|        null|                null|                 null|               null|                    null|     null|                  null| 40.64713642293565|-73.97041809151146|(40.6471364229356...|\n",
            "|  38820188|03/30/2018 01:10:...|03/31/2018 12:00:...|  DSNY|   BCC - Queens East|    Dirty Conditions|E2 Receptacle Vio...|            Sidewalk|       11361|     34-28 214 PLACE|        214 PLACE|        33 ROAD|     34 AVENUE|                 null|                 null|     ADDRESS|         Bayside|    null|  DSNY Garage|Closed|                null|  The Department of...|          03/31/2018 12:00:...|         11 QUEENS|4061180021|   QUEENS|                 1,047,442|                   220,182|                 PHONE|       Unspecified|      QUEENS|        null|                null|                 null|               null|                    null|     null|                  null| 40.77079922162434|-73.77185854594998|(40.7707992216243...|\n",
            "|  38820190|03/29/2018 03:35:...|03/30/2018 12:00:...|  DSNY|       A - Manhattan|    Dirty Conditions|   E3 Dirty Sidewalk|            Sidewalk|       10019|        782 9 AVENUE|         9 AVENUE|           null|          null|                 null|                 null|     ADDRESS|        NEW YORK|    null|          N/A|Closed|                null|  The Department of...|          03/30/2018 12:00:...|      04 MANHATTAN|1010430001|MANHATTAN|                   987,587|                   217,924|                 PHONE|       Unspecified|   MANHATTAN|        null|                null|                 null|               null|                    null|     null|                  null| 40.76482683195514|-73.98795355574123|(40.7648268319551...|\n",
            "|  38820192|03/30/2018 03:33:...|04/10/2018 11:08:...|   HPD|Department of Hou...|UNSANITARY CONDITION|               PESTS|RESIDENTIAL BUILDING|       10456|    1133 BOSTON ROAD|      BOSTON ROAD|           null|          null|                 null|                 null|     ADDRESS|           BRONX|    null|          N/A|Closed|                null|  The Department of...|          04/10/2018 11:08:...|          03 BRONX|2026130026|    BRONX|                 1,010,764|                   240,922|                 PHONE|       Unspecified|       BRONX|        null|                null|                 null|               null|                    null|     null|                  null|  40.8279109286989|-73.90419469536265|(40.8279109286989...|\n",
            "|  38820193|03/30/2018 09:55:...|04/12/2018 12:47:...|   HPD|Department of Hou...|UNSANITARY CONDITION|               PESTS|RESIDENTIAL BUILDING|       10024|158 WEST   84 STREET| WEST   84 STREET|           null|          null|                 null|                 null|     ADDRESS|        NEW YORK|    null|          N/A|Closed|                null|  The Department of...|          04/12/2018 12:47:...|      07 MANHATTAN|1012140059|MANHATTAN|                   991,046|                   225,690|                 PHONE|       Unspecified|   MANHATTAN|        null|                null|                 null|               null|                    null|     null|                  null|40.786140479123794| -73.9754588423166|(40.7861404791237...|\n",
            "|  38820195|03/30/2018 09:30:...|04/03/2018 01:56:...|   HPD|Department of Hou...|          WATER LEAK|          HEAVY FLOW|RESIDENTIAL BUILDING|       11204|      6713 19 AVENUE|        19 AVENUE|           null|          null|                 null|                 null|     ADDRESS|        BROOKLYN|    null|          N/A|Closed|                null|  The Department of...|          04/03/2018 01:56:...|       11 BROOKLYN|3055700001| BROOKLYN|                   987,193|                   163,903|                ONLINE|       Unspecified|    BROOKLYN|        null|                null|                 null|               null|                    null|     null|                  null| 40.61655181723908|-73.98939948034023|(40.6165518172390...|\n",
            "|  38820196|03/30/2018 10:42:...|03/31/2018 12:00:...|  DSNY|        A - Brooklyn|    Dirty Conditions|   E3 Dirty Sidewalk|            Sidewalk|       11204|      1837 67 STREET|        67 STREET|      18 AVENUE|     19 AVENUE|                 null|                 null|     ADDRESS|        BROOKLYN|    null|          N/A|Closed|                null|  The Department of...|          03/31/2018 12:00:...|       11 BROOKLYN|3055617501| BROOKLYN|                   986,885|                   164,230|                 PHONE|       Unspecified|    BROOKLYN|        null|                null|                 null|               null|                    null|     null|                  null|40.617449461393555|  -73.990508751303|(40.6174494613935...|\n",
            "|  38820197|03/29/2018 03:38:...|03/31/2018 12:00:...|  DSNY|          A - Queens|    Dirty Conditions|E3A Dirty Area/Al...|                 Lot|       11432|88-34 PARSONS BOU...|PARSONS BOULEVARD|      88 AVENUE|     89 AVENUE|                 null|                 null|     ADDRESS|         Jamaica|    null|          N/A|Closed|                null|  The Department of...|          03/31/2018 12:00:...|         12 QUEENS|4097620041|   QUEENS|                 1,039,143|                   196,684|                 PHONE|       Unspecified|      QUEENS|        null|                null|                 null|               null|                    null|     null|                  null|40.706358634542454| -73.8020119774681|(40.7063586345424...|\n",
            "|  38820198|03/30/2018 03:54:...|05/08/2018 05:01:...|   DPR|Department of Par...|        Damaged Tree|Branch Cracked an...|              Street|       11230|    47 DEKOVEN COURT|    DEKOVEN COURT|       DEAD END|EAST 17 STREET|                 null|                 null|     ADDRESS|        BROOKLYN|    null|          N/A|Closed|04/07/2018 03:54:...|  The Department of...|          05/08/2018 05:01:...|       14 BROOKLYN|3052370153| BROOKLYN|                   994,789|                   169,976|                 PHONE|       Unspecified|    BROOKLYN|        null|                null|                 null|               null|                    null|     null|                  null|40.633215148724524|-73.96202963798126|(40.6332151487245...|\n",
            "|  38820204|03/30/2018 10:22:...|05/03/2018 03:14:...|   HPD|Department of Hou...|          WATER LEAK|           SLOW LEAK|RESIDENTIAL BUILDING|       10456|    289 BONNER PLACE|     BONNER PLACE|           null|          null|                 null|                 null|     ADDRESS|           BRONX|    null|          N/A|Closed|                null|  The Department of...|          05/03/2018 03:14:...|          04 BRONX|2024230016|    BRONX|                 1,007,251|                   240,838|                 PHONE|       Unspecified|       BRONX|        null|                null|                 null|               null|                    null|     null|                  null|40.827690219830004|-73.91688879860206|(40.8276902198300...|\n",
            "|  38820208|03/30/2018 11:52:...|04/03/2018 10:39:...|   DEP|Department of Env...|       Water Quality|Clear Water With ...|                null|       11355| 44-15 COLDEN STREET|    COLDEN STREET|      ELDER AVE|        45 AVE|                 null|                 null|     ADDRESS|        Flushing|    null|          N/A|Closed|                null|  The Department of...|          04/03/2018 10:39:...|         07 QUEENS|4051450024|   QUEENS|                 1,033,015|                   213,138|                ONLINE|       Unspecified|      QUEENS|        null|                null|                 null|               null|                    null|     null|                  null| 40.75155664830534| -73.8239951376963|(40.7515566483053...|\n",
            "|  38820320|03/30/2018 09:52:...|04/05/2018 09:22:...|   DOT|Department of Tra...|    Street Condition|             Pothole|                null|       11427|           85 AVENUE|        85 AVENUE|     209 STREET|    210 STREET|                 null|                 null|   BLOCKFACE|  Queens Village|    null|          N/A|Closed|                null|  The Department of...|          04/05/2018 09:22:...|         11 QUEENS|      null|   QUEENS|                 1,050,936|                   205,051|               UNKNOWN|       Unspecified|      QUEENS|        null|                null|                 null|               null|                    null|     null|                  null| 40.72924293486617|  -73.759394299966|(40.7292429348661...|\n",
            "|  38820210|03/30/2018 01:04:...|04/28/2018 02:07:...|   HPD|Department of Hou...|              SAFETY|           SPRINKLER|RESIDENTIAL BUILDING|       10453| 1812 PALISADE PLACE|   PALISADE PLACE|           null|          null|                 null|                 null|     ADDRESS|           BRONX|    null|          N/A|Closed|                null|  The Department of...|          04/28/2018 02:07:...|          05 BRONX|2028770551|    BRONX|                 1,006,841|                   249,701|                ONLINE|       Unspecified|       BRONX|        null|                null|                 null|               null|                    null|     null|                  null| 40.85201762246602| -73.9183404262998|(40.8520176224660...|\n",
            "|  38820211|03/30/2018 04:44:...|03/30/2018 05:45:...|   DOT|Department of Tra...|Traffic Signal Co...|          Controller|                null|       11101|                null|             null|           null|          null|     QUEENS BOULEVARD|            35 STREET|INTERSECTION|Long Island City|    null|          N/A|Closed|                null|  Service Request s...|          03/30/2018 05:45:...|Unspecified QUEENS|      null|   QUEENS|                 1,003,695|                   210,509|               UNKNOWN|       Unspecified|      QUEENS|        null|                null|                 null|               null|                    null|     null|                  null| 40.74445379340065|-73.92982574105665|(40.7444537934006...|\n",
            "|  38820212|03/30/2018 08:58:...|04/05/2018 02:31:...|   DOT|Department of Tra...|    Street Condition|Failed Street Repair|              Street|       11234|   1930 RYDER STREET|     RYDER STREET|FILLMORE AVENUE|      AVENUE S|                 null|                 null|     ADDRESS|        BROOKLYN|    null|          N/A|Closed|06/28/2018 08:58:...|  \"The Department o...|          04/05/2018 02:31:...|       18 BROOKLYN|3085050056| BROOKLYN|                 1,003,590|                   162,320|                 PHONE|       Unspecified|    BROOKLYN|        null|                null|                 null|               null|                    null|     null|                  null| 40.61218619178131|-73.93034296156624|(40.6121861917813...|\n",
            "|  38820213|03/30/2018 09:01:...|04/02/2018 12:15:...|   DEP|Department of Env...|               Noise|Noise: Constructi...|                null|       11372|     34-32 91 STREET|        91 STREET|         34 AVE|        35 AVE|                 null|                 null|     ADDRESS| Jackson Heights|    null|          N/A|Closed|                null|  The Department of...|          04/02/2018 12:15:...|         03 QUEENS|4014510012|   QUEENS|                 1,018,455|                   213,946|                 PHONE|       Unspecified|      QUEENS|        null|                null|                 null|               null|                    null|     null|                  null|  40.7538427108057|-73.87654155926657|(40.7538427108057...|\n",
            "|  38820214|03/30/2018 11:45:...|04/03/2018 12:00:...|   DOB|Department of Bui...|             Boilers|Boiler - Defectiv...|                null|       11105|21-74 STEINWAY ST...|  STEINWAY STREET|           null|          null|                 null|                 null|     ADDRESS|         Astoria|    null|          N/A|Closed|                null|  The Department of...|          04/03/2018 12:00:...|         01 QUEENS|4008070063|   QUEENS|                 1,010,466|                   221,079|               UNKNOWN|       Unspecified|      QUEENS|        null|                null|                 null|               null|                    null|     null|                  null|40.773448241199766|-73.90534895750682|(40.7734482411997...|\n",
            "|  38820215|03/30/2018 04:58:...|04/02/2018 12:00:...|   DOB|Department of Bui...|        Building/Use|Zoning - Non-Conf...|                null|       11355| 143-49 BEECH AVENUE|     BEECH AVENUE|           null|          null|                 null|                 null|     ADDRESS|        Flushing|    null|          N/A|Closed|                null|  The Department of...|          04/02/2018 12:00:...|         07 QUEENS|4051890021|   QUEENS|                 1,034,305|                   215,138|               UNKNOWN|       Unspecified|      QUEENS|        null|                null|                 null|               null|                    null|     null|                  null| 40.75703892029294|-73.81932433524692|(40.7570389202929...|\n",
            "|  38820216|03/30/2018 02:46:...|06/11/2018 02:39:...|   TLC|Taxi and Limousin...|      Taxi Complaint|    Driver Complaint|                null|       11226|                null|             null|           null|          null|     EAST   18 STREET|       CORTELYOU ROAD|INTERSECTION|        BROOKLYN|    null|          N/A|Closed|05/02/2018 09:11:...|  A hearing was sch...|          06/11/2018 02:39:...|       14 BROOKLYN|      null| BROOKLYN|                   994,866|                   173,331|                ONLINE|       Unspecified|    BROOKLYN|        null|                null|                Other|               null|                    null|     null|                  null| 40.64242381497732|-73.96174694057026|(40.6424238149773...|\n",
            "|  38820218|03/30/2018 10:03:...|04/16/2018 03:07:...|   HPD|Department of Hou...|UNSANITARY CONDITION|GARBAGE/RECYCLING...|RESIDENTIAL BUILDING|       11213|  43 KINGSTON AVENUE|  KINGSTON AVENUE|           null|          null|                 null|                 null|     ADDRESS|        BROOKLYN|    null|          N/A|Closed|                null|  The Department of...|          04/16/2018 03:07:...|       03 BROOKLYN|3018710001| BROOKLYN|                 1,000,524|                   186,449|                ONLINE|       Unspecified|    BROOKLYN|        null|                null|                 null|               null|                    null|     null|                  null| 40.67842123619996|-73.94132758642408|(40.6784212361999...|\n",
            "+----------+--------------------+--------------------+------+--------------------+--------------------+--------------------+--------------------+------------+--------------------+-----------------+---------------+--------------+---------------------+---------------------+------------+----------------+--------+-------------+------+--------------------+----------------------+------------------------------+------------------+----------+---------+--------------------------+--------------------------+----------------------+------------------+------------+------------+--------------------+---------------------+-------------------+------------------------+---------+----------------------+------------------+------------------+--------------------+\n",
            "only showing top 20 rows\n",
            "\n"
          ]
        }
      ]
    },
    {
      "cell_type": "code",
      "source": [
        "df_full_data.count()"
      ],
      "metadata": {
        "colab": {
          "base_uri": "https://localhost:8080/"
        },
        "id": "ae6BBCaNJ4XD",
        "outputId": "6a4a3885-94b9-4ecd-8497-51be3049a266"
      },
      "execution_count": null,
      "outputs": [
        {
          "output_type": "execute_result",
          "data": {
            "text/plain": [
              "27130961"
            ]
          },
          "metadata": {},
          "execution_count": 9
        }
      ]
    },
    {
      "cell_type": "code",
      "source": [
        "df_full_data.printSchema()"
      ],
      "metadata": {
        "colab": {
          "base_uri": "https://localhost:8080/"
        },
        "id": "--Nk_EKuJ4Zs",
        "outputId": "3c8ed122-bf7f-4e5f-f8bf-43af409599e8"
      },
      "execution_count": null,
      "outputs": [
        {
          "output_type": "stream",
          "name": "stdout",
          "text": [
            "root\n",
            " |-- Unique Key: string (nullable = true)\n",
            " |-- Created Date: string (nullable = true)\n",
            " |-- Closed Date: string (nullable = true)\n",
            " |-- Agency: string (nullable = true)\n",
            " |-- Agency Name: string (nullable = true)\n",
            " |-- Complaint Type: string (nullable = true)\n",
            " |-- Descriptor: string (nullable = true)\n",
            " |-- Location Type: string (nullable = true)\n",
            " |-- Incident Zip: string (nullable = true)\n",
            " |-- Incident Address: string (nullable = true)\n",
            " |-- Street Name: string (nullable = true)\n",
            " |-- Cross Street 1: string (nullable = true)\n",
            " |-- Cross Street 2: string (nullable = true)\n",
            " |-- Intersection Street 1: string (nullable = true)\n",
            " |-- Intersection Street 2: string (nullable = true)\n",
            " |-- Address Type: string (nullable = true)\n",
            " |-- City: string (nullable = true)\n",
            " |-- Landmark: string (nullable = true)\n",
            " |-- Facility Type: string (nullable = true)\n",
            " |-- Status: string (nullable = true)\n",
            " |-- Due Date: string (nullable = true)\n",
            " |-- Resolution Description: string (nullable = true)\n",
            " |-- Resolution Action Updated Date: string (nullable = true)\n",
            " |-- Community Board: string (nullable = true)\n",
            " |-- BBL: string (nullable = true)\n",
            " |-- Borough: string (nullable = true)\n",
            " |-- X Coordinate (State Plane): string (nullable = true)\n",
            " |-- Y Coordinate (State Plane): string (nullable = true)\n",
            " |-- Open Data Channel Type: string (nullable = true)\n",
            " |-- Park Facility Name: string (nullable = true)\n",
            " |-- Park Borough: string (nullable = true)\n",
            " |-- Vehicle Type: string (nullable = true)\n",
            " |-- Taxi Company Borough: string (nullable = true)\n",
            " |-- Taxi Pick Up Location: string (nullable = true)\n",
            " |-- Bridge Highway Name: string (nullable = true)\n",
            " |-- Bridge Highway Direction: string (nullable = true)\n",
            " |-- Road Ramp: string (nullable = true)\n",
            " |-- Bridge Highway Segment: string (nullable = true)\n",
            " |-- Latitude: string (nullable = true)\n",
            " |-- Longitude: string (nullable = true)\n",
            " |-- Location: string (nullable = true)\n",
            "\n"
          ]
        }
      ]
    },
    {
      "cell_type": "code",
      "source": [
        "df_full_data = df_full_data.withColumnRenamed(\"Unique Key\",\"Unique_Key\")"
      ],
      "metadata": {
        "id": "QL9QkOhKJ4b_"
      },
      "execution_count": null,
      "outputs": []
    },
    {
      "cell_type": "code",
      "source": [
        "df_full_data = df_full_data.withColumnRenamed(\"Created Date\",\"Created_Date\")\n",
        "df_full_data = df_full_data.withColumnRenamed(\"Closed Date\",\"Closed_Date\")\n",
        "df_full_data = df_full_data.withColumnRenamed(\"Agency Name\",\"Agency_Name\")\n",
        "df_full_data = df_full_data.withColumnRenamed(\"Complaint Type\",\"Complaint_Type\")\n",
        "df_full_data = df_full_data.withColumnRenamed(\"Location Type\",\"Location_Type\")\n",
        "df_full_data = df_full_data.withColumnRenamed(\"Incident Zip\",\"Incident_Zip\")\n",
        "df_full_data = df_full_data.withColumnRenamed(\"Incident Address\",\"Incident_Address\")\n",
        "df_full_data = df_full_data.withColumnRenamed(\"Street Name\",\"Street_Name\")\n",
        "df_full_data = df_full_data.withColumnRenamed(\"Cross Street 1\",\"Cross_Street_1\")\n",
        "df_full_data = df_full_data.withColumnRenamed(\"Cross Street 2\",\"Cross_Street_2\")\n",
        "df_full_data = df_full_data.withColumnRenamed(\"Intersection Street 1\",\"Intersection_Street_1\")\n",
        "df_full_data = df_full_data.withColumnRenamed(\"Intersection Street 2\",\"Intersection_Street_2\")\n",
        "df_full_data = df_full_data.withColumnRenamed(\"Address Type\",\"Address_Type\")\n",
        "df_full_data = df_full_data.withColumnRenamed(\"Facility Type\",\"Facility_Type\")\n",
        "df_full_data = df_full_data.withColumnRenamed(\"Due Date\",\"Due_Date\")\n",
        "df_full_data = df_full_data.withColumnRenamed(\"Resolution Description\",\"Resolution_Description\")\n",
        "df_full_data = df_full_data.withColumnRenamed(\"Resolution Action Updated Date\",\"Resolution_Action_Updated_Date\")\n",
        "df_full_data = df_full_data.withColumnRenamed(\"Community Board\",\"Community_Board\")\n",
        "df_full_data = df_full_data.withColumnRenamed(\"Park Borough\",\"Park_Borough\")"
      ],
      "metadata": {
        "id": "aYuVe1piJ4em"
      },
      "execution_count": null,
      "outputs": []
    },
    {
      "cell_type": "code",
      "source": [
        "df_full_data.printSchema()"
      ],
      "metadata": {
        "colab": {
          "base_uri": "https://localhost:8080/"
        },
        "id": "1IUq93nRJ4jD",
        "outputId": "6bf88e79-c190-409e-f588-1b1a8080ccad"
      },
      "execution_count": null,
      "outputs": [
        {
          "output_type": "stream",
          "name": "stdout",
          "text": [
            "root\n",
            " |-- Unique_Key: string (nullable = true)\n",
            " |-- Created_Date: string (nullable = true)\n",
            " |-- Closed_Date: string (nullable = true)\n",
            " |-- Agency: string (nullable = true)\n",
            " |-- Agency_Name: string (nullable = true)\n",
            " |-- Complaint_Type: string (nullable = true)\n",
            " |-- Descriptor: string (nullable = true)\n",
            " |-- Location_Type: string (nullable = true)\n",
            " |-- Incident_Zip: string (nullable = true)\n",
            " |-- Incident_Address: string (nullable = true)\n",
            " |-- Street_Name: string (nullable = true)\n",
            " |-- Cross_Street_1: string (nullable = true)\n",
            " |-- Cross_Street_2: string (nullable = true)\n",
            " |-- Intersection_Street_1: string (nullable = true)\n",
            " |-- Intersection_Street_2: string (nullable = true)\n",
            " |-- Address_Type: string (nullable = true)\n",
            " |-- City: string (nullable = true)\n",
            " |-- Landmark: string (nullable = true)\n",
            " |-- Facility_Type: string (nullable = true)\n",
            " |-- Status: string (nullable = true)\n",
            " |-- Due_Date: string (nullable = true)\n",
            " |-- Resolution_Description: string (nullable = true)\n",
            " |-- Resolution_Action_Updated_Date: string (nullable = true)\n",
            " |-- Community_Board: string (nullable = true)\n",
            " |-- BBL: string (nullable = true)\n",
            " |-- Borough: string (nullable = true)\n",
            " |-- X Coordinate (State Plane): string (nullable = true)\n",
            " |-- Y Coordinate (State Plane): string (nullable = true)\n",
            " |-- Open Data Channel Type: string (nullable = true)\n",
            " |-- Park Facility Name: string (nullable = true)\n",
            " |-- Park_Borough: string (nullable = true)\n",
            " |-- Vehicle Type: string (nullable = true)\n",
            " |-- Taxi Company Borough: string (nullable = true)\n",
            " |-- Taxi Pick Up Location: string (nullable = true)\n",
            " |-- Bridge Highway Name: string (nullable = true)\n",
            " |-- Bridge Highway Direction: string (nullable = true)\n",
            " |-- Road Ramp: string (nullable = true)\n",
            " |-- Bridge Highway Segment: string (nullable = true)\n",
            " |-- Latitude: string (nullable = true)\n",
            " |-- Longitude: string (nullable = true)\n",
            " |-- Location: string (nullable = true)\n",
            "\n"
          ]
        }
      ]
    },
    {
      "cell_type": "code",
      "source": [
        ""
      ],
      "metadata": {
        "id": "ED0_4LxNVawe"
      },
      "execution_count": null,
      "outputs": []
    },
    {
      "cell_type": "markdown",
      "source": [
        "## **Working with NULL Values**"
      ],
      "metadata": {
        "id": "OFjSiOiOkWt3"
      }
    },
    {
      "cell_type": "markdown",
      "source": [
        "Drop Rows if all column values in a row are null"
      ],
      "metadata": {
        "id": "ixjQ6AtAkbm3"
      }
    },
    {
      "cell_type": "code",
      "source": [
        "df_full_data = df_full_data.na.drop(\"all\")"
      ],
      "metadata": {
        "id": "QBP83ZRbjc2p"
      },
      "execution_count": null,
      "outputs": []
    },
    {
      "cell_type": "markdown",
      "source": [
        "As seen below, our data did not contain any rows with rows containing all null values"
      ],
      "metadata": {
        "id": "Og75CjEWkid7"
      }
    },
    {
      "cell_type": "code",
      "source": [
        "df_full_data.count()"
      ],
      "metadata": {
        "colab": {
          "base_uri": "https://localhost:8080/"
        },
        "id": "rf_1R4JvjgRU",
        "outputId": "2b8c6a8f-f6c7-4071-ccc9-d72ff035cace"
      },
      "execution_count": null,
      "outputs": [
        {
          "output_type": "execute_result",
          "data": {
            "text/plain": [
              "27130961"
            ]
          },
          "metadata": {},
          "execution_count": 15
        }
      ]
    },
    {
      "cell_type": "markdown",
      "source": [
        "Drop Columns containing more than 75% null values."
      ],
      "metadata": {
        "id": "GsVLquV6kmay"
      }
    },
    {
      "cell_type": "code",
      "source": [
        "null_col_data = df_full_data.select([(count(when(col(c).isNull(), c))/df_full_data.count()).alias(c) for c in df_full_data.columns]).collect()\n",
        "#null_col_data"
      ],
      "metadata": {
        "id": "Tdk3wtmFjidL"
      },
      "execution_count": null,
      "outputs": []
    },
    {
      "cell_type": "markdown",
      "source": [
        "The above data shows the percentage of Null values present in each column of our dataset. Percentage is displayed within range 0-1."
      ],
      "metadata": {
        "id": "qZXNyfQskrdt"
      }
    },
    {
      "cell_type": "markdown",
      "source": [
        "We will remove columns containing more than 75% Null values."
      ],
      "metadata": {
        "id": "18GXAJJYkssm"
      }
    },
    {
      "cell_type": "code",
      "source": [
        "#Current number of columns in the dataset including the index column.\n",
        "len(df_full_data.columns)"
      ],
      "metadata": {
        "colab": {
          "base_uri": "https://localhost:8080/"
        },
        "id": "sZ7B5z-Kjo8P",
        "outputId": "133519e8-90de-43aa-f500-771487409cb2"
      },
      "execution_count": null,
      "outputs": [
        {
          "output_type": "execute_result",
          "data": {
            "text/plain": [
              "41"
            ]
          },
          "metadata": {},
          "execution_count": 18
        }
      ]
    },
    {
      "cell_type": "code",
      "source": [
        "#Converting Null value data to a dictionary\n",
        "null_dict_list = [row.asDict() for row in null_col_data]\n",
        "null_dict = null_dict_list[0] "
      ],
      "metadata": {
        "id": "PAYnrkvdjrzA"
      },
      "execution_count": null,
      "outputs": []
    },
    {
      "cell_type": "code",
      "source": [
        "null_dict"
      ],
      "metadata": {
        "colab": {
          "base_uri": "https://localhost:8080/"
        },
        "id": "UBZpxANSjt3Q",
        "outputId": "cb1db239-4ca9-4a9e-cfc9-ed5a2fd4ace3"
      },
      "execution_count": null,
      "outputs": [
        {
          "output_type": "execute_result",
          "data": {
            "text/plain": [
              "{'Address_Type': 0.52,\n",
              " 'Agency': 0.0,\n",
              " 'Agency_Name': 0.0,\n",
              " 'BBL': 0.5459406666666666,\n",
              " 'Borough': 0.012646,\n",
              " 'Bridge Highway Direction': 0.9948233333333333,\n",
              " 'Bridge Highway Name': 0.9947166666666667,\n",
              " 'Bridge Highway Segment': 0.9946873333333334,\n",
              " 'City': 0.3392153333333333,\n",
              " 'Closed_Date': 0.04949,\n",
              " 'Community_Board': 0.012646,\n",
              " 'Complaint_Type': 0.0,\n",
              " 'Created_Date': 0.0,\n",
              " 'Cross_Street_1': 0.5335506666666666,\n",
              " 'Cross_Street_2': 0.54303,\n",
              " 'Descriptor': 0.0032593333333333333,\n",
              " 'Due_Date': 0.682708,\n",
              " 'Facility_Type': 0.44323,\n",
              " 'Incident_Address': 0.34485266666666664,\n",
              " 'Incident_Zip': 0.3192426666666667,\n",
              " 'Intersection_Street_1': 0.6206986666666666,\n",
              " 'Intersection_Street_2': 0.6230033333333334,\n",
              " 'Landmark': 0.762316,\n",
              " 'Latitude': 0.47852466666666665,\n",
              " 'Location': 0.47851266666666664,\n",
              " 'Location_Type': 0.305324,\n",
              " 'Longitude': 0.47852466666666665,\n",
              " 'Open Data Channel Type': 1.2666666666666667e-05,\n",
              " 'Park Facility Name': 1.2666666666666667e-05,\n",
              " 'Park_Borough': 0.012646,\n",
              " 'Resolution_Action_Updated_Date': 0.05073866666666667,\n",
              " 'Resolution_Description': 0.024336,\n",
              " 'Road Ramp': 0.9948666666666667,\n",
              " 'Status': 0.0,\n",
              " 'Street_Name': 0.34491133333333335,\n",
              " 'Taxi Company Borough': 0.9989966666666666,\n",
              " 'Taxi Pick Up Location': 0.9869713333333333,\n",
              " 'Unique_Key': 0.0,\n",
              " 'Vehicle Type': 0.9994933333333333,\n",
              " 'X Coordinate (State Plane)': 0.47851666666666665,\n",
              " 'Y Coordinate (State Plane)': 0.47848066666666667,\n",
              " '_c0': 0.0}"
            ]
          },
          "metadata": {},
          "execution_count": 59
        }
      ]
    },
    {
      "cell_type": "markdown",
      "source": [
        "Finding Columns containing more than 75% null values."
      ],
      "metadata": {
        "id": "jcOxBamYk2H_"
      }
    },
    {
      "cell_type": "code",
      "source": [
        "col_null_75p=list({i for i in null_dict if null_dict[i] > 0.75})\n",
        "print(col_null_75p)"
      ],
      "metadata": {
        "colab": {
          "base_uri": "https://localhost:8080/"
        },
        "id": "UhUoJZksjv0h",
        "outputId": "0d6bbcd1-17f9-48b7-cb97-26b155e512b6"
      },
      "execution_count": null,
      "outputs": [
        {
          "output_type": "stream",
          "name": "stdout",
          "text": [
            "['Bridge Highway Segment', 'Road Ramp', 'Landmark', 'Vehicle Type', 'Bridge Highway Name', 'Taxi Pick Up Location', 'Taxi Company Borough', 'Bridge Highway Direction']\n"
          ]
        }
      ]
    },
    {
      "cell_type": "code",
      "source": [
        "df_data = df_data.drop(*col_null_75p)"
      ],
      "metadata": {
        "id": "qYsMwxF0jyWl"
      },
      "execution_count": null,
      "outputs": []
    },
    {
      "cell_type": "markdown",
      "source": [
        "Specified columns droppped."
      ],
      "metadata": {
        "id": "MGdxXZYgk-yL"
      }
    },
    {
      "cell_type": "code",
      "source": [
        "df_data.show()"
      ],
      "metadata": {
        "colab": {
          "base_uri": "https://localhost:8080/"
        },
        "id": "QT0It3R1j07T",
        "outputId": "d1547cff-3e96-4503-d166-0ca3f19b17ac"
      },
      "execution_count": null,
      "outputs": [
        {
          "output_type": "stream",
          "name": "stdout",
          "text": [
            "+---+----------+--------------------+--------------------+------+--------------------+--------------------+--------------------+-------------------+------------+--------------------+----------------+----------------+-------------------+---------------------+---------------------+------------+----------------+-------------+-----------+--------+----------------------+------------------------------+------------------+----------+-----------+--------------------------+--------------------------+----------------------+------------------+------------+------------------+------------------+--------------------+\n",
            "|_c0|Unique_Key|        Created_Date|         Closed_Date|Agency|         Agency_Name|      Complaint_Type|          Descriptor|      Location_Type|Incident_Zip|    Incident_Address|     Street_Name|  Cross_Street_1|     Cross_Street_2|Intersection_Street_1|Intersection_Street_2|Address_Type|            City|Facility_Type|     Status|Due_Date|Resolution_Description|Resolution_Action_Updated_Date|   Community_Board|       BBL|    Borough|X Coordinate (State Plane)|Y Coordinate (State Plane)|Open Data Channel Type|Park Facility Name|Park_Borough|          Latitude|         Longitude|            Location|\n",
            "+---+----------+--------------------+--------------------+------+--------------------+--------------------+--------------------+-------------------+------------+--------------------+----------------+----------------+-------------------+---------------------+---------------------+------------+----------------+-------------+-----------+--------+----------------------+------------------------------+------------------+----------+-----------+--------------------------+--------------------------+----------------------+------------------+------------+------------------+------------------+--------------------+\n",
            "|  0|  51560911|08/17/2021 07:34:...|08/17/2021 09:34:...|  NYPD|New York City Pol...|     Illegal Parking|    Blocked Sidewalk|    Street/Sidewalk|       11421|     92-13 92 AVENUE|       92 AVENUE|       92 STREET|WOODHAVEN BOULEVARD|            92 STREET|  WOODHAVEN BOULEVARD|        null|       WOODHAVEN|         null|     Closed|    null|  The Police Depart...|          08/17/2021 09:34:...|         09 QUEENS|4089860017|     QUEENS|                   1025640|                    190277|                MOBILE|       Unspecified|      QUEENS| 40.68884640295723|-73.85075384808735|(40.6888464029572...|\n",
            "|  1|  51560923|08/17/2021 06:04:...|08/17/2021 07:25:...|  NYPD|New York City Pol...|     Illegal Parking|    Blocked Sidewalk|    Street/Sidewalk|       10468|      CLAFLIN AVENUE|  CLAFLIN AVENUE|  CLAFLIN AVENUE|   WEST  195 STREET|       CLAFLIN AVENUE|     WEST  195 STREET|        null|            null|         null|     Closed|    null|  The Police Depart...|          08/17/2021 07:25:...|          08 BRONX|      null|      BRONX|                   1011740|                    256343|                 PHONE|       Unspecified|       BRONX| 40.87023400587434|-73.90060480716431|(40.8702340058743...|\n",
            "|  2|  50469886|05/04/2021 11:40:...|07/21/2021 01:55:...|   DOT|Department of Tra...|Street Light Cond...|    Street Light Out|               null|       11214|                null|            null|            null|               null|   NEW UTRECHT AVENUE|            84 STREET|INTERSECTION|        BROOKLYN|         null|     Closed|    null|  Service Request s...|          07/21/2021 01:55:...|       11 BROOKLYN|      null|   BROOKLYN|                    983735|                    161202|               UNKNOWN|       Unspecified|    BROOKLYN| 40.60913860285155|-74.00185479490075|(40.6091386028515...|\n",
            "|  3|  50470191|05/04/2021 04:31:...|                null|   DPR|Department of Par...|    New Tree Request|     For One Address|             Street|       11229|2041 EAST   18 ST...|EAST   18 STREET|        AVENUE T|           AVENUE U|             AVENUE T|             AVENUE U|        null|        BROOKLYN|         null|In Progress|    null|                  null|                          null|       15 BROOKLYN|3073230065|   BROOKLYN|                    997085|                    158030|               UNKNOWN|       Unspecified|    BROOKLYN|40.600422830424975|-73.95378022131071|(40.6004228304249...|\n",
            "|  4|  50470218|05/05/2021 01:47:...|10/01/2021 10:53:...| DOHMH|Department of Hea...|              Rodent|    Signs of Rodents|1-2 Family Dwelling|       11420|   115-44 135 STREET|      135 STREET|      115 AVENUE|         116 AVENUE|           115 AVENUE|           116 AVENUE|     ADDRESS|South Ozone Park|         null|     Closed|    null|  This service requ...|          05/05/2021 01:47:...|         10 QUEENS|4116770025|     QUEENS|                   1038085|                    187070|                MOBILE|       Unspecified|      QUEENS| 40.67997699346374| -73.8059047916443|(40.6799769934637...|\n",
            "|  5|  51561558|08/17/2021 10:09:...|09/20/2021 12:00:...|   DOB|Department of Bui...|        Building/Use|Illegal Conversio...|               null|       11420|   130-47 115 STREET|      115 STREET|            null|               null|                 null|                 null|     ADDRESS|South Ozone Park|         null|   Assigned|    null|  The Department of...|          09/20/2021 12:00:...|         10 QUEENS|4117220013|     QUEENS|                   1033205|                    185078|               UNKNOWN|       Unspecified|      QUEENS| 40.67453774844052|-73.82351342734557|(40.6745377484405...|\n",
            "|  6|  50470376|05/04/2021 08:17:...|05/04/2021 08:30:...|  NYPD|New York City Pol...|   Abandoned Vehicle|  With License Plate|    Street/Sidewalk|       10469|  1111 WARING AVENUE|   WARING AVENUE|  LACONIA AVENUE|       YATES AVENUE|       LACONIA AVENUE|         YATES AVENUE|        null|           BRONX|         null|     Closed|    null|  The Police Depart...|          05/04/2021 08:30:...|          11 BRONX|2044530003|      BRONX|                   1024236|                    253045|                 PHONE|       Unspecified|       BRONX|40.861134246791956|-73.85544294948706|(40.8611342467919...|\n",
            "|  7|  51561576|08/17/2021 07:45:...|08/17/2021 08:39:...|  NYPD|New York City Pol...|    Blocked Driveway|           No Access|    Street/Sidewalk|       10456|    1297 CLAY AVENUE|     CLAY AVENUE|EAST  169 STREET|   EAST  170 STREET|     EAST  169 STREET|     EAST  170 STREET|        null|           BRONX|         null|     Closed|    null|  The Police Depart...|          08/17/2021 08:39:...|          04 BRONX|2027820146|      BRONX|                   1009380|                    243468|                ONLINE|       Unspecified|       BRONX|  40.8349030100631|-73.90918607978982|(40.8349030100631...|\n",
            "|  8|  50470422|05/04/2021 06:57:...|05/14/2021 07:15:...|   DEP|Department of Env...|         Air Quality|Air: Odor/Fumes, ...|               null|       11217|   21 ST JOHNS PLACE|  ST JOHNS PLACE|           5 AVE|              6 AVE|                 null|                 null|     ADDRESS|        BROOKLYN|          N/A|     Closed|    null|  The Department of...|          05/14/2021 07:15:...|       06 BROOKLYN|3009440075|   BROOKLYN|                    990271|                    186327|                ONLINE|       Unspecified|    BROOKLYN| 40.67809928553341| -73.9782926831807|(40.6780992855334...|\n",
            "|  9|  51561680|08/17/2021 05:08:...|08/18/2021 09:46:...|   DOT|Department of Tra...|Broken Parking Meter|Coin or Card Did ...|             Street|        null|                null|            null|            null|               null|                 null|                 null|        null|            null|         null|     Closed|    null|  \"The Department o...|          08/18/2021 09:46:...|     0 Unspecified|      null|Unspecified|                      null|                      null|                ONLINE|       Unspecified| Unspecified|              null|              null|                null|\n",
            "| 10|  51561816|08/17/2021 03:34:...|08/17/2021 03:34:...| DOHMH|Department of Hea...|      Standing Water|Other - Explain B...|              Other|       11357| 24-19 MURRAY STREET|   MURRAY STREET|       24 AVENUE|            24 ROAD|            24 AVENUE|              24 ROAD|     ADDRESS|      Whitestone|         null|     Closed|    null|  An inspection of ...|          08/17/2021 03:34:...|         07 QUEENS|4047130086|     QUEENS|                   1036139|                    222235|                ONLINE|       Unspecified|      QUEENS| 40.77650772933667| -73.8126496649509|(40.7765077293366...|\n",
            "| 11|  51562079|08/17/2021 08:57:...|08/17/2021 09:32:...|  NYPD|New York City Pol...|     Illegal Parking|     Blocked Hydrant|    Street/Sidewalk|       11369|     32-20 92 STREET|       92 STREET|       32 AVENUE| NORTHERN BOULEVARD|            32 AVENUE|   NORTHERN BOULEVARD|        null|   EAST ELMHURST|         null|     Closed|    null|  The Police Depart...|          08/17/2021 09:32:...|         03 QUEENS|4014210001|     QUEENS|                   1018505|                    215474|                ONLINE|       Unspecified|      QUEENS| 40.75803648392323| -73.8763533063131|(40.7580364839232...|\n",
            "| 12|  50470849|05/04/2021 09:50:...|05/04/2021 09:58:...|  NYPD|New York City Pol...|    Blocked Driveway|           No Access|    Street/Sidewalk|       11215|    641 UNION STREET|    UNION STREET|        3 AVENUE|           4 AVENUE|             3 AVENUE|             4 AVENUE|        null|        BROOKLYN|         null|     Closed|    null|  The Police Depart...|          05/04/2021 09:58:...|       06 BROOKLYN|      null|   BROOKLYN|                    988700|                    186208|                ONLINE|       Unspecified|    BROOKLYN| 40.67777358660018|-73.98395663716367|(40.6777735866001...|\n",
            "| 13|  43666487|08/28/2019 09:08:...|11/11/2019 10:36:...|   DPR|Department of Par...|        Damaged Tree|Branch or Limb Ha...|             Street|       11210|1147 EAST   23 ST...|EAST   23 STREET|        AVENUE K|           AVENUE L|             AVENUE K|             AVENUE L|        null|        BROOKLYN|         null|     Closed|    null|  NYC Parks visited...|          11/11/2019 10:36:...|       14 BROOKLYN|3076230024|   BROOKLYN|                    997345|                    166078|                 PHONE|       Unspecified|    BROOKLYN|  40.6225125507543|-73.95282833568574|(40.6225125507543...|\n",
            "| 14|  51562435|08/17/2021 07:40:...|08/17/2021 11:59:...|  NYPD|New York City Pol...|          Encampment|                 N/A|            Highway|        null|                null|            null|            null|               null|                 null|                 null|        null|            null|         null|     Closed|    null|  The Police Depart...|          08/17/2021 11:59:...|Unspecified QUEENS|      null|     QUEENS|                      null|                      null|                 PHONE|       Unspecified|      QUEENS|              null|              null|                null|\n",
            "| 15|  51562452|08/16/2021 05:55:...|08/19/2021 12:00:...|   DOT|Department of Tra...|Street Light Cond...|Traffic Signal Light|               null|       11233|                null|            null|            null|               null|         RALPH AVENUE|        FULTON STREET|INTERSECTION|        BROOKLYN|         null|     Closed|    null|  Service Request s...|          08/19/2021 12:00:...|       03 BROOKLYN|      null|   BROOKLYN|                   1005983|                    186617|               UNKNOWN|       Unspecified|    BROOKLYN|40.678870638669714|-73.92164580117114|(40.6788706386697...|\n",
            "| 16|  50470954|05/04/2021 03:39:...|09/28/2021 09:33:...|   DOT|Department of Tra...|  Sidewalk Condition|     Broken Sidewalk|           Sidewalk|       10034|       4841 BROADWAY|        BROADWAY|        BROADWAY|      COOPER STREET|             BROADWAY|        COOPER STREET|     ADDRESS|        NEW YORK|         null|     Closed|    null|  \"The Department o...|          09/28/2021 09:34:...|      12 MANHATTAN|1022380042|  MANHATTAN|                   1005004|                    254993|                MOBILE|       Unspecified|   MANHATTAN| 40.86654707683918|-73.92496423167476|(40.8665470768391...|\n",
            "| 17|  50471124|05/04/2021 08:22:...|05/04/2021 10:59:...|  NYPD|New York City Pol...|    Blocked Driveway|      Partial Access|    Street/Sidewalk|       11103|     31-16 43 STREET|       43 STREET|       31 AVENUE|           BROADWAY|            31 AVENUE|             BROADWAY|        null|         ASTORIA|         null|     Closed|    null|  The Police Depart...|          05/04/2021 10:59:...|         01 QUEENS|4006920051|     QUEENS|                   1007740|                    216021|                MOBILE|       Unspecified|      QUEENS| 40.75957301177476|-73.91520866078258|(40.7595730117747...|\n",
            "| 18|  41830090|02/27/2019 07:51:...|03/03/2019 12:00:...|  DSNY|Department of San...|Request Large Bul...|Request Large Bul...|           Sidewalk|       11421|     84-48 98 STREET|       98 STREET|            BEND|    PARK LANE SOUTH|                 null|                 null|     ADDRESS|       Woodhaven|          N/A|     Closed|    null|                  null|          03/03/2019 12:00:...|         09 QUEENS|4039077501|     QUEENS|                   1025825|                    193956|                 PHONE|       Unspecified|      QUEENS| 40.69894352424785|-73.85006406042807|(40.6989435242478...|\n",
            "| 19|  50471372|05/04/2021 03:31:...|05/04/2021 03:51:...|  NYPD|New York City Pol...|     Illegal Parking|     Blocked Hydrant|    Street/Sidewalk|       11220|       641 54 STREET|       54 STREET|        6 AVENUE|           7 AVENUE|             6 AVENUE|             7 AVENUE|        null|        BROOKLYN|         null|     Closed|    null|  The Police Depart...|          05/04/2021 03:51:...|       07 BROOKLYN|3008170058|   BROOKLYN|                    981620|                    172796|                MOBILE|       Unspecified|    BROOKLYN|40.640961326602415|-74.00947657670358|(40.6409613266024...|\n",
            "+---+----------+--------------------+--------------------+------+--------------------+--------------------+--------------------+-------------------+------------+--------------------+----------------+----------------+-------------------+---------------------+---------------------+------------+----------------+-------------+-----------+--------+----------------------+------------------------------+------------------+----------+-----------+--------------------------+--------------------------+----------------------+------------------+------------+------------------+------------------+--------------------+\n",
            "only showing top 20 rows\n",
            "\n"
          ]
        }
      ]
    },
    {
      "cell_type": "markdown",
      "source": [
        "Dropping rows for selected null value columns."
      ],
      "metadata": {
        "id": "abBSmQ00lON6"
      }
    },
    {
      "cell_type": "markdown",
      "source": [
        "Certain Column values are important for the data and if these values are missing, we lose important information."
      ],
      "metadata": {
        "id": "N86SXI_PlPMr"
      }
    },
    {
      "cell_type": "code",
      "source": [
        "df_full_data.where(df_full_data.Unique_Key.isNotNull())\n",
        "df_full_data.where(df_full_data.Status.isNotNull())\n",
        "df_full_data.where(df_full_data.Created_Date.isNotNull())\n",
        "df_full_data.where(df_full_data.Latitude.isNotNull())\n",
        "df_full_data.where(df_full_data.Longitude.isNotNull())\n",
        "df_full_data.where(df_full_data.Location.isNotNull())"
      ],
      "metadata": {
        "id": "jUhfODHVj3Z2"
      },
      "execution_count": null,
      "outputs": []
    },
    {
      "cell_type": "markdown",
      "source": [
        "Dropping Park Borough column since it has the same data as Borough Column"
      ],
      "metadata": {
        "id": "e-sneLiwlVW8"
      }
    },
    {
      "cell_type": "code",
      "source": [
        "df_data = df_data.drop(\"Park_Borough\")"
      ],
      "metadata": {
        "id": "FRrmKyalj7L4"
      },
      "execution_count": null,
      "outputs": []
    },
    {
      "cell_type": "code",
      "source": [
        "df_data.show()"
      ],
      "metadata": {
        "colab": {
          "base_uri": "https://localhost:8080/"
        },
        "id": "oWyyCIibj9VP",
        "outputId": "7bf0db28-7c58-484e-de4b-d2f946f9a925"
      },
      "execution_count": null,
      "outputs": [
        {
          "output_type": "stream",
          "name": "stdout",
          "text": [
            "+---+----------+--------------------+--------------------+------+--------------------+--------------------+--------------------+-------------------+------------+--------------------+----------------+----------------+-------------------+---------------------+---------------------+------------+----------------+-------------+-----------+--------+----------------------+------------------------------+------------------+----------+-----------+--------------------------+--------------------------+----------------------+------------------+------------------+------------------+--------------------+\n",
            "|_c0|Unique_Key|        Created_Date|         Closed_Date|Agency|         Agency_Name|      Complaint_Type|          Descriptor|      Location_Type|Incident_Zip|    Incident_Address|     Street_Name|  Cross_Street_1|     Cross_Street_2|Intersection_Street_1|Intersection_Street_2|Address_Type|            City|Facility_Type|     Status|Due_Date|Resolution_Description|Resolution_Action_Updated_Date|   Community_Board|       BBL|    Borough|X Coordinate (State Plane)|Y Coordinate (State Plane)|Open Data Channel Type|Park Facility Name|          Latitude|         Longitude|            Location|\n",
            "+---+----------+--------------------+--------------------+------+--------------------+--------------------+--------------------+-------------------+------------+--------------------+----------------+----------------+-------------------+---------------------+---------------------+------------+----------------+-------------+-----------+--------+----------------------+------------------------------+------------------+----------+-----------+--------------------------+--------------------------+----------------------+------------------+------------------+------------------+--------------------+\n",
            "|  0|  51560911|08/17/2021 07:34:...|08/17/2021 09:34:...|  NYPD|New York City Pol...|     Illegal Parking|    Blocked Sidewalk|    Street/Sidewalk|       11421|     92-13 92 AVENUE|       92 AVENUE|       92 STREET|WOODHAVEN BOULEVARD|            92 STREET|  WOODHAVEN BOULEVARD|        null|       WOODHAVEN|         null|     Closed|    null|  The Police Depart...|          08/17/2021 09:34:...|         09 QUEENS|4089860017|     QUEENS|                   1025640|                    190277|                MOBILE|       Unspecified| 40.68884640295723|-73.85075384808735|(40.6888464029572...|\n",
            "|  1|  51560923|08/17/2021 06:04:...|08/17/2021 07:25:...|  NYPD|New York City Pol...|     Illegal Parking|    Blocked Sidewalk|    Street/Sidewalk|       10468|      CLAFLIN AVENUE|  CLAFLIN AVENUE|  CLAFLIN AVENUE|   WEST  195 STREET|       CLAFLIN AVENUE|     WEST  195 STREET|        null|            null|         null|     Closed|    null|  The Police Depart...|          08/17/2021 07:25:...|          08 BRONX|      null|      BRONX|                   1011740|                    256343|                 PHONE|       Unspecified| 40.87023400587434|-73.90060480716431|(40.8702340058743...|\n",
            "|  2|  50469886|05/04/2021 11:40:...|07/21/2021 01:55:...|   DOT|Department of Tra...|Street Light Cond...|    Street Light Out|               null|       11214|                null|            null|            null|               null|   NEW UTRECHT AVENUE|            84 STREET|INTERSECTION|        BROOKLYN|         null|     Closed|    null|  Service Request s...|          07/21/2021 01:55:...|       11 BROOKLYN|      null|   BROOKLYN|                    983735|                    161202|               UNKNOWN|       Unspecified| 40.60913860285155|-74.00185479490075|(40.6091386028515...|\n",
            "|  3|  50470191|05/04/2021 04:31:...|                null|   DPR|Department of Par...|    New Tree Request|     For One Address|             Street|       11229|2041 EAST   18 ST...|EAST   18 STREET|        AVENUE T|           AVENUE U|             AVENUE T|             AVENUE U|        null|        BROOKLYN|         null|In Progress|    null|                  null|                          null|       15 BROOKLYN|3073230065|   BROOKLYN|                    997085|                    158030|               UNKNOWN|       Unspecified|40.600422830424975|-73.95378022131071|(40.6004228304249...|\n",
            "|  4|  50470218|05/05/2021 01:47:...|10/01/2021 10:53:...| DOHMH|Department of Hea...|              Rodent|    Signs of Rodents|1-2 Family Dwelling|       11420|   115-44 135 STREET|      135 STREET|      115 AVENUE|         116 AVENUE|           115 AVENUE|           116 AVENUE|     ADDRESS|South Ozone Park|         null|     Closed|    null|  This service requ...|          05/05/2021 01:47:...|         10 QUEENS|4116770025|     QUEENS|                   1038085|                    187070|                MOBILE|       Unspecified| 40.67997699346374| -73.8059047916443|(40.6799769934637...|\n",
            "|  5|  51561558|08/17/2021 10:09:...|09/20/2021 12:00:...|   DOB|Department of Bui...|        Building/Use|Illegal Conversio...|               null|       11420|   130-47 115 STREET|      115 STREET|            null|               null|                 null|                 null|     ADDRESS|South Ozone Park|         null|   Assigned|    null|  The Department of...|          09/20/2021 12:00:...|         10 QUEENS|4117220013|     QUEENS|                   1033205|                    185078|               UNKNOWN|       Unspecified| 40.67453774844052|-73.82351342734557|(40.6745377484405...|\n",
            "|  6|  50470376|05/04/2021 08:17:...|05/04/2021 08:30:...|  NYPD|New York City Pol...|   Abandoned Vehicle|  With License Plate|    Street/Sidewalk|       10469|  1111 WARING AVENUE|   WARING AVENUE|  LACONIA AVENUE|       YATES AVENUE|       LACONIA AVENUE|         YATES AVENUE|        null|           BRONX|         null|     Closed|    null|  The Police Depart...|          05/04/2021 08:30:...|          11 BRONX|2044530003|      BRONX|                   1024236|                    253045|                 PHONE|       Unspecified|40.861134246791956|-73.85544294948706|(40.8611342467919...|\n",
            "|  7|  51561576|08/17/2021 07:45:...|08/17/2021 08:39:...|  NYPD|New York City Pol...|    Blocked Driveway|           No Access|    Street/Sidewalk|       10456|    1297 CLAY AVENUE|     CLAY AVENUE|EAST  169 STREET|   EAST  170 STREET|     EAST  169 STREET|     EAST  170 STREET|        null|           BRONX|         null|     Closed|    null|  The Police Depart...|          08/17/2021 08:39:...|          04 BRONX|2027820146|      BRONX|                   1009380|                    243468|                ONLINE|       Unspecified|  40.8349030100631|-73.90918607978982|(40.8349030100631...|\n",
            "|  8|  50470422|05/04/2021 06:57:...|05/14/2021 07:15:...|   DEP|Department of Env...|         Air Quality|Air: Odor/Fumes, ...|               null|       11217|   21 ST JOHNS PLACE|  ST JOHNS PLACE|           5 AVE|              6 AVE|                 null|                 null|     ADDRESS|        BROOKLYN|          N/A|     Closed|    null|  The Department of...|          05/14/2021 07:15:...|       06 BROOKLYN|3009440075|   BROOKLYN|                    990271|                    186327|                ONLINE|       Unspecified| 40.67809928553341| -73.9782926831807|(40.6780992855334...|\n",
            "|  9|  51561680|08/17/2021 05:08:...|08/18/2021 09:46:...|   DOT|Department of Tra...|Broken Parking Meter|Coin or Card Did ...|             Street|        null|                null|            null|            null|               null|                 null|                 null|        null|            null|         null|     Closed|    null|  \"The Department o...|          08/18/2021 09:46:...|     0 Unspecified|      null|Unspecified|                      null|                      null|                ONLINE|       Unspecified|              null|              null|                null|\n",
            "| 10|  51561816|08/17/2021 03:34:...|08/17/2021 03:34:...| DOHMH|Department of Hea...|      Standing Water|Other - Explain B...|              Other|       11357| 24-19 MURRAY STREET|   MURRAY STREET|       24 AVENUE|            24 ROAD|            24 AVENUE|              24 ROAD|     ADDRESS|      Whitestone|         null|     Closed|    null|  An inspection of ...|          08/17/2021 03:34:...|         07 QUEENS|4047130086|     QUEENS|                   1036139|                    222235|                ONLINE|       Unspecified| 40.77650772933667| -73.8126496649509|(40.7765077293366...|\n",
            "| 11|  51562079|08/17/2021 08:57:...|08/17/2021 09:32:...|  NYPD|New York City Pol...|     Illegal Parking|     Blocked Hydrant|    Street/Sidewalk|       11369|     32-20 92 STREET|       92 STREET|       32 AVENUE| NORTHERN BOULEVARD|            32 AVENUE|   NORTHERN BOULEVARD|        null|   EAST ELMHURST|         null|     Closed|    null|  The Police Depart...|          08/17/2021 09:32:...|         03 QUEENS|4014210001|     QUEENS|                   1018505|                    215474|                ONLINE|       Unspecified| 40.75803648392323| -73.8763533063131|(40.7580364839232...|\n",
            "| 12|  50470849|05/04/2021 09:50:...|05/04/2021 09:58:...|  NYPD|New York City Pol...|    Blocked Driveway|           No Access|    Street/Sidewalk|       11215|    641 UNION STREET|    UNION STREET|        3 AVENUE|           4 AVENUE|             3 AVENUE|             4 AVENUE|        null|        BROOKLYN|         null|     Closed|    null|  The Police Depart...|          05/04/2021 09:58:...|       06 BROOKLYN|      null|   BROOKLYN|                    988700|                    186208|                ONLINE|       Unspecified| 40.67777358660018|-73.98395663716367|(40.6777735866001...|\n",
            "| 13|  43666487|08/28/2019 09:08:...|11/11/2019 10:36:...|   DPR|Department of Par...|        Damaged Tree|Branch or Limb Ha...|             Street|       11210|1147 EAST   23 ST...|EAST   23 STREET|        AVENUE K|           AVENUE L|             AVENUE K|             AVENUE L|        null|        BROOKLYN|         null|     Closed|    null|  NYC Parks visited...|          11/11/2019 10:36:...|       14 BROOKLYN|3076230024|   BROOKLYN|                    997345|                    166078|                 PHONE|       Unspecified|  40.6225125507543|-73.95282833568574|(40.6225125507543...|\n",
            "| 14|  51562435|08/17/2021 07:40:...|08/17/2021 11:59:...|  NYPD|New York City Pol...|          Encampment|                 N/A|            Highway|        null|                null|            null|            null|               null|                 null|                 null|        null|            null|         null|     Closed|    null|  The Police Depart...|          08/17/2021 11:59:...|Unspecified QUEENS|      null|     QUEENS|                      null|                      null|                 PHONE|       Unspecified|              null|              null|                null|\n",
            "| 15|  51562452|08/16/2021 05:55:...|08/19/2021 12:00:...|   DOT|Department of Tra...|Street Light Cond...|Traffic Signal Light|               null|       11233|                null|            null|            null|               null|         RALPH AVENUE|        FULTON STREET|INTERSECTION|        BROOKLYN|         null|     Closed|    null|  Service Request s...|          08/19/2021 12:00:...|       03 BROOKLYN|      null|   BROOKLYN|                   1005983|                    186617|               UNKNOWN|       Unspecified|40.678870638669714|-73.92164580117114|(40.6788706386697...|\n",
            "| 16|  50470954|05/04/2021 03:39:...|09/28/2021 09:33:...|   DOT|Department of Tra...|  Sidewalk Condition|     Broken Sidewalk|           Sidewalk|       10034|       4841 BROADWAY|        BROADWAY|        BROADWAY|      COOPER STREET|             BROADWAY|        COOPER STREET|     ADDRESS|        NEW YORK|         null|     Closed|    null|  \"The Department o...|          09/28/2021 09:34:...|      12 MANHATTAN|1022380042|  MANHATTAN|                   1005004|                    254993|                MOBILE|       Unspecified| 40.86654707683918|-73.92496423167476|(40.8665470768391...|\n",
            "| 17|  50471124|05/04/2021 08:22:...|05/04/2021 10:59:...|  NYPD|New York City Pol...|    Blocked Driveway|      Partial Access|    Street/Sidewalk|       11103|     31-16 43 STREET|       43 STREET|       31 AVENUE|           BROADWAY|            31 AVENUE|             BROADWAY|        null|         ASTORIA|         null|     Closed|    null|  The Police Depart...|          05/04/2021 10:59:...|         01 QUEENS|4006920051|     QUEENS|                   1007740|                    216021|                MOBILE|       Unspecified| 40.75957301177476|-73.91520866078258|(40.7595730117747...|\n",
            "| 18|  41830090|02/27/2019 07:51:...|03/03/2019 12:00:...|  DSNY|Department of San...|Request Large Bul...|Request Large Bul...|           Sidewalk|       11421|     84-48 98 STREET|       98 STREET|            BEND|    PARK LANE SOUTH|                 null|                 null|     ADDRESS|       Woodhaven|          N/A|     Closed|    null|                  null|          03/03/2019 12:00:...|         09 QUEENS|4039077501|     QUEENS|                   1025825|                    193956|                 PHONE|       Unspecified| 40.69894352424785|-73.85006406042807|(40.6989435242478...|\n",
            "| 19|  50471372|05/04/2021 03:31:...|05/04/2021 03:51:...|  NYPD|New York City Pol...|     Illegal Parking|     Blocked Hydrant|    Street/Sidewalk|       11220|       641 54 STREET|       54 STREET|        6 AVENUE|           7 AVENUE|             6 AVENUE|             7 AVENUE|        null|        BROOKLYN|         null|     Closed|    null|  The Police Depart...|          05/04/2021 03:51:...|       07 BROOKLYN|3008170058|   BROOKLYN|                    981620|                    172796|                MOBILE|       Unspecified|40.640961326602415|-74.00947657670358|(40.6409613266024...|\n",
            "+---+----------+--------------------+--------------------+------+--------------------+--------------------+--------------------+-------------------+------------+--------------------+----------------+----------------+-------------------+---------------------+---------------------+------------+----------------+-------------+-----------+--------+----------------------+------------------------------+------------------+----------+-----------+--------------------------+--------------------------+----------------------+------------------+------------------+------------------+--------------------+\n",
            "only showing top 20 rows\n",
            "\n"
          ]
        }
      ]
    }
  ]
}