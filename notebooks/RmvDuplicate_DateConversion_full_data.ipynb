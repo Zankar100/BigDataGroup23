{
  "cells": [
    {
      "cell_type": "code",
      "execution_count": null,
      "metadata": {
        "id": "r3yw9cIWWD3I"
      },
      "outputs": [],
      "source": [
        ""
      ]
    },
    {
      "cell_type": "code",
      "execution_count": null,
      "metadata": {
        "colab": {
          "base_uri": "https://localhost:8080/"
        },
        "id": "MUeN1qZJQouY",
        "outputId": "f7ebe0b6-accd-4187-ab85-0bdd422ca4f3"
      },
      "outputs": [
        {
          "name": "stdout",
          "output_type": "stream",
          "text": [
            "Mounted at /content/drive/\n"
          ]
        }
      ],
      "source": [
        "#from google.colab import drive\n",
        "#drive.mount('/content/drive/')"
      ]
    },
    {
      "cell_type": "code",
      "execution_count": null,
      "metadata": {
        "colab": {
          "base_uri": "https://localhost:8080/"
        },
        "id": "d_oL6jIzQ3pj",
        "outputId": "3155e432-4c0b-4e60-f18c-cbb2d3f4dff0"
      },
      "outputs": [
        {
          "name": "stdout",
          "output_type": "stream",
          "text": [
            "Collecting pyspark\n",
            "  Downloading pyspark-3.2.0.tar.gz (281.3 MB)\n",
            "\u001b[K     |████████████████████████████████| 281.3 MB 32 kB/s \n",
            "\u001b[?25hCollecting py4j==0.10.9.2\n",
            "  Downloading py4j-0.10.9.2-py2.py3-none-any.whl (198 kB)\n",
            "\u001b[K     |████████████████████████████████| 198 kB 55.1 MB/s \n",
            "\u001b[?25hBuilding wheels for collected packages: pyspark\n",
            "  Building wheel for pyspark (setup.py) ... \u001b[?25l\u001b[?25hdone\n",
            "  Created wheel for pyspark: filename=pyspark-3.2.0-py2.py3-none-any.whl size=281805912 sha256=fe951d02558394ccfd4ab7a79f9084669a3518fc3f0911d084c111cbe0fdda11\n",
            "  Stored in directory: /root/.cache/pip/wheels/0b/de/d2/9be5d59d7331c6c2a7c1b6d1a4f463ce107332b1ecd4e80718\n",
            "Successfully built pyspark\n",
            "Installing collected packages: py4j, pyspark\n",
            "Successfully installed py4j-0.10.9.2 pyspark-3.2.0\n",
            "Collecting openclean\n",
            "  Downloading openclean-0.2.1-py3-none-any.whl (5.2 kB)\n",
            "Collecting openclean-core==0.4.1\n",
            "  Downloading openclean_core-0.4.1-py3-none-any.whl (267 kB)\n",
            "\u001b[K     |████████████████████████████████| 267 kB 5.1 MB/s \n",
            "\u001b[?25hRequirement already satisfied: scikit-learn in /usr/local/lib/python3.7/dist-packages (from openclean-core==0.4.1->openclean) (1.0.1)\n",
            "Requirement already satisfied: dill in /usr/local/lib/python3.7/dist-packages (from openclean-core==0.4.1->openclean) (0.3.4)\n",
            "Collecting jellyfish\n",
            "  Downloading jellyfish-0.8.9.tar.gz (137 kB)\n",
            "\u001b[K     |████████████████████████████████| 137 kB 53.3 MB/s \n",
            "\u001b[?25hRequirement already satisfied: python-dateutil in /usr/local/lib/python3.7/dist-packages (from openclean-core==0.4.1->openclean) (2.8.2)\n",
            "Collecting refdata>=0.2.0\n",
            "  Downloading refdata-0.2.0-py3-none-any.whl (37 kB)\n",
            "Requirement already satisfied: scipy in /usr/local/lib/python3.7/dist-packages (from openclean-core==0.4.1->openclean) (1.4.1)\n",
            "Collecting flowserv-core>=0.8.0\n",
            "  Downloading flowserv_core-0.9.2-py3-none-any.whl (260 kB)\n",
            "\u001b[K     |████████████████████████████████| 260 kB 37.8 MB/s \n",
            "\u001b[?25hRequirement already satisfied: requests in /usr/local/lib/python3.7/dist-packages (from openclean-core==0.4.1->openclean) (2.23.0)\n",
            "Requirement already satisfied: future in /usr/local/lib/python3.7/dist-packages (from openclean-core==0.4.1->openclean) (0.16.0)\n",
            "Requirement already satisfied: pandas>=1.0.0 in /usr/local/lib/python3.7/dist-packages (from openclean-core==0.4.1->openclean) (1.1.5)\n",
            "Collecting jsonschema>=3.2.0\n",
            "  Downloading jsonschema-4.2.1-py3-none-any.whl (69 kB)\n",
            "\u001b[K     |████████████████████████████████| 69 kB 6.5 MB/s \n",
            "\u001b[?25hCollecting histore>=0.4.0\n",
            "  Downloading histore-0.4.1-py3-none-any.whl (109 kB)\n",
            "\u001b[K     |████████████████████████████████| 109 kB 56.8 MB/s \n",
            "\u001b[?25hRequirement already satisfied: appdirs>=1.4.4 in /usr/local/lib/python3.7/dist-packages (from openclean-core==0.4.1->openclean) (1.4.4)\n",
            "Collecting passlib\n",
            "  Downloading passlib-1.7.4-py2.py3-none-any.whl (525 kB)\n",
            "\u001b[K     |████████████████████████████████| 525 kB 46.7 MB/s \n",
            "\u001b[?25hCollecting pyyaml-include\n",
            "  Downloading pyyaml_include-1.2.post2-py3-none-any.whl (20 kB)\n",
            "Requirement already satisfied: SQLAlchemy>=1.3.18 in /usr/local/lib/python3.7/dist-packages (from flowserv-core>=0.8.0->openclean-core==0.4.1->openclean) (1.4.27)\n",
            "Collecting paramiko\n",
            "  Downloading paramiko-2.8.1-py2.py3-none-any.whl (206 kB)\n",
            "\u001b[K     |████████████████████████████████| 206 kB 43.7 MB/s \n",
            "\u001b[?25hRequirement already satisfied: Click in /usr/local/lib/python3.7/dist-packages (from flowserv-core>=0.8.0->openclean-core==0.4.1->openclean) (7.1.2)\n",
            "Collecting pyyaml>=5.1\n",
            "  Downloading PyYAML-6.0-cp37-cp37m-manylinux_2_5_x86_64.manylinux1_x86_64.manylinux_2_12_x86_64.manylinux2010_x86_64.whl (596 kB)\n",
            "\u001b[K     |████████████████████████████████| 596 kB 66.6 MB/s \n",
            "\u001b[?25hCollecting gitpython\n",
            "  Downloading GitPython-3.1.24-py3-none-any.whl (180 kB)\n",
            "\u001b[K     |████████████████████████████████| 180 kB 70.3 MB/s \n",
            "\u001b[?25hRequirement already satisfied: psutil in /usr/local/lib/python3.7/dist-packages (from histore>=0.4.0->openclean-core==0.4.1->openclean) (5.4.8)\n",
            "Requirement already satisfied: importlib-resources>=1.4.0 in /usr/local/lib/python3.7/dist-packages (from jsonschema>=3.2.0->openclean-core==0.4.1->openclean) (5.4.0)\n",
            "Requirement already satisfied: attrs>=17.4.0 in /usr/local/lib/python3.7/dist-packages (from jsonschema>=3.2.0->openclean-core==0.4.1->openclean) (21.2.0)\n",
            "Requirement already satisfied: pyrsistent!=0.17.0,!=0.17.1,!=0.17.2,>=0.14.0 in /usr/local/lib/python3.7/dist-packages (from jsonschema>=3.2.0->openclean-core==0.4.1->openclean) (0.18.0)\n",
            "Requirement already satisfied: importlib-metadata in /usr/local/lib/python3.7/dist-packages (from jsonschema>=3.2.0->openclean-core==0.4.1->openclean) (4.8.2)\n",
            "Requirement already satisfied: zipp>=3.1.0 in /usr/local/lib/python3.7/dist-packages (from importlib-resources>=1.4.0->jsonschema>=3.2.0->openclean-core==0.4.1->openclean) (3.6.0)\n",
            "Requirement already satisfied: pytz>=2017.2 in /usr/local/lib/python3.7/dist-packages (from pandas>=1.0.0->openclean-core==0.4.1->openclean) (2018.9)\n",
            "Requirement already satisfied: numpy>=1.15.4 in /usr/local/lib/python3.7/dist-packages (from pandas>=1.0.0->openclean-core==0.4.1->openclean) (1.19.5)\n",
            "Requirement already satisfied: six>=1.5 in /usr/local/lib/python3.7/dist-packages (from python-dateutil->openclean-core==0.4.1->openclean) (1.15.0)\n",
            "Requirement already satisfied: pooch>=1.3.0 in /usr/local/lib/python3.7/dist-packages (from refdata>=0.2.0->openclean-core==0.4.1->openclean) (1.5.2)\n",
            "Collecting tableprint\n",
            "  Downloading tableprint-0.9.1-py3-none-any.whl (6.8 kB)\n",
            "Collecting datasize>=1.0.0\n",
            "  Downloading datasize-1.0.0.tar.gz (149 kB)\n",
            "\u001b[K     |████████████████████████████████| 149 kB 62.3 MB/s \n",
            "\u001b[?25hRequirement already satisfied: packaging in /usr/local/lib/python3.7/dist-packages (from pooch>=1.3.0->refdata>=0.2.0->openclean-core==0.4.1->openclean) (21.3)\n",
            "Requirement already satisfied: greenlet!=0.4.17 in /usr/local/lib/python3.7/dist-packages (from SQLAlchemy>=1.3.18->flowserv-core>=0.8.0->openclean-core==0.4.1->openclean) (1.1.2)\n",
            "Requirement already satisfied: typing-extensions>=3.7.4.3 in /usr/local/lib/python3.7/dist-packages (from gitpython->flowserv-core>=0.8.0->openclean-core==0.4.1->openclean) (3.10.0.2)\n",
            "Collecting gitdb<5,>=4.0.1\n",
            "  Downloading gitdb-4.0.9-py3-none-any.whl (63 kB)\n",
            "\u001b[K     |████████████████████████████████| 63 kB 1.5 MB/s \n",
            "\u001b[?25hCollecting smmap<6,>=3.0.1\n",
            "  Downloading smmap-5.0.0-py3-none-any.whl (24 kB)\n",
            "Requirement already satisfied: pyparsing!=3.0.5,>=2.0.2 in /usr/local/lib/python3.7/dist-packages (from packaging->pooch>=1.3.0->refdata>=0.2.0->openclean-core==0.4.1->openclean) (3.0.6)\n",
            "Collecting pynacl>=1.0.1\n",
            "  Downloading PyNaCl-1.4.0-cp35-abi3-manylinux1_x86_64.whl (961 kB)\n",
            "\u001b[K     |████████████████████████████████| 961 kB 50.4 MB/s \n",
            "\u001b[?25hCollecting bcrypt>=3.1.3\n",
            "  Downloading bcrypt-3.2.0-cp36-abi3-manylinux2010_x86_64.whl (63 kB)\n",
            "\u001b[K     |████████████████████████████████| 63 kB 1.7 MB/s \n",
            "\u001b[?25hCollecting cryptography>=2.5\n",
            "  Downloading cryptography-36.0.0-cp36-abi3-manylinux_2_24_x86_64.whl (3.6 MB)\n",
            "\u001b[K     |████████████████████████████████| 3.6 MB 38.8 MB/s \n",
            "\u001b[?25hRequirement already satisfied: cffi>=1.1 in /usr/local/lib/python3.7/dist-packages (from bcrypt>=3.1.3->paramiko->flowserv-core>=0.8.0->openclean-core==0.4.1->openclean) (1.15.0)\n",
            "Requirement already satisfied: pycparser in /usr/local/lib/python3.7/dist-packages (from cffi>=1.1->bcrypt>=3.1.3->paramiko->flowserv-core>=0.8.0->openclean-core==0.4.1->openclean) (2.21)\n",
            "Collecting pyyaml>=5.1\n",
            "  Downloading PyYAML-5.4.1-cp37-cp37m-manylinux1_x86_64.whl (636 kB)\n",
            "\u001b[K     |████████████████████████████████| 636 kB 44.8 MB/s \n",
            "\u001b[?25hRequirement already satisfied: idna<3,>=2.5 in /usr/local/lib/python3.7/dist-packages (from requests->openclean-core==0.4.1->openclean) (2.10)\n",
            "Requirement already satisfied: chardet<4,>=3.0.2 in /usr/local/lib/python3.7/dist-packages (from requests->openclean-core==0.4.1->openclean) (3.0.4)\n",
            "Requirement already satisfied: urllib3!=1.25.0,!=1.25.1,<1.26,>=1.21.1 in /usr/local/lib/python3.7/dist-packages (from requests->openclean-core==0.4.1->openclean) (1.24.3)\n",
            "Requirement already satisfied: certifi>=2017.4.17 in /usr/local/lib/python3.7/dist-packages (from requests->openclean-core==0.4.1->openclean) (2021.10.8)\n",
            "Requirement already satisfied: threadpoolctl>=2.0.0 in /usr/local/lib/python3.7/dist-packages (from scikit-learn->openclean-core==0.4.1->openclean) (3.0.0)\n",
            "Requirement already satisfied: joblib>=0.11 in /usr/local/lib/python3.7/dist-packages (from scikit-learn->openclean-core==0.4.1->openclean) (1.1.0)\n",
            "Requirement already satisfied: wcwidth in /usr/local/lib/python3.7/dist-packages (from tableprint->refdata>=0.2.0->openclean-core==0.4.1->openclean) (0.2.5)\n",
            "Building wheels for collected packages: datasize, jellyfish\n",
            "  Building wheel for datasize (setup.py) ... \u001b[?25l\u001b[?25hdone\n",
            "  Created wheel for datasize: filename=datasize-1.0.0-py2.py3-none-any.whl size=155047 sha256=436245092c895400ddc0a1fe52b51b39d3dd115d65134e72333d805e71c5676d\n",
            "  Stored in directory: /root/.cache/pip/wheels/f7/b5/32/d8836896da6aca7f9c5748670ea6110d1385c262bf3abcca30\n",
            "  Building wheel for jellyfish (setup.py) ... \u001b[?25l\u001b[?25hdone\n",
            "  Created wheel for jellyfish: filename=jellyfish-0.8.9-cp37-cp37m-linux_x86_64.whl size=73216 sha256=8d667251bef7e29b2d3dc75dae8abfd45e640a388404acc75ba62d5e838a0e66\n",
            "  Stored in directory: /root/.cache/pip/wheels/32/a9/ef/5d8742e72deaf0d1de327a180d008c2c0299367581800ea73f\n",
            "Successfully built datasize jellyfish\n",
            "Installing collected packages: smmap, pyyaml, pynacl, gitdb, cryptography, bcrypt, tableprint, pyyaml-include, passlib, paramiko, jsonschema, gitpython, datasize, refdata, jellyfish, histore, flowserv-core, openclean-core, openclean\n",
            "  Attempting uninstall: pyyaml\n",
            "    Found existing installation: PyYAML 3.13\n",
            "    Uninstalling PyYAML-3.13:\n",
            "      Successfully uninstalled PyYAML-3.13\n",
            "  Attempting uninstall: jsonschema\n",
            "    Found existing installation: jsonschema 2.6.0\n",
            "    Uninstalling jsonschema-2.6.0:\n",
            "      Successfully uninstalled jsonschema-2.6.0\n",
            "\u001b[31mERROR: pip's dependency resolver does not currently take into account all the packages that are installed. This behaviour is the source of the following dependency conflicts.\n",
            "nbclient 0.5.9 requires jupyter-client>=6.1.5, but you have jupyter-client 5.3.5 which is incompatible.\u001b[0m\n",
            "Successfully installed bcrypt-3.2.0 cryptography-36.0.0 datasize-1.0.0 flowserv-core-0.9.2 gitdb-4.0.9 gitpython-3.1.24 histore-0.4.1 jellyfish-0.8.9 jsonschema-4.2.1 openclean-0.2.1 openclean-core-0.4.1 paramiko-2.8.1 passlib-1.7.4 pynacl-1.4.0 pyyaml-5.4.1 pyyaml-include-1.2.post2 refdata-0.2.0 smmap-5.0.0 tableprint-0.9.1\n",
            "Collecting uszipcode\n",
            "  Downloading uszipcode-0.2.6-py2.py3-none-any.whl (454 kB)\n",
            "\u001b[K     |████████████████████████████████| 454 kB 5.3 MB/s \n",
            "\u001b[?25hCollecting pathlib-mate\n",
            "  Downloading pathlib_mate-1.0.2-py2.py3-none-any.whl (117 kB)\n",
            "\u001b[K     |████████████████████████████████| 117 kB 46.5 MB/s \n",
            "\u001b[?25hRequirement already satisfied: attrs in /usr/local/lib/python3.7/dist-packages (from uszipcode) (21.2.0)\n",
            "Requirement already satisfied: SQLAlchemy in /usr/local/lib/python3.7/dist-packages (from uszipcode) (1.4.27)\n",
            "Requirement already satisfied: requests in /usr/local/lib/python3.7/dist-packages (from uszipcode) (2.23.0)\n",
            "Requirement already satisfied: atomicwrites in /usr/local/lib/python3.7/dist-packages (from pathlib-mate->uszipcode) (1.4.0)\n",
            "Collecting autopep8\n",
            "  Downloading autopep8-1.6.0-py2.py3-none-any.whl (45 kB)\n",
            "\u001b[K     |████████████████████████████████| 45 kB 2.6 MB/s \n",
            "\u001b[?25hRequirement already satisfied: six in /usr/local/lib/python3.7/dist-packages (from pathlib-mate->uszipcode) (1.15.0)\n",
            "Collecting pycodestyle>=2.8.0\n",
            "  Downloading pycodestyle-2.8.0-py2.py3-none-any.whl (42 kB)\n",
            "\u001b[K     |████████████████████████████████| 42 kB 717 kB/s \n",
            "\u001b[?25hRequirement already satisfied: toml in /usr/local/lib/python3.7/dist-packages (from autopep8->pathlib-mate->uszipcode) (0.10.2)\n",
            "Requirement already satisfied: certifi>=2017.4.17 in /usr/local/lib/python3.7/dist-packages (from requests->uszipcode) (2021.10.8)\n",
            "Requirement already satisfied: urllib3!=1.25.0,!=1.25.1,<1.26,>=1.21.1 in /usr/local/lib/python3.7/dist-packages (from requests->uszipcode) (1.24.3)\n",
            "Requirement already satisfied: idna<3,>=2.5 in /usr/local/lib/python3.7/dist-packages (from requests->uszipcode) (2.10)\n",
            "Requirement already satisfied: chardet<4,>=3.0.2 in /usr/local/lib/python3.7/dist-packages (from requests->uszipcode) (3.0.4)\n",
            "Requirement already satisfied: importlib-metadata in /usr/local/lib/python3.7/dist-packages (from SQLAlchemy->uszipcode) (4.8.2)\n",
            "Requirement already satisfied: greenlet!=0.4.17 in /usr/local/lib/python3.7/dist-packages (from SQLAlchemy->uszipcode) (1.1.2)\n",
            "Requirement already satisfied: typing-extensions>=3.6.4 in /usr/local/lib/python3.7/dist-packages (from importlib-metadata->SQLAlchemy->uszipcode) (3.10.0.2)\n",
            "Requirement already satisfied: zipp>=0.5 in /usr/local/lib/python3.7/dist-packages (from importlib-metadata->SQLAlchemy->uszipcode) (3.6.0)\n",
            "Installing collected packages: pycodestyle, autopep8, pathlib-mate, uszipcode\n",
            "Successfully installed autopep8-1.6.0 pathlib-mate-1.0.2 pycodestyle-2.8.0 uszipcode-0.2.6\n",
            "Collecting humanfriendly\n",
            "  Downloading humanfriendly-10.0-py2.py3-none-any.whl (86 kB)\n",
            "\u001b[K     |████████████████████████████████| 86 kB 3.1 MB/s \n",
            "\u001b[?25hInstalling collected packages: humanfriendly\n",
            "Successfully installed humanfriendly-10.0\n"
          ]
        }
      ],
      "source": [
        "!pip install pyspark\n",
        "!pip install openclean\n",
        "!pip install uszipcode\n",
        "!pip install humanfriendly"
      ]
    },
    {
      "cell_type": "code",
      "execution_count": null,
      "metadata": {
        "id": "ACV4AKCsRCiU"
      },
      "outputs": [],
      "source": [
        "import pandas as pd\n",
        "import uszipcode\n",
        "import gzip\n",
        "import humanfriendly\n",
        "import os"
      ]
    },
    {
      "cell_type": "code",
      "execution_count": null,
      "metadata": {
        "id": "ejFhnCMERGGC"
      },
      "outputs": [],
      "source": [
        "from openclean.data.source.socrata import Socrata\n",
        "from openclean.profiling.column import DefaultColumnProfiler\n",
        "from openclean.profiling.anomalies.sklearn import DBSCANOutliers\n",
        "from openclean.cluster.key import KeyCollision\n",
        "from openclean.function.value.key.fingerprint import Fingerprint"
      ]
    },
    {
      "cell_type": "code",
      "execution_count": null,
      "metadata": {
        "id": "Yor6UenKRIk6"
      },
      "outputs": [],
      "source": [
        "from pyspark.sql import SparkSession\n",
        "from pyspark.sql.functions import *\n",
        "from pyspark import SparkContext\n",
        "from pyspark.sql.types import *\n",
        "from pyspark.ml.feature import *\n",
        "\n",
        "spark = SparkSession.builder.appName(\"BDProject\").getOrCreate()\n",
        "sc = spark.sparkContext"
      ]
    },
    {
      "cell_type": "code",
      "execution_count": null,
      "metadata": {
        "colab": {
          "base_uri": "https://localhost:8080/"
        },
        "id": "BuqLy1ARRZBd",
        "outputId": "e0272c45-0334-4abf-f332-e1d328bbc1fa"
      },
      "outputs": [
        {
          "name": "stdout",
          "output_type": "stream",
          "text": [
            "+----------+--------------------+--------------------+------+--------------------+--------------------+--------------------+--------------------+------------+--------------------+-----------------+---------------+--------------+---------------------+---------------------+------------+----------------+--------+-------------+------+--------------------+----------------------+------------------------------+------------------+----------+---------+--------------------------+--------------------------+----------------------+------------------+------------+------------+--------------------+---------------------+-------------------+------------------------+---------+----------------------+------------------+------------------+--------------------+\n",
            "|Unique Key|        Created Date|         Closed Date|Agency|         Agency Name|      Complaint Type|          Descriptor|       Location Type|Incident Zip|    Incident Address|      Street Name| Cross Street 1|Cross Street 2|Intersection Street 1|Intersection Street 2|Address Type|            City|Landmark|Facility Type|Status|            Due Date|Resolution Description|Resolution Action Updated Date|   Community Board|       BBL|  Borough|X Coordinate (State Plane)|Y Coordinate (State Plane)|Open Data Channel Type|Park Facility Name|Park Borough|Vehicle Type|Taxi Company Borough|Taxi Pick Up Location|Bridge Highway Name|Bridge Highway Direction|Road Ramp|Bridge Highway Segment|          Latitude|         Longitude|            Location|\n",
            "+----------+--------------------+--------------------+------+--------------------+--------------------+--------------------+--------------------+------------+--------------------+-----------------+---------------+--------------+---------------------+---------------------+------------+----------------+--------+-------------+------+--------------------+----------------------+------------------------------+------------------+----------+---------+--------------------------+--------------------------+----------------------+------------------+------------+------------+--------------------+---------------------+-------------------+------------------------+---------+----------------------+------------------+------------------+--------------------+\n",
            "|  38820187|03/30/2018 05:13:...|03/31/2018 02:57:...|  NYPD|New York City Pol...|     Illegal Parking|     Blocked Hydrant|     Street/Sidewalk|       11218|   61 EAST 10 STREET|   EAST 10 STREET|   CATON AVENUE| CHURCH AVENUE|                 null|                 null|     ADDRESS|        BROOKLYN|    null|     Precinct|Closed|03/31/2018 01:13:...|  The Police Depart...|          03/31/2018 02:57:...|       14 BROOKLYN|3050710049| BROOKLYN|                   992,459|                   175,047|                 PHONE|       Unspecified|    BROOKLYN|        null|                null|                 null|               null|                    null|     null|                  null| 40.64713642293565|-73.97041809151146|(40.6471364229356...|\n",
            "|  38820188|03/30/2018 01:10:...|03/31/2018 12:00:...|  DSNY|   BCC - Queens East|    Dirty Conditions|E2 Receptacle Vio...|            Sidewalk|       11361|     34-28 214 PLACE|        214 PLACE|        33 ROAD|     34 AVENUE|                 null|                 null|     ADDRESS|         Bayside|    null|  DSNY Garage|Closed|                null|  The Department of...|          03/31/2018 12:00:...|         11 QUEENS|4061180021|   QUEENS|                 1,047,442|                   220,182|                 PHONE|       Unspecified|      QUEENS|        null|                null|                 null|               null|                    null|     null|                  null| 40.77079922162434|-73.77185854594998|(40.7707992216243...|\n",
            "|  38820190|03/29/2018 03:35:...|03/30/2018 12:00:...|  DSNY|       A - Manhattan|    Dirty Conditions|   E3 Dirty Sidewalk|            Sidewalk|       10019|        782 9 AVENUE|         9 AVENUE|           null|          null|                 null|                 null|     ADDRESS|        NEW YORK|    null|          N/A|Closed|                null|  The Department of...|          03/30/2018 12:00:...|      04 MANHATTAN|1010430001|MANHATTAN|                   987,587|                   217,924|                 PHONE|       Unspecified|   MANHATTAN|        null|                null|                 null|               null|                    null|     null|                  null| 40.76482683195514|-73.98795355574123|(40.7648268319551...|\n",
            "|  38820192|03/30/2018 03:33:...|04/10/2018 11:08:...|   HPD|Department of Hou...|UNSANITARY CONDITION|               PESTS|RESIDENTIAL BUILDING|       10456|    1133 BOSTON ROAD|      BOSTON ROAD|           null|          null|                 null|                 null|     ADDRESS|           BRONX|    null|          N/A|Closed|                null|  The Department of...|          04/10/2018 11:08:...|          03 BRONX|2026130026|    BRONX|                 1,010,764|                   240,922|                 PHONE|       Unspecified|       BRONX|        null|                null|                 null|               null|                    null|     null|                  null|  40.8279109286989|-73.90419469536265|(40.8279109286989...|\n",
            "|  38820193|03/30/2018 09:55:...|04/12/2018 12:47:...|   HPD|Department of Hou...|UNSANITARY CONDITION|               PESTS|RESIDENTIAL BUILDING|       10024|158 WEST   84 STREET| WEST   84 STREET|           null|          null|                 null|                 null|     ADDRESS|        NEW YORK|    null|          N/A|Closed|                null|  The Department of...|          04/12/2018 12:47:...|      07 MANHATTAN|1012140059|MANHATTAN|                   991,046|                   225,690|                 PHONE|       Unspecified|   MANHATTAN|        null|                null|                 null|               null|                    null|     null|                  null|40.786140479123794| -73.9754588423166|(40.7861404791237...|\n",
            "|  38820195|03/30/2018 09:30:...|04/03/2018 01:56:...|   HPD|Department of Hou...|          WATER LEAK|          HEAVY FLOW|RESIDENTIAL BUILDING|       11204|      6713 19 AVENUE|        19 AVENUE|           null|          null|                 null|                 null|     ADDRESS|        BROOKLYN|    null|          N/A|Closed|                null|  The Department of...|          04/03/2018 01:56:...|       11 BROOKLYN|3055700001| BROOKLYN|                   987,193|                   163,903|                ONLINE|       Unspecified|    BROOKLYN|        null|                null|                 null|               null|                    null|     null|                  null| 40.61655181723908|-73.98939948034023|(40.6165518172390...|\n",
            "|  38820196|03/30/2018 10:42:...|03/31/2018 12:00:...|  DSNY|        A - Brooklyn|    Dirty Conditions|   E3 Dirty Sidewalk|            Sidewalk|       11204|      1837 67 STREET|        67 STREET|      18 AVENUE|     19 AVENUE|                 null|                 null|     ADDRESS|        BROOKLYN|    null|          N/A|Closed|                null|  The Department of...|          03/31/2018 12:00:...|       11 BROOKLYN|3055617501| BROOKLYN|                   986,885|                   164,230|                 PHONE|       Unspecified|    BROOKLYN|        null|                null|                 null|               null|                    null|     null|                  null|40.617449461393555|  -73.990508751303|(40.6174494613935...|\n",
            "|  38820197|03/29/2018 03:38:...|03/31/2018 12:00:...|  DSNY|          A - Queens|    Dirty Conditions|E3A Dirty Area/Al...|                 Lot|       11432|88-34 PARSONS BOU...|PARSONS BOULEVARD|      88 AVENUE|     89 AVENUE|                 null|                 null|     ADDRESS|         Jamaica|    null|          N/A|Closed|                null|  The Department of...|          03/31/2018 12:00:...|         12 QUEENS|4097620041|   QUEENS|                 1,039,143|                   196,684|                 PHONE|       Unspecified|      QUEENS|        null|                null|                 null|               null|                    null|     null|                  null|40.706358634542454| -73.8020119774681|(40.7063586345424...|\n",
            "|  38820198|03/30/2018 03:54:...|05/08/2018 05:01:...|   DPR|Department of Par...|        Damaged Tree|Branch Cracked an...|              Street|       11230|    47 DEKOVEN COURT|    DEKOVEN COURT|       DEAD END|EAST 17 STREET|                 null|                 null|     ADDRESS|        BROOKLYN|    null|          N/A|Closed|04/07/2018 03:54:...|  The Department of...|          05/08/2018 05:01:...|       14 BROOKLYN|3052370153| BROOKLYN|                   994,789|                   169,976|                 PHONE|       Unspecified|    BROOKLYN|        null|                null|                 null|               null|                    null|     null|                  null|40.633215148724524|-73.96202963798126|(40.6332151487245...|\n",
            "|  38820204|03/30/2018 10:22:...|05/03/2018 03:14:...|   HPD|Department of Hou...|          WATER LEAK|           SLOW LEAK|RESIDENTIAL BUILDING|       10456|    289 BONNER PLACE|     BONNER PLACE|           null|          null|                 null|                 null|     ADDRESS|           BRONX|    null|          N/A|Closed|                null|  The Department of...|          05/03/2018 03:14:...|          04 BRONX|2024230016|    BRONX|                 1,007,251|                   240,838|                 PHONE|       Unspecified|       BRONX|        null|                null|                 null|               null|                    null|     null|                  null|40.827690219830004|-73.91688879860206|(40.8276902198300...|\n",
            "|  38820208|03/30/2018 11:52:...|04/03/2018 10:39:...|   DEP|Department of Env...|       Water Quality|Clear Water With ...|                null|       11355| 44-15 COLDEN STREET|    COLDEN STREET|      ELDER AVE|        45 AVE|                 null|                 null|     ADDRESS|        Flushing|    null|          N/A|Closed|                null|  The Department of...|          04/03/2018 10:39:...|         07 QUEENS|4051450024|   QUEENS|                 1,033,015|                   213,138|                ONLINE|       Unspecified|      QUEENS|        null|                null|                 null|               null|                    null|     null|                  null| 40.75155664830534| -73.8239951376963|(40.7515566483053...|\n",
            "|  38820320|03/30/2018 09:52:...|04/05/2018 09:22:...|   DOT|Department of Tra...|    Street Condition|             Pothole|                null|       11427|           85 AVENUE|        85 AVENUE|     209 STREET|    210 STREET|                 null|                 null|   BLOCKFACE|  Queens Village|    null|          N/A|Closed|                null|  The Department of...|          04/05/2018 09:22:...|         11 QUEENS|      null|   QUEENS|                 1,050,936|                   205,051|               UNKNOWN|       Unspecified|      QUEENS|        null|                null|                 null|               null|                    null|     null|                  null| 40.72924293486617|  -73.759394299966|(40.7292429348661...|\n",
            "|  38820210|03/30/2018 01:04:...|04/28/2018 02:07:...|   HPD|Department of Hou...|              SAFETY|           SPRINKLER|RESIDENTIAL BUILDING|       10453| 1812 PALISADE PLACE|   PALISADE PLACE|           null|          null|                 null|                 null|     ADDRESS|           BRONX|    null|          N/A|Closed|                null|  The Department of...|          04/28/2018 02:07:...|          05 BRONX|2028770551|    BRONX|                 1,006,841|                   249,701|                ONLINE|       Unspecified|       BRONX|        null|                null|                 null|               null|                    null|     null|                  null| 40.85201762246602| -73.9183404262998|(40.8520176224660...|\n",
            "|  38820211|03/30/2018 04:44:...|03/30/2018 05:45:...|   DOT|Department of Tra...|Traffic Signal Co...|          Controller|                null|       11101|                null|             null|           null|          null|     QUEENS BOULEVARD|            35 STREET|INTERSECTION|Long Island City|    null|          N/A|Closed|                null|  Service Request s...|          03/30/2018 05:45:...|Unspecified QUEENS|      null|   QUEENS|                 1,003,695|                   210,509|               UNKNOWN|       Unspecified|      QUEENS|        null|                null|                 null|               null|                    null|     null|                  null| 40.74445379340065|-73.92982574105665|(40.7444537934006...|\n",
            "|  38820212|03/30/2018 08:58:...|04/05/2018 02:31:...|   DOT|Department of Tra...|    Street Condition|Failed Street Repair|              Street|       11234|   1930 RYDER STREET|     RYDER STREET|FILLMORE AVENUE|      AVENUE S|                 null|                 null|     ADDRESS|        BROOKLYN|    null|          N/A|Closed|06/28/2018 08:58:...|  \"The Department o...|          04/05/2018 02:31:...|       18 BROOKLYN|3085050056| BROOKLYN|                 1,003,590|                   162,320|                 PHONE|       Unspecified|    BROOKLYN|        null|                null|                 null|               null|                    null|     null|                  null| 40.61218619178131|-73.93034296156624|(40.6121861917813...|\n",
            "|  38820213|03/30/2018 09:01:...|04/02/2018 12:15:...|   DEP|Department of Env...|               Noise|Noise: Constructi...|                null|       11372|     34-32 91 STREET|        91 STREET|         34 AVE|        35 AVE|                 null|                 null|     ADDRESS| Jackson Heights|    null|          N/A|Closed|                null|  The Department of...|          04/02/2018 12:15:...|         03 QUEENS|4014510012|   QUEENS|                 1,018,455|                   213,946|                 PHONE|       Unspecified|      QUEENS|        null|                null|                 null|               null|                    null|     null|                  null|  40.7538427108057|-73.87654155926657|(40.7538427108057...|\n",
            "|  38820214|03/30/2018 11:45:...|04/03/2018 12:00:...|   DOB|Department of Bui...|             Boilers|Boiler - Defectiv...|                null|       11105|21-74 STEINWAY ST...|  STEINWAY STREET|           null|          null|                 null|                 null|     ADDRESS|         Astoria|    null|          N/A|Closed|                null|  The Department of...|          04/03/2018 12:00:...|         01 QUEENS|4008070063|   QUEENS|                 1,010,466|                   221,079|               UNKNOWN|       Unspecified|      QUEENS|        null|                null|                 null|               null|                    null|     null|                  null|40.773448241199766|-73.90534895750682|(40.7734482411997...|\n",
            "|  38820215|03/30/2018 04:58:...|04/02/2018 12:00:...|   DOB|Department of Bui...|        Building/Use|Zoning - Non-Conf...|                null|       11355| 143-49 BEECH AVENUE|     BEECH AVENUE|           null|          null|                 null|                 null|     ADDRESS|        Flushing|    null|          N/A|Closed|                null|  The Department of...|          04/02/2018 12:00:...|         07 QUEENS|4051890021|   QUEENS|                 1,034,305|                   215,138|               UNKNOWN|       Unspecified|      QUEENS|        null|                null|                 null|               null|                    null|     null|                  null| 40.75703892029294|-73.81932433524692|(40.7570389202929...|\n",
            "|  38820216|03/30/2018 02:46:...|06/11/2018 02:39:...|   TLC|Taxi and Limousin...|      Taxi Complaint|    Driver Complaint|                null|       11226|                null|             null|           null|          null|     EAST   18 STREET|       CORTELYOU ROAD|INTERSECTION|        BROOKLYN|    null|          N/A|Closed|05/02/2018 09:11:...|  A hearing was sch...|          06/11/2018 02:39:...|       14 BROOKLYN|      null| BROOKLYN|                   994,866|                   173,331|                ONLINE|       Unspecified|    BROOKLYN|        null|                null|                Other|               null|                    null|     null|                  null| 40.64242381497732|-73.96174694057026|(40.6424238149773...|\n",
            "|  38820218|03/30/2018 10:03:...|04/16/2018 03:07:...|   HPD|Department of Hou...|UNSANITARY CONDITION|GARBAGE/RECYCLING...|RESIDENTIAL BUILDING|       11213|  43 KINGSTON AVENUE|  KINGSTON AVENUE|           null|          null|                 null|                 null|     ADDRESS|        BROOKLYN|    null|          N/A|Closed|                null|  The Department of...|          04/16/2018 03:07:...|       03 BROOKLYN|3018710001| BROOKLYN|                 1,000,524|                   186,449|                ONLINE|       Unspecified|    BROOKLYN|        null|                null|                 null|               null|                    null|     null|                  null| 40.67842123619996|-73.94132758642408|(40.6784212361999...|\n",
            "+----------+--------------------+--------------------+------+--------------------+--------------------+--------------------+--------------------+------------+--------------------+-----------------+---------------+--------------+---------------------+---------------------+------------+----------------+--------+-------------+------+--------------------+----------------------+------------------------------+------------------+----------+---------+--------------------------+--------------------------+----------------------+------------------+------------+------------+--------------------+---------------------+-------------------+------------------------+---------+----------------------+------------------+------------------+--------------------+\n",
            "only showing top 20 rows\n",
            "\n"
          ]
        }
      ],
      "source": [
        "df_data = spark.read.format(\"csv\") \\\n",
        ".option(\"header\", \"true\") \\\n",
        ".option(\"infer_schema\",\"true\")\\\n",
        ".option(\"first_row_is_header\",\"true\")\\\n",
        ".load(r\"../data/311_Service_Requests_from_2010_to_Present.csv\")\n",
        "df_data.createOrReplaceTempView(\"df_data\")\n",
        "df_data.show()"
      ]
    },
    {
      "cell_type": "code",
      "execution_count": null,
      "metadata": {
        "colab": {
          "base_uri": "https://localhost:8080/"
        },
        "id": "sKI5x0P9RguR",
        "outputId": "1dc6c654-9b39-4c07-f7f3-4af98dc36e0b"
      },
      "outputs": [
        {
          "data": {
            "text/plain": [
              "27130961"
            ]
          },
          "execution_count": 8,
          "metadata": {},
          "output_type": "execute_result"
        }
      ],
      "source": [
        "df_data.count()"
      ]
    },
    {
      "cell_type": "code",
      "execution_count": null,
      "metadata": {
        "id": "XVtAuUE-R5XG"
      },
      "outputs": [],
      "source": [
        "df_data = df_data.withColumnRenamed(\"Unique Key\",\"Unique_Key\")\n",
        "df_data = df_data.withColumnRenamed(\"Created Date\",\"Created_Date\")\n",
        "df_data = df_data.withColumnRenamed(\"Closed Date\",\"Closed_Date\")\n",
        "df_data = df_data.withColumnRenamed(\"Agency Name\",\"Agency_Name\")\n",
        "df_data = df_data.withColumnRenamed(\"Complaint Type\",\"Complaint_Type\")\n",
        "df_data = df_data.withColumnRenamed(\"Location Type\",\"Location_Type\")\n",
        "df_data = df_data.withColumnRenamed(\"Incident Zip\",\"Incident_Zip\")\n",
        "df_data = df_data.withColumnRenamed(\"Incident Address\",\"Incident_Address\")\n",
        "df_data = df_data.withColumnRenamed(\"Street Name\",\"Street_Name\")\n",
        "df_data = df_data.withColumnRenamed(\"Cross Street 1\",\"Cross_Street_1\")\n",
        "df_data = df_data.withColumnRenamed(\"Cross Street 2\",\"Cross_Street_2\")\n",
        "df_data = df_data.withColumnRenamed(\"Intersection Street 1\",\"Intersection_Street_1\")\n",
        "df_data = df_data.withColumnRenamed(\"Intersection Street 2\",\"Intersection_Street_2\")\n",
        "df_data = df_data.withColumnRenamed(\"Address Type\",\"Address_Type\")\n",
        "df_data = df_data.withColumnRenamed(\"Facility Type\",\"Facility_Type\")\n",
        "df_data = df_data.withColumnRenamed(\"Due Date\",\"Due_Date\")\n",
        "df_data = df_data.withColumnRenamed(\"Resolution Description\",\"Resolution_Description\")\n",
        "df_data = df_data.withColumnRenamed(\"Resolution Action Updated Date\",\"Resolution_Action_Updated_Date\")\n",
        "df_data = df_data.withColumnRenamed(\"Community Board\",\"Community_Board\")\n",
        "df_data = df_data.withColumnRenamed(\"Park Borough\",\"Park_Borough\")"
      ]
    },
    {
      "cell_type": "code",
      "execution_count": null,
      "metadata": {
        "colab": {
          "base_uri": "https://localhost:8080/"
        },
        "id": "OUWSgcDzSDIm",
        "outputId": "d680d678-b9b3-4096-e8bf-433c32760962"
      },
      "outputs": [
        {
          "name": "stdout",
          "output_type": "stream",
          "text": [
            "+----------+--------------------+--------------------+------+--------------------+--------------------+--------------------+--------------------+------------+--------------------+-----------------+---------------+--------------+---------------------+---------------------+------------+----------------+--------+-------------+------+--------------------+----------------------+------------------------------+------------------+----------+---------+--------------------------+--------------------------+----------------------+------------------+------------+------------+--------------------+---------------------+-------------------+------------------------+---------+----------------------+------------------+------------------+--------------------+\n",
            "|Unique_Key|        Created_Date|         Closed_Date|Agency|         Agency_Name|      Complaint_Type|          Descriptor|       Location_Type|Incident_Zip|    Incident_Address|      Street_Name| Cross_Street_1|Cross_Street_2|Intersection_Street_1|Intersection_Street_2|Address_Type|            City|Landmark|Facility_Type|Status|            Due_Date|Resolution_Description|Resolution_Action_Updated_Date|   Community_Board|       BBL|  Borough|X Coordinate (State Plane)|Y Coordinate (State Plane)|Open Data Channel Type|Park Facility Name|Park_Borough|Vehicle Type|Taxi Company Borough|Taxi Pick Up Location|Bridge Highway Name|Bridge Highway Direction|Road Ramp|Bridge Highway Segment|          Latitude|         Longitude|            Location|\n",
            "+----------+--------------------+--------------------+------+--------------------+--------------------+--------------------+--------------------+------------+--------------------+-----------------+---------------+--------------+---------------------+---------------------+------------+----------------+--------+-------------+------+--------------------+----------------------+------------------------------+------------------+----------+---------+--------------------------+--------------------------+----------------------+------------------+------------+------------+--------------------+---------------------+-------------------+------------------------+---------+----------------------+------------------+------------------+--------------------+\n",
            "|  38820187|03/30/2018 05:13:...|03/31/2018 02:57:...|  NYPD|New York City Pol...|     Illegal Parking|     Blocked Hydrant|     Street/Sidewalk|       11218|   61 EAST 10 STREET|   EAST 10 STREET|   CATON AVENUE| CHURCH AVENUE|                 null|                 null|     ADDRESS|        BROOKLYN|    null|     Precinct|Closed|03/31/2018 01:13:...|  The Police Depart...|          03/31/2018 02:57:...|       14 BROOKLYN|3050710049| BROOKLYN|                   992,459|                   175,047|                 PHONE|       Unspecified|    BROOKLYN|        null|                null|                 null|               null|                    null|     null|                  null| 40.64713642293565|-73.97041809151146|(40.6471364229356...|\n",
            "|  38820188|03/30/2018 01:10:...|03/31/2018 12:00:...|  DSNY|   BCC - Queens East|    Dirty Conditions|E2 Receptacle Vio...|            Sidewalk|       11361|     34-28 214 PLACE|        214 PLACE|        33 ROAD|     34 AVENUE|                 null|                 null|     ADDRESS|         Bayside|    null|  DSNY Garage|Closed|                null|  The Department of...|          03/31/2018 12:00:...|         11 QUEENS|4061180021|   QUEENS|                 1,047,442|                   220,182|                 PHONE|       Unspecified|      QUEENS|        null|                null|                 null|               null|                    null|     null|                  null| 40.77079922162434|-73.77185854594998|(40.7707992216243...|\n",
            "|  38820190|03/29/2018 03:35:...|03/30/2018 12:00:...|  DSNY|       A - Manhattan|    Dirty Conditions|   E3 Dirty Sidewalk|            Sidewalk|       10019|        782 9 AVENUE|         9 AVENUE|           null|          null|                 null|                 null|     ADDRESS|        NEW YORK|    null|          N/A|Closed|                null|  The Department of...|          03/30/2018 12:00:...|      04 MANHATTAN|1010430001|MANHATTAN|                   987,587|                   217,924|                 PHONE|       Unspecified|   MANHATTAN|        null|                null|                 null|               null|                    null|     null|                  null| 40.76482683195514|-73.98795355574123|(40.7648268319551...|\n",
            "|  38820192|03/30/2018 03:33:...|04/10/2018 11:08:...|   HPD|Department of Hou...|UNSANITARY CONDITION|               PESTS|RESIDENTIAL BUILDING|       10456|    1133 BOSTON ROAD|      BOSTON ROAD|           null|          null|                 null|                 null|     ADDRESS|           BRONX|    null|          N/A|Closed|                null|  The Department of...|          04/10/2018 11:08:...|          03 BRONX|2026130026|    BRONX|                 1,010,764|                   240,922|                 PHONE|       Unspecified|       BRONX|        null|                null|                 null|               null|                    null|     null|                  null|  40.8279109286989|-73.90419469536265|(40.8279109286989...|\n",
            "|  38820193|03/30/2018 09:55:...|04/12/2018 12:47:...|   HPD|Department of Hou...|UNSANITARY CONDITION|               PESTS|RESIDENTIAL BUILDING|       10024|158 WEST   84 STREET| WEST   84 STREET|           null|          null|                 null|                 null|     ADDRESS|        NEW YORK|    null|          N/A|Closed|                null|  The Department of...|          04/12/2018 12:47:...|      07 MANHATTAN|1012140059|MANHATTAN|                   991,046|                   225,690|                 PHONE|       Unspecified|   MANHATTAN|        null|                null|                 null|               null|                    null|     null|                  null|40.786140479123794| -73.9754588423166|(40.7861404791237...|\n",
            "|  38820195|03/30/2018 09:30:...|04/03/2018 01:56:...|   HPD|Department of Hou...|          WATER LEAK|          HEAVY FLOW|RESIDENTIAL BUILDING|       11204|      6713 19 AVENUE|        19 AVENUE|           null|          null|                 null|                 null|     ADDRESS|        BROOKLYN|    null|          N/A|Closed|                null|  The Department of...|          04/03/2018 01:56:...|       11 BROOKLYN|3055700001| BROOKLYN|                   987,193|                   163,903|                ONLINE|       Unspecified|    BROOKLYN|        null|                null|                 null|               null|                    null|     null|                  null| 40.61655181723908|-73.98939948034023|(40.6165518172390...|\n",
            "|  38820196|03/30/2018 10:42:...|03/31/2018 12:00:...|  DSNY|        A - Brooklyn|    Dirty Conditions|   E3 Dirty Sidewalk|            Sidewalk|       11204|      1837 67 STREET|        67 STREET|      18 AVENUE|     19 AVENUE|                 null|                 null|     ADDRESS|        BROOKLYN|    null|          N/A|Closed|                null|  The Department of...|          03/31/2018 12:00:...|       11 BROOKLYN|3055617501| BROOKLYN|                   986,885|                   164,230|                 PHONE|       Unspecified|    BROOKLYN|        null|                null|                 null|               null|                    null|     null|                  null|40.617449461393555|  -73.990508751303|(40.6174494613935...|\n",
            "|  38820197|03/29/2018 03:38:...|03/31/2018 12:00:...|  DSNY|          A - Queens|    Dirty Conditions|E3A Dirty Area/Al...|                 Lot|       11432|88-34 PARSONS BOU...|PARSONS BOULEVARD|      88 AVENUE|     89 AVENUE|                 null|                 null|     ADDRESS|         Jamaica|    null|          N/A|Closed|                null|  The Department of...|          03/31/2018 12:00:...|         12 QUEENS|4097620041|   QUEENS|                 1,039,143|                   196,684|                 PHONE|       Unspecified|      QUEENS|        null|                null|                 null|               null|                    null|     null|                  null|40.706358634542454| -73.8020119774681|(40.7063586345424...|\n",
            "|  38820198|03/30/2018 03:54:...|05/08/2018 05:01:...|   DPR|Department of Par...|        Damaged Tree|Branch Cracked an...|              Street|       11230|    47 DEKOVEN COURT|    DEKOVEN COURT|       DEAD END|EAST 17 STREET|                 null|                 null|     ADDRESS|        BROOKLYN|    null|          N/A|Closed|04/07/2018 03:54:...|  The Department of...|          05/08/2018 05:01:...|       14 BROOKLYN|3052370153| BROOKLYN|                   994,789|                   169,976|                 PHONE|       Unspecified|    BROOKLYN|        null|                null|                 null|               null|                    null|     null|                  null|40.633215148724524|-73.96202963798126|(40.6332151487245...|\n",
            "|  38820204|03/30/2018 10:22:...|05/03/2018 03:14:...|   HPD|Department of Hou...|          WATER LEAK|           SLOW LEAK|RESIDENTIAL BUILDING|       10456|    289 BONNER PLACE|     BONNER PLACE|           null|          null|                 null|                 null|     ADDRESS|           BRONX|    null|          N/A|Closed|                null|  The Department of...|          05/03/2018 03:14:...|          04 BRONX|2024230016|    BRONX|                 1,007,251|                   240,838|                 PHONE|       Unspecified|       BRONX|        null|                null|                 null|               null|                    null|     null|                  null|40.827690219830004|-73.91688879860206|(40.8276902198300...|\n",
            "|  38820208|03/30/2018 11:52:...|04/03/2018 10:39:...|   DEP|Department of Env...|       Water Quality|Clear Water With ...|                null|       11355| 44-15 COLDEN STREET|    COLDEN STREET|      ELDER AVE|        45 AVE|                 null|                 null|     ADDRESS|        Flushing|    null|          N/A|Closed|                null|  The Department of...|          04/03/2018 10:39:...|         07 QUEENS|4051450024|   QUEENS|                 1,033,015|                   213,138|                ONLINE|       Unspecified|      QUEENS|        null|                null|                 null|               null|                    null|     null|                  null| 40.75155664830534| -73.8239951376963|(40.7515566483053...|\n",
            "|  38820320|03/30/2018 09:52:...|04/05/2018 09:22:...|   DOT|Department of Tra...|    Street Condition|             Pothole|                null|       11427|           85 AVENUE|        85 AVENUE|     209 STREET|    210 STREET|                 null|                 null|   BLOCKFACE|  Queens Village|    null|          N/A|Closed|                null|  The Department of...|          04/05/2018 09:22:...|         11 QUEENS|      null|   QUEENS|                 1,050,936|                   205,051|               UNKNOWN|       Unspecified|      QUEENS|        null|                null|                 null|               null|                    null|     null|                  null| 40.72924293486617|  -73.759394299966|(40.7292429348661...|\n",
            "|  38820210|03/30/2018 01:04:...|04/28/2018 02:07:...|   HPD|Department of Hou...|              SAFETY|           SPRINKLER|RESIDENTIAL BUILDING|       10453| 1812 PALISADE PLACE|   PALISADE PLACE|           null|          null|                 null|                 null|     ADDRESS|           BRONX|    null|          N/A|Closed|                null|  The Department of...|          04/28/2018 02:07:...|          05 BRONX|2028770551|    BRONX|                 1,006,841|                   249,701|                ONLINE|       Unspecified|       BRONX|        null|                null|                 null|               null|                    null|     null|                  null| 40.85201762246602| -73.9183404262998|(40.8520176224660...|\n",
            "|  38820211|03/30/2018 04:44:...|03/30/2018 05:45:...|   DOT|Department of Tra...|Traffic Signal Co...|          Controller|                null|       11101|                null|             null|           null|          null|     QUEENS BOULEVARD|            35 STREET|INTERSECTION|Long Island City|    null|          N/A|Closed|                null|  Service Request s...|          03/30/2018 05:45:...|Unspecified QUEENS|      null|   QUEENS|                 1,003,695|                   210,509|               UNKNOWN|       Unspecified|      QUEENS|        null|                null|                 null|               null|                    null|     null|                  null| 40.74445379340065|-73.92982574105665|(40.7444537934006...|\n",
            "|  38820212|03/30/2018 08:58:...|04/05/2018 02:31:...|   DOT|Department of Tra...|    Street Condition|Failed Street Repair|              Street|       11234|   1930 RYDER STREET|     RYDER STREET|FILLMORE AVENUE|      AVENUE S|                 null|                 null|     ADDRESS|        BROOKLYN|    null|          N/A|Closed|06/28/2018 08:58:...|  \"The Department o...|          04/05/2018 02:31:...|       18 BROOKLYN|3085050056| BROOKLYN|                 1,003,590|                   162,320|                 PHONE|       Unspecified|    BROOKLYN|        null|                null|                 null|               null|                    null|     null|                  null| 40.61218619178131|-73.93034296156624|(40.6121861917813...|\n",
            "|  38820213|03/30/2018 09:01:...|04/02/2018 12:15:...|   DEP|Department of Env...|               Noise|Noise: Constructi...|                null|       11372|     34-32 91 STREET|        91 STREET|         34 AVE|        35 AVE|                 null|                 null|     ADDRESS| Jackson Heights|    null|          N/A|Closed|                null|  The Department of...|          04/02/2018 12:15:...|         03 QUEENS|4014510012|   QUEENS|                 1,018,455|                   213,946|                 PHONE|       Unspecified|      QUEENS|        null|                null|                 null|               null|                    null|     null|                  null|  40.7538427108057|-73.87654155926657|(40.7538427108057...|\n",
            "|  38820214|03/30/2018 11:45:...|04/03/2018 12:00:...|   DOB|Department of Bui...|             Boilers|Boiler - Defectiv...|                null|       11105|21-74 STEINWAY ST...|  STEINWAY STREET|           null|          null|                 null|                 null|     ADDRESS|         Astoria|    null|          N/A|Closed|                null|  The Department of...|          04/03/2018 12:00:...|         01 QUEENS|4008070063|   QUEENS|                 1,010,466|                   221,079|               UNKNOWN|       Unspecified|      QUEENS|        null|                null|                 null|               null|                    null|     null|                  null|40.773448241199766|-73.90534895750682|(40.7734482411997...|\n",
            "|  38820215|03/30/2018 04:58:...|04/02/2018 12:00:...|   DOB|Department of Bui...|        Building/Use|Zoning - Non-Conf...|                null|       11355| 143-49 BEECH AVENUE|     BEECH AVENUE|           null|          null|                 null|                 null|     ADDRESS|        Flushing|    null|          N/A|Closed|                null|  The Department of...|          04/02/2018 12:00:...|         07 QUEENS|4051890021|   QUEENS|                 1,034,305|                   215,138|               UNKNOWN|       Unspecified|      QUEENS|        null|                null|                 null|               null|                    null|     null|                  null| 40.75703892029294|-73.81932433524692|(40.7570389202929...|\n",
            "|  38820216|03/30/2018 02:46:...|06/11/2018 02:39:...|   TLC|Taxi and Limousin...|      Taxi Complaint|    Driver Complaint|                null|       11226|                null|             null|           null|          null|     EAST   18 STREET|       CORTELYOU ROAD|INTERSECTION|        BROOKLYN|    null|          N/A|Closed|05/02/2018 09:11:...|  A hearing was sch...|          06/11/2018 02:39:...|       14 BROOKLYN|      null| BROOKLYN|                   994,866|                   173,331|                ONLINE|       Unspecified|    BROOKLYN|        null|                null|                Other|               null|                    null|     null|                  null| 40.64242381497732|-73.96174694057026|(40.6424238149773...|\n",
            "|  38820218|03/30/2018 10:03:...|04/16/2018 03:07:...|   HPD|Department of Hou...|UNSANITARY CONDITION|GARBAGE/RECYCLING...|RESIDENTIAL BUILDING|       11213|  43 KINGSTON AVENUE|  KINGSTON AVENUE|           null|          null|                 null|                 null|     ADDRESS|        BROOKLYN|    null|          N/A|Closed|                null|  The Department of...|          04/16/2018 03:07:...|       03 BROOKLYN|3018710001| BROOKLYN|                 1,000,524|                   186,449|                ONLINE|       Unspecified|    BROOKLYN|        null|                null|                 null|               null|                    null|     null|                  null| 40.67842123619996|-73.94132758642408|(40.6784212361999...|\n",
            "+----------+--------------------+--------------------+------+--------------------+--------------------+--------------------+--------------------+------------+--------------------+-----------------+---------------+--------------+---------------------+---------------------+------------+----------------+--------+-------------+------+--------------------+----------------------+------------------------------+------------------+----------+---------+--------------------------+--------------------------+----------------------+------------------+------------+------------+--------------------+---------------------+-------------------+------------------------+---------+----------------------+------------------+------------------+--------------------+\n",
            "only showing top 20 rows\n",
            "\n"
          ]
        }
      ],
      "source": [
        "df_data.show()"
      ]
    },
    {
      "cell_type": "markdown",
      "metadata": {
        "id": "b2FNAB_yRuOn"
      },
      "source": [
        "##Removing Duplicate value rows for Unique Key Column"
      ]
    },
    {
      "cell_type": "markdown",
      "metadata": {
        "id": "K4mUdj2lSaj0"
      },
      "source": [
        "We first check if Unique Key column has any Duplicate Data"
      ]
    },
    {
      "cell_type": "code",
      "execution_count": null,
      "metadata": {
        "colab": {
          "base_uri": "https://localhost:8080/"
        },
        "id": "cJRt1-uOSlaF",
        "outputId": "ff678163-04f5-4a48-ade1-4eafa5bd504b"
      },
      "outputs": [
        {
          "name": "stdout",
          "output_type": "stream",
          "text": [
            "+----------+\n",
            "|Unique_Key|\n",
            "+----------+\n",
            "+----------+\n",
            "\n"
          ]
        }
      ],
      "source": [
        "df1=df_data.groupBy(\"Unique_Key\").count().filter(\"count > 1\")\n",
        "df1.drop('count').show()"
      ]
    },
    {
      "cell_type": "markdown",
      "metadata": {
        "id": "-k_GJQHNSxT0"
      },
      "source": [
        "If the column has instances of Duplicate data, we can remove the duplicate data rows usng the below script"
      ]
    },
    {
      "cell_type": "code",
      "execution_count": null,
      "metadata": {
        "id": "ntu5fwjxRmef"
      },
      "outputs": [],
      "source": [
        "df_data = df_data.dropDuplicates(['Unique_Key'])"
      ]
    },
    {
      "cell_type": "code",
      "execution_count": null,
      "metadata": {
        "id": "itElBgQ9SOHu"
      },
      "outputs": [],
      "source": [
        ""
      ]
    },
    {
      "cell_type": "markdown",
      "metadata": {
        "id": "SO3LgGyDTcPv"
      },
      "source": [
        "## Date Conversion"
      ]
    },
    {
      "cell_type": "code",
      "execution_count": null,
      "metadata": {
        "id": "nBXowB31Tgz5"
      },
      "outputs": [],
      "source": [
        "from pyspark.sql.functions import to_timestamp"
      ]
    },
    {
      "cell_type": "markdown",
      "source": [
        "Checking the type of Date column."
      ],
      "metadata": {
        "id": "QVFkgV2moe8k"
      }
    },
    {
      "cell_type": "code",
      "execution_count": null,
      "metadata": {
        "colab": {
          "base_uri": "https://localhost:8080/"
        },
        "id": "pWavlVOWVH1F",
        "outputId": "cf9e12e7-7fc0-4687-ec7d-15bc7ae00c91"
      },
      "outputs": [
        {
          "data": {
            "text/plain": [
              "[('Created_Date', 'string')]"
            ]
          },
          "execution_count": 14,
          "metadata": {},
          "output_type": "execute_result"
        }
      ],
      "source": [
        "df_data.select(\"Created_Date\").dtypes"
      ]
    },
    {
      "cell_type": "markdown",
      "source": [
        "If datatype found to anything other than timestamp, we convert the column to timestamp using the format as follows: \"MM/dd/yyyy hh:mm:ss a\""
      ],
      "metadata": {
        "id": "_6fLv-PCojrb"
      }
    },
    {
      "cell_type": "code",
      "execution_count": null,
      "metadata": {
        "id": "X5hYbBObUVmn"
      },
      "outputs": [],
      "source": [
        "df_data=df_data.withColumn('Created_Date',to_timestamp(df_data.Created_Date,\"MM/dd/yyyy hh:mm:ss a\"))\n",
        "df_data=df_data.withColumn('Closed_Date',to_timestamp(df_data.Closed_Date,\"MM/dd/yyyy hh:mm:ss a\"))\n",
        "df_data=df_data.withColumn('Due_Date',to_timestamp(df_data.Closed_Date,\"MM/dd/yyyy hh:mm:ss a\"))"
      ]
    },
    {
      "cell_type": "code",
      "execution_count": null,
      "metadata": {
        "id": "WUX4ghcLVTsZ"
      },
      "outputs": [],
      "source": [
        ""
      ]
    },
    {
      "cell_type": "markdown",
      "source": [
        "As seen below, the types for selected columns have been changed to Timestamp"
      ],
      "metadata": {
        "id": "GKiFJVVFo4Dm"
      }
    },
    {
      "cell_type": "code",
      "execution_count": null,
      "metadata": {
        "colab": {
          "base_uri": "https://localhost:8080/"
        },
        "id": "teniHOTSVVcF",
        "outputId": "c5b30051-241d-4def-dfbc-d116e1e218d0"
      },
      "outputs": [
        {
          "name": "stdout",
          "output_type": "stream",
          "text": [
            "root\n",
            " |-- Unique_Key: string (nullable = true)\n",
            " |-- Created_Date: timestamp (nullable = true)\n",
            " |-- Closed_Date: timestamp (nullable = true)\n",
            " |-- Agency: string (nullable = true)\n",
            " |-- Agency_Name: string (nullable = true)\n",
            " |-- Complaint_Type: string (nullable = true)\n",
            " |-- Descriptor: string (nullable = true)\n",
            " |-- Location_Type: string (nullable = true)\n",
            " |-- Incident_Zip: string (nullable = true)\n",
            " |-- Incident_Address: string (nullable = true)\n",
            " |-- Street_Name: string (nullable = true)\n",
            " |-- Cross_Street_1: string (nullable = true)\n",
            " |-- Cross_Street_2: string (nullable = true)\n",
            " |-- Intersection_Street_1: string (nullable = true)\n",
            " |-- Intersection_Street_2: string (nullable = true)\n",
            " |-- Address_Type: string (nullable = true)\n",
            " |-- City: string (nullable = true)\n",
            " |-- Landmark: string (nullable = true)\n",
            " |-- Facility_Type: string (nullable = true)\n",
            " |-- Status: string (nullable = true)\n",
            " |-- Due_Date: timestamp (nullable = true)\n",
            " |-- Resolution_Description: string (nullable = true)\n",
            " |-- Resolution_Action_Updated_Date: string (nullable = true)\n",
            " |-- Community_Board: string (nullable = true)\n",
            " |-- BBL: string (nullable = true)\n",
            " |-- Borough: string (nullable = true)\n",
            " |-- X Coordinate (State Plane): string (nullable = true)\n",
            " |-- Y Coordinate (State Plane): string (nullable = true)\n",
            " |-- Open Data Channel Type: string (nullable = true)\n",
            " |-- Park Facility Name: string (nullable = true)\n",
            " |-- Park_Borough: string (nullable = true)\n",
            " |-- Vehicle Type: string (nullable = true)\n",
            " |-- Taxi Company Borough: string (nullable = true)\n",
            " |-- Taxi Pick Up Location: string (nullable = true)\n",
            " |-- Bridge Highway Name: string (nullable = true)\n",
            " |-- Bridge Highway Direction: string (nullable = true)\n",
            " |-- Road Ramp: string (nullable = true)\n",
            " |-- Bridge Highway Segment: string (nullable = true)\n",
            " |-- Latitude: string (nullable = true)\n",
            " |-- Longitude: string (nullable = true)\n",
            " |-- Location: string (nullable = true)\n",
            "\n"
          ]
        }
      ],
      "source": [
        "df_data.printSchema()"
      ]
    },
    {
      "cell_type": "markdown",
      "source": [
        "## Check Mapping of Created Date to CLosed Date.\n",
        "\n",
        "Closed Date should always be bigger than Created Date."
      ],
      "metadata": {
        "id": "sruGuFt-o_vy"
      }
    },
    {
      "cell_type": "code",
      "execution_count": null,
      "metadata": {
        "id": "CBkqaVlUVYLI"
      },
      "outputs": [],
      "source": [
        "df_new = df_data.filter(df_data.Closed_Date > df_data.Created_Date)"
      ]
    },
    {
      "cell_type": "markdown",
      "source": [
        "Getting count of rows having valid Created Date < Closed Date values"
      ],
      "metadata": {
        "id": "Eaq_8ijmpT-l"
      }
    },
    {
      "cell_type": "code",
      "execution_count": null,
      "metadata": {
        "colab": {
          "base_uri": "https://localhost:8080/"
        },
        "id": "RfPEOyOTWfz_",
        "outputId": "5c133de3-76d0-42d7-a3a5-78edea583322"
      },
      "outputs": [
        {
          "data": {
            "text/plain": [
              "25117976"
            ]
          },
          "execution_count": 18,
          "metadata": {},
          "output_type": "execute_result"
        }
      ],
      "source": [
        "df_new.count()"
      ]
    },
    {
      "cell_type": "markdown",
      "source": [
        "Checking for empty/Null Closed Date values. The rows with these values are valid to the dataset since these rows represent Requests in In-Progress status."
      ],
      "metadata": {
        "id": "7qv3SuSZpeYM"
      }
    },
    {
      "cell_type": "code",
      "execution_count": null,
      "metadata": {
        "id": "X-J5XYW_XIml"
      },
      "outputs": [],
      "source": [
        "df_new2 = df_data.filter(df_data.Closed_Date.isNull())"
      ]
    },
    {
      "cell_type": "code",
      "execution_count": null,
      "metadata": {
        "colab": {
          "base_uri": "https://localhost:8080/"
        },
        "id": "p0SBBog8XLKn",
        "outputId": "af6d0980-d9c0-4b77-b211-f2e1912f171a"
      },
      "outputs": [
        {
          "data": {
            "text/plain": [
              "756719"
            ]
          },
          "execution_count": 20,
          "metadata": {},
          "output_type": "execute_result"
        }
      ],
      "source": [
        "df_new2.count()"
      ]
    },
    {
      "cell_type": "code",
      "execution_count": null,
      "metadata": {
        "colab": {
          "base_uri": "https://localhost:8080/"
        },
        "id": "HW83zCLVXOU9",
        "outputId": "e0d693c7-a742-4ada-cab8-9c4894af0151"
      },
      "outputs": [
        {
          "name": "stdout",
          "output_type": "stream",
          "text": [
            "+----------+-------------------+-----------+------+--------------------+--------------------+--------------------+--------------------+------------+--------------------+--------------------+---------------+------------------+---------------------+---------------------+------------+-------------------+--------+-------------+--------+--------+----------------------+------------------------------+---------------+----------+---------+--------------------------+--------------------------+----------------------+--------------------+------------+------------+--------------------+---------------------+-------------------+------------------------+---------+----------------------+------------------+------------------+--------------------+\n",
            "|Unique_Key|       Created_Date|Closed_Date|Agency|         Agency_Name|      Complaint_Type|          Descriptor|       Location_Type|Incident_Zip|    Incident_Address|         Street_Name| Cross_Street_1|    Cross_Street_2|Intersection_Street_1|Intersection_Street_2|Address_Type|               City|Landmark|Facility_Type|  Status|Due_Date|Resolution_Description|Resolution_Action_Updated_Date|Community_Board|       BBL|  Borough|X Coordinate (State Plane)|Y Coordinate (State Plane)|Open Data Channel Type|  Park Facility Name|Park_Borough|Vehicle Type|Taxi Company Borough|Taxi Pick Up Location|Bridge Highway Name|Bridge Highway Direction|Road Ramp|Bridge Highway Segment|          Latitude|         Longitude|            Location|\n",
            "+----------+-------------------+-----------+------+--------------------+--------------------+--------------------+--------------------+------------+--------------------+--------------------+---------------+------------------+---------------------+---------------------+------------+-------------------+--------+-------------+--------+--------+----------------------+------------------------------+---------------+----------+---------+--------------------------+--------------------------+----------------------+--------------------+------------+------------+--------------------+---------------------+-------------------+------------------------+---------+----------------------+------------------+------------------+--------------------+\n",
            "|  15640932|2010-01-03 09:43:44|       null| DOHMH|Department of Hea...|              Rodent|      Mouse Sighting|3+ Family Apt. Bu...|       11233|1545 ST MARKS AVENUE|     ST MARKS AVENUE|SARATOGA AVENUE|  HOPKINSON AVENUE|                 null|                 null|     ADDRESS|           BROOKLYN|    null|          N/A| Pending|    null|  Please contact th...|          01/03/2010 09:53:...|    16 BROOKLYN|3014530071| BROOKLYN|                 1,007,566|                   184,609|                 PHONE|         Unspecified|    BROOKLYN|        null|                null|                 null|               null|                    null|     null|                  null| 40.67335510595877|-73.91594554574122|(40.6733551059587...|\n",
            "|  15641820|2010-01-04 01:00:52|       null| DOHMH|Department of Hea...|Non-Residential Heat|Inadequate or No ...|Building (Non-Res...|       10467| 2554 HOLLAND AVENUE|      HOLLAND AVENUE|    BOSTON ROAD|   ALLERTON AVENUE|                 null|                 null|     ADDRESS|              BRONX|    null|          N/A| Pending|    null|  The Department of...|          01/04/2010 11:38:...|       11 BRONX|2044350029|    BRONX|                 1,021,469|                   254,087|                ONLINE|         Unspecified|       BRONX|        null|                null|                 null|               null|                    null|     null|                  null|40.864006318087355| -73.8654403816735|(40.8640063180873...|\n",
            "|  15664072|2010-01-05 00:00:00|       null|   HPD|Department of Hou...|             HEATING|                HEAT|RESIDENTIAL BUILDING|       10453|  10 WEST 182 STREET|     WEST 182 STREET|  JEROME AVENUE|   DAVIDSON AVENUE|                 null|                 null|     ADDRESS|              BRONX|    null|          N/A|    Open|    null|                  null|          01/05/2010 12:00:...|       05 BRONX|2031950061|    BRONX|                 1,010,491|                   251,596|               UNKNOWN|         Unspecified|       BRONX|        null|                null|                 null|               null|                    null|     null|                  null| 40.85720873599707|-73.90513938149563|(40.8572087359970...|\n",
            "|  15706163|2010-01-11 12:41:54|       null| DOHMH|Department of Hea...|              Rodent|        Rat Sighting|3+ Family Apt. Bu...|       11215|        598 5 STREET|            5 STREET|       8 AVENUE|PROSPECT PARK WEST|                 null|                 null|     ADDRESS|           BROOKLYN|    null|          N/A| Pending|    null|  Please contact th...|          01/11/2010 12:49:...|    06 BROOKLYN|3010850030| BROOKLYN|                   991,027|                   182,418|                 PHONE|         Unspecified|    BROOKLYN|        null|                null|                 null|               null|                    null|     null|                  null| 40.66736941157148|-73.97557103116299|(40.6673694115714...|\n",
            "|  15714204|2010-01-12 10:53:15|       null| DOHMH|Department of Hea...|       Unleashed Dog|Unleashed Dog in ...|Public/Unfenced Area|       11433|   107-14 178 STREET|          178 STREET|  RUSCOE STREET|          DEAD END|                 null|                 null|     ADDRESS|            JAMAICA|    null|          N/A|Assigned|    null|  The Department of...|          01/12/2010 05:55:...|      12 QUEENS|4102520042|   QUEENS|                 1,045,571|                   194,995|                 PHONE|         Unspecified|      QUEENS|        null|                null|                 null|               null|                    null|     null|                  null| 40.70168052894433|-73.77884294643974|(40.7016805289443...|\n",
            "|  15723123|2010-01-13 04:29:24|       null| DOHMH|Department of Hea...|              Rodent|    Signs of Rodents|3+ Family Apt. Bu...|       10026| 217 WEST 111 STREET|     WEST 111 STREET|       7 AVENUE|          8 AVENUE|                 null|                 null|     ADDRESS|           NEW YORK|    null|          N/A| Pending|    null|  Please contact th...|          01/13/2010 04:36:...|   10 MANHATTAN|1018270020|MANHATTAN|                   996,527|                   230,880|                 PHONE|         Unspecified|   MANHATTAN|        null|                null|                 null|               null|                    null|     null|                  null| 40.80037971099802|-73.95565682002015|(40.8003797109980...|\n",
            "|  15730988|2010-01-14 06:30:26|       null| DOHMH|Department of Hea...|              Rodent|        Rat Sighting|3+ Family Apt. Bu...|       10030|480 ST NICHOLAS A...|  ST NICHOLAS AVENUE|WEST 133 STREET|   WEST 134 STREET|                 null|                 null|     ADDRESS|           NEW YORK|    null|          N/A| Pending|    null|  Please contact th...|          01/14/2010 06:41:...|   10 MANHATTAN|1019590001|MANHATTAN|                   998,519|                   236,627|                 PHONE|         Unspecified|   MANHATTAN|        null|                null|                 null|               null|                    null|     null|                  null|40.816150640850616|-73.94844971999414|(40.8161506408506...|\n",
            "|  15753130|2010-01-18 09:15:02|       null| DOHMH|Department of Hea...|              Rodent|Condition Attract...|Other (Explain Be...|       11218|157 PROSPECT PARK...|PROSPECT PARK SOU...|  SEELEY STREET| VANDERBILT STREET|                 null|                 null|     ADDRESS|           BROOKLYN|    null|          N/A| Pending|    null|  Please contact th...|          01/18/2010 09:21:...|    07 BROOKLYN|3052680094| BROOKLYN|                   991,646|                   177,869|                 PHONE|         Unspecified|    BROOKLYN|        null|                null|                 null|               null|                    null|     null|                  null|40.654882915282236|-73.97334471930509|(40.6548829152822...|\n",
            "|  15753880|2010-01-18 17:09:59|       null| DOHMH|Department of Hea...|      Food Poisoning|              1 or 2|Restaurant/Bar/De...|       11211|   301 GRAHAM AVENUE|       GRAHAM AVENUE|  POWERS STREET|    AINSLIE STREET|                 null|                 null|     ADDRESS|           BROOKLYN|    null|          N/A| Pending|    null|  The Department of...|          01/27/2010 09:43:...|    01 BROOKLYN|3027760020| BROOKLYN|                   999,736|                   199,039|                ONLINE|         Unspecified|    BROOKLYN|        null|                null|                 null|               null|                    null|     null|                  null| 40.71297926931227| -73.9441396051213|(40.7129792693122...|\n",
            "|  15765736|2010-01-20 09:36:53|       null| DOHMH|Department of Hea...|              Rodent|        Rat Sighting|3+ Family Apt. Bu...|       11434|131-10 GUY R BREW...|GUY R BREWER BOUL...|     130 AVENUE|        132 AVENUE|                 null|                 null|     ADDRESS|            JAMAICA|    null|          N/A| Pending|    null|  Please contact th...|          01/20/2010 09:50:...|      12 QUEENS|4122770001|   QUEENS|                 1,046,013|                   185,478|                 PHONE|         Unspecified|      QUEENS|        null|                null|                 null|               null|                    null|     null|                  null|40.675555560838866|-73.77733610654288|(40.6755555608388...|\n",
            "|  15799025|2010-01-25 14:04:55|       null|   DPR|Department of Par...|        Damaged Tree|Entire Tree Has F...|              Street|       11420|   133-12 123 STREET|          123 STREET|     133 AVENUE|        135 AVENUE|                 null|                 null|     ADDRESS|   SOUTH OZONE PARK|    null|          N/A|Assigned|    null|  The condition has...|          01/26/2010 03:15:...|      10 QUEENS|4117440044|   QUEENS|                 1,035,342|                   183,882|                 PHONE|         Unspecified|      QUEENS|        null|                null|                 null|               null|                    null|     null|                  null| 40.67124292850053|-73.81581846449136|(40.6712429285005...|\n",
            "|  15799435|2010-01-25 15:51:59|       null|   DPR|Department of Par...|        Damaged Tree|Entire Tree Has F...|              Street|       11411|                null|                null|           null|              null|           116 AVENUE|           221 STREET|INTERSECTION|    CAMBRIA HEIGHTS|    null|          N/A|    Open|    null|  The Department of...|                          null|      13 QUEENS|      null|   QUEENS|                 1,056,789|                   193,149|                 PHONE|         Unspecified|      QUEENS|        null|                null|                 null|               null|                    null|     null|                  null|40.696528864213526|-73.73840480896233|(40.6965288642135...|\n",
            "|  15799467|2010-01-25 16:35:55|       null|   DPR|Department of Par...|        Damaged Tree|Branch or Limb Ha...|              Street|       11361|38-40 CLEARVIEW E...|CLEARVIEW EXPRESSWAY|      38 AVENUE|         39 AVENUE|                 null|                 null|     ADDRESS|            BAYSIDE|    null|          N/A|Assigned|    null|  The condition has...|          01/26/2010 12:53:...|      11 QUEENS|4062010044|   QUEENS|                 1,045,174|                   217,560|                 PHONE|         Unspecified|      QUEENS|        null|                null|                 null|               null|                    null|     null|                  null| 40.76361845583838|-73.78007041552206|(40.7636184558383...|\n",
            "|  15807365|2010-01-26 21:05:20|       null|   DPR|Department of Par...|        Damaged Tree|Branch or Limb Ha...|              Street|       11419|   114-08 107 AVENUE|          107 AVENUE|     114 STREET|        115 STREET|                 null|                 null|     ADDRESS|SOUTH RICHMOND HILL|    null|          N/A|Assigned|    null|  The condition has...|          01/27/2010 12:44:...|      10 QUEENS|4095520003|   QUEENS|                 1,032,165|                   188,247|                 PHONE|         Unspecified|      QUEENS|        null|                null|                 null|               null|                    null|     null|                  null| 40.68324160912405|-73.82724016676988|(40.6832416091240...|\n",
            "|  15816659|2010-01-27 15:11:43|       null|   DPR|Department of Par...|        Damaged Tree|Branch Cracked an...|                Park|       11417|                null|                null|           null|              null|                 null|                 null|        null|         OZONE PARK|    null|          N/A|Assigned|    null|  The condition has...|          01/28/2010 02:57:...|      10 QUEENS|      null|   QUEENS|                      null|                      null|                 OTHER|P.O. Nicholas Dem...|      QUEENS|        null|                null|                 null|               null|                    null|     null|                  null|              null|              null|                null|\n",
            "|  15821641|2010-01-27 16:55:00|       null|   DEP|Department of Env...|        Water System|Other Water Probl...|                null|       10039|                null|                null|           null|              null|     BRADHURST AVENUE|      WEST 150 STREET|INTERSECTION|           NEW YORK|    null|          N/A|Assigned|    null|  Please call 311 f...|          01/27/2010 12:00:...|   10 MANHATTAN|      null|MANHATTAN|                 1,000,691|                   240,368|               UNKNOWN|         Unspecified|   MANHATTAN|        null|                null|                 null|               null|                    null|     null|                  null| 40.82641485127078|-73.94059367107405|(40.8264148512707...|\n",
            "|  15832421|2010-01-29 12:15:39|       null| DOHMH|Department of Hea...|  Food Establishment|Food Contains For...|Restaurant/Bar/De...|       11229| 1708 EAST 16 STREET|      EAST 16 STREET|   QUENTIN ROAD|          AVENUE R|                 null|                 null|     ADDRESS|           BROOKLYN|    null|          N/A| Pending|    null|  The Department of...|          01/29/2010 04:55:...|    15 BROOKLYN|3067980013| BROOKLYN|                   996,141|                   160,737|               UNKNOWN|         Unspecified|    BROOKLYN|        null|                null|                 null|               null|                    null|     null|                  null|40.607854309881674|-73.95717486843468|(40.6078543098816...|\n",
            "|  15913798|2010-02-02 09:25:59|       null|   DPR|Department of Par...|Root/Sewer/Sidewa...|Sidewalk Consulta...|              Street|       11365|    70-54 173 STREET|          173 STREET|   JEWEL AVENUE|         73 AVENUE|                 null|                 null|     ADDRESS|      FRESH MEADOWS|    null|          N/A|    Open|    null|  The Department of...|                          null|      08 QUEENS|4069600076|   QUEENS|                 1,040,522|                   205,244|                 PHONE|         Unspecified|      QUEENS|        null|                null|                 null|               null|                    null|     null|                  null| 40.72984505293694|-73.79696665884714|(40.7298450529369...|\n",
            "|  15920358|2010-02-02 10:39:58|       null|  DSNY|Department of San...|            Graffiti|            Graffiti|                null|       10014|        212 6 AVENUE|            6 AVENUE|CHARLTON STREET|       KING STREET|                 null|                 null|     ADDRESS|           NEW YORK|    null|          N/A|    Open|    null|  The property is d...|          03/21/2010 02:22:...|   02 MANHATTAN|      null|MANHATTAN|                   983,329|                   204,233|               UNKNOWN|         Unspecified|   MANHATTAN|        null|                null|                 null|               null|                    null|     null|                  null| 40.72724905271548|-74.00332290047268|(40.7272490527154...|\n",
            "|  15940829|2010-02-05 22:47:46|       null| DOHMH|Department of Hea...|              Rodent|        Rat Sighting|3+ Family Mixed U...|       11203|735 LINDEN BOULEVARD|    LINDEN BOULEVARD| EAST 49 STREET|      UTICA AVENUE|                 null|                 null|     ADDRESS|           BROOKLYN|    null|          N/A| Pending|    null|  Please contact th...|          02/05/2010 10:54:...|    17 BROOKLYN|3046550030| BROOKLYN|                 1,003,375|                   177,475|                 PHONE|         Unspecified|    BROOKLYN|        null|                null|                 null|               null|                    null|     null|                  null| 40.65378390764326|-73.93107437936615|(40.6537839076432...|\n",
            "+----------+-------------------+-----------+------+--------------------+--------------------+--------------------+--------------------+------------+--------------------+--------------------+---------------+------------------+---------------------+---------------------+------------+-------------------+--------+-------------+--------+--------+----------------------+------------------------------+---------------+----------+---------+--------------------------+--------------------------+----------------------+--------------------+------------+------------+--------------------+---------------------+-------------------+------------------------+---------+----------------------+------------------+------------------+--------------------+\n",
            "only showing top 20 rows\n",
            "\n"
          ]
        }
      ],
      "source": [
        "df_new2.show()"
      ]
    },
    {
      "cell_type": "markdown",
      "source": [
        "We check the values for Closed Date < Created Date and later discard the corresponding rows from our data."
      ],
      "metadata": {
        "id": "Tmg2V6ZeqJry"
      }
    },
    {
      "cell_type": "code",
      "execution_count": null,
      "metadata": {
        "id": "le1NCoE2XOR0"
      },
      "outputs": [],
      "source": [
        "df_new3 = df_data.filter(df_data.Closed_Date < df_data.Created_Date)"
      ]
    },
    {
      "cell_type": "code",
      "execution_count": null,
      "metadata": {
        "colab": {
          "background_save": true
        },
        "id": "V3RXQaOdXOO9",
        "outputId": "6200481b-aa16-4746-d57d-2786f5c80f0d"
      },
      "outputs": [
        {
          "data": {
            "text/plain": [
              "268151"
            ]
          },
          "execution_count": null,
          "metadata": {},
          "output_type": "execute_result"
        }
      ],
      "source": [
        "df_new3.count()"
      ]
    },
    {
      "cell_type": "code",
      "execution_count": null,
      "metadata": {
        "colab": {
          "base_uri": "https://localhost:8080/"
        },
        "id": "h3Rbz9wgXOL0",
        "outputId": "e1f72603-3714-4e73-9875-76bcfa493afb"
      },
      "outputs": [
        {
          "output_type": "stream",
          "name": "stdout",
          "text": [
            "+----------+-------------------+-------------------+------+--------------------+--------------------+--------------------+--------------------+------------+--------------------+--------------------+-------------------+--------------------+---------------------+---------------------+------------+-------------+--------+-------------+--------+-------------------+----------------------+------------------------------+--------------------+----------+-------------+--------------------------+--------------------------+----------------------+------------------+-------------+------------+--------------------+---------------------+-------------------+------------------------+---------+----------------------+------------------+------------------+--------------------+\n",
            "|Unique_Key|       Created_Date|        Closed_Date|Agency|         Agency_Name|      Complaint_Type|          Descriptor|       Location_Type|Incident_Zip|    Incident_Address|         Street_Name|     Cross_Street_1|      Cross_Street_2|Intersection_Street_1|Intersection_Street_2|Address_Type|         City|Landmark|Facility_Type|  Status|           Due_Date|Resolution_Description|Resolution_Action_Updated_Date|     Community_Board|       BBL|      Borough|X Coordinate (State Plane)|Y Coordinate (State Plane)|Open Data Channel Type|Park Facility Name| Park_Borough|Vehicle Type|Taxi Company Borough|Taxi Pick Up Location|Bridge Highway Name|Bridge Highway Direction|Road Ramp|Bridge Highway Segment|          Latitude|         Longitude|            Location|\n",
            "+----------+-------------------+-------------------+------+--------------------+--------------------+--------------------+--------------------+------------+--------------------+--------------------+-------------------+--------------------+---------------------+---------------------+------------+-------------+--------+-------------+--------+-------------------+----------------------+------------------------------+--------------------+----------+-------------+--------------------------+--------------------------+----------------------+------------------+-------------+------------+--------------------+---------------------+-------------------+------------------------+---------+----------------------+------------------+------------------+--------------------+\n",
            "|  15667609|2010-01-05 15:16:00|2009-12-31 18:00:00|   DOT|Department of Tra...|Street Light Cond...|   Glassware Missing|                null|       10304|                null|                null|               null|                null|      ST PAULS AVENUE|         TAXTER PLACE|INTERSECTION|STATEN ISLAND|    null|          N/A| Pending|2009-12-31 18:00:00|  Service Request s...|          12/31/2009 06:00:...|    01 STATEN ISLAND|      null|STATEN ISLAND|                   961,946|                   169,254|               UNKNOWN|       Unspecified|STATEN ISLAND|        null|                null|                 null|               null|                    null|     null|                  null| 40.63121160177386|-74.08035540580413|(40.6312116017738...|\n",
            "|  15669277|2010-01-06 08:40:06|1900-01-01 00:00:00| DOHMH|Department of Hea...|Non-Residential Heat|Inadequate or No ...|Building (Non-Res...|       10473| 1930 RANDALL AVENUE|      RANDALL AVENUE|  WHITE PLAINS ROAD|       NEWMAN AVENUE|                 null|                 null|     ADDRESS|        BRONX|    null|          N/A|Assigned|1900-01-01 00:00:00|  The Department of...|          01/07/2010 10:03:...|            09 BRONX|2035280017|        BRONX|                 1,023,913|                   237,271|                 PHONE|       Unspecified|        BRONX|        null|                null|                 null|               null|                    null|     null|                  null|  40.8178407216002|-73.85670394031054|(40.8178407216002...|\n",
            "|  15670649|2010-01-06 14:39:29|1900-01-01 00:00:00| DOHMH|Department of Hea...|Non-Residential Heat|Inadequate or No ...|Building (Non-Res...|       11225| 500 FLATBUSH AVENUE|     FLATBUSH AVENUE|       NYCTA SUBWAY|     LEFFERTS AVENUE|                 null|                 null|     ADDRESS|     BROOKLYN|    null|          N/A|Assigned|1900-01-01 00:00:00|  The Department of...|          01/07/2010 10:03:...|         09 BROOKLYN|3050240049|     BROOKLYN|                   994,882|                   180,475|                 PHONE|       Unspecified|     BROOKLYN|        null|                null|                 null|               null|                    null|     null|                  null|40.662032517847095|-73.96167802542855|(40.6620325178470...|\n",
            "|  15680028|2010-01-07 17:20:45|1900-01-01 00:00:00| DOHMH|Department of Hea...|Non-Residential Heat|Inadequate or No ...|Building (Non-Res...|       11211|     38 MARCY AVENUE|        MARCY AVENUE|METROPOLITAN AVENUE|BQE WB ENTRANCE M...|                 null|                 null|     ADDRESS|     BROOKLYN|    null|          N/A|Assigned|1900-01-01 00:00:00|  The Department of...|          01/08/2010 11:13:...|         01 BROOKLYN|3023690036|     BROOKLYN|                   996,741|                   199,078|                 PHONE|       Unspecified|     BROOKLYN|        null|                null|                 null|               null|                    null|     null|                  null|40.713091050297386|-73.95494295841074|(40.7130910502973...|\n",
            "|  15685206|2010-01-07 11:05:00|2010-01-05 21:45:00|   DOT|Department of Tra...|Street Light Cond...|    Street Light Out|                null|       10301|                null|                null|               null|                null|      FRANKLIN AVENUE|     RICHMOND TERRACE|INTERSECTION|STATEN ISLAND|    null|          N/A| Pending|2010-01-05 21:45:00|  Service Request s...|          01/05/2010 12:00:...|    01 STATEN ISLAND|      null|STATEN ISLAND|                   958,480|                   174,454|               UNKNOWN|       Unspecified|STATEN ISLAND|        null|                null|                 null|               null|                    null|     null|                  null| 40.64547507827915|-74.09286233752006|(40.6454750782791...|\n",
            "|  15713604|2010-01-12 11:38:39|1900-01-01 00:00:00| DOHMH|Department of Hea...|Non-Residential Heat|Inadequate or No ...|Building (Non-Res...|       10452|  62 EAST 170 STREET|     EAST 170 STREET|    TOWNSEND AVENUE|       WALTON AVENUE|                 null|                 null|     ADDRESS|        BRONX|    null|          N/A|Assigned|1900-01-01 00:00:00|  The Department of...|          01/12/2010 05:49:...|            04 BRONX|2028420018|        BRONX|                 1,007,387|                   245,220|                 PHONE|       Unspecified|        BRONX|        null|                null|                 null|               null|                    null|     null|                  null| 40.83971718619205|-73.91638226564193|(40.8397171861920...|\n",
            "|  15763565|2010-01-19 10:55:00|2010-01-14 10:55:00|   DOT|Department of Tra...|Street Light Cond...|Street Light Cycling|                null|        null|J J BYRNE MEMORIA...|J J BYRNE MEMORIA...|               3 ST|               4 AVE|                 null|                 null|   BLOCKFACE|         null|    null|          N/A| Pending|2010-01-14 10:55:00|  Service Request s...|          01/14/2010 12:00:...|Unspecified BROOKLYN|      null|     BROOKLYN|                      null|                      null|               UNKNOWN|       Unspecified|     BROOKLYN|        null|                null|                 null|               null|                    null|     null|                  null|              null|              null|                null|\n",
            "|  15763631|2010-01-19 10:52:00|2010-01-15 10:51:00|   DOT|Department of Tra...|Street Light Cond...|    Street Light Out|                null|        null|                null|                null|               null|                null|            JEWEL AVE|   GRAND CENTRAL PKWY|INTERSECTION|         null|    null|          N/A| Pending|2010-01-15 10:51:00|  Service Request s...|          01/15/2010 12:00:...|  Unspecified QUEENS|      null|       QUEENS|                      null|                      null|               UNKNOWN|       Unspecified|       QUEENS|        null|                null|                 null|               null|                    null|     null|                  null|              null|              null|                null|\n",
            "|  15763686|2010-01-19 14:25:00|2010-01-16 01:15:00|   DOT|Department of Tra...|Street Light Cond...|    Street Light Out|                null|       10302|                null|                null|               null|                null|      HEBERTON AVENUE|     RICHMOND TERRACE|INTERSECTION|STATEN ISLAND|    null|          N/A| Pending|2010-01-16 01:15:00|  Service Request s...|          01/16/2010 12:00:...|    01 STATEN ISLAND|      null|STATEN ISLAND|                   948,369|                   172,050|               UNKNOWN|       Unspecified|STATEN ISLAND|        null|                null|                 null|               null|                    null|     null|                  null| 40.63884142933633|-74.12928455104098|(40.6388414293363...|\n",
            "|  15764003|2010-01-19 09:51:00|2010-01-15 09:51:00|   DOT|Department of Tra...|Street Light Cond...|    Street Light Out|                null|       11362|                null|                null|               null|                null|   DOUGLASTON PARKWAY|            65 AVENUE|INTERSECTION|  LITTLE NECK|    null|          N/A| Pending|2010-01-15 09:51:00|  Service Request s...|          01/15/2010 12:00:...|           11 QUEENS|      null|       QUEENS|                 1,055,889|                   213,615|               UNKNOWN|       Unspecified|       QUEENS|        null|                null|                 null|               null|                    null|     null|                  null| 40.75271015386375|-73.74143257474104|(40.7527101538637...|\n",
            "|  15771773|2010-01-20 11:14:00|2010-01-19 11:13:00|   DOT|Department of Tra...|Street Light Cond...|    Street Light Out|                null|       11219|                null|                null|               null|                null|            46 STREET|            13 AVENUE|INTERSECTION|     BROOKLYN|    null|          N/A| Pending|2010-01-19 11:13:00|  Service Request s...|          01/19/2010 12:00:...|         12 BROOKLYN|      null|     BROOKLYN|                   986,922|                   171,245|               UNKNOWN|       Unspecified|     BROOKLYN|        null|                null|                 null|               null|                    null|     null|                  null| 40.63670415049348|  -73.990372700548|(40.6367041504934...|\n",
            "|  15788001|2010-01-22 08:28:00|2010-01-13 02:09:00|   DOT|Department of Tra...|Street Light Cond...|    Street Light Out|                null|        null|                null|                null|               null|                null|           SELWYN AVE|             173 ST E|INTERSECTION|         null|    null|          N/A| Pending|2010-01-13 02:09:00|  Service Request s...|          01/13/2010 12:00:...|   Unspecified BRONX|      null|        BRONX|                      null|                      null|               UNKNOWN|       Unspecified|        BRONX|        null|                null|                 null|               null|                    null|     null|                  null|              null|              null|                null|\n",
            "|  15805191|2010-01-25 14:25:00|2010-01-14 22:05:00|   DOT|Department of Tra...|Street Light Cond...|    Street Light Out|                null|       10473|                null|                null|               null|                null|      TURNBULL AVENUE|      OLMSTEAD AVENUE|INTERSECTION|        BRONX|    null|          N/A| Pending|2010-01-14 22:05:00|  Service Request s...|          01/14/2010 12:00:...|            09 BRONX|      null|        BRONX|                 1,025,141|                   239,374|               UNKNOWN|       Unspecified|        BRONX|        null|                null|                 null|               null|                    null|     null|                  null| 40.82360725578607|-73.85225456670456|(40.8236072557860...|\n",
            "|  15814590|2010-01-26 12:14:00|2010-01-19 00:11:00|   DOT|Department of Tra...|Street Light Cond...|    Street Light Out|                null|        null|                null|                null|               null|                null|            RIVER AVE|             165 ST E|INTERSECTION|         null|    null|          N/A| Pending|2010-01-19 00:11:00|  Service Request s...|          01/19/2010 12:00:...|   Unspecified BRONX|      null|        BRONX|                      null|                      null|               UNKNOWN|       Unspecified|        BRONX|        null|                null|                 null|               null|                    null|     null|                  null|              null|              null|                null|\n",
            "|  15831568|2010-01-28 14:35:00|2010-01-25 23:05:00|   DOT|Department of Tra...|Street Light Cond...|    Street Light Out|                null|        null|                null|                null|               null|                null|         SEDGWICK AVE|             238 ST W|INTERSECTION|         null|    null|          N/A| Pending|2010-01-25 23:05:00|  Service Request s...|          01/25/2010 12:00:...|   Unspecified BRONX|      null|        BRONX|                      null|                      null|               UNKNOWN|       Unspecified|        BRONX|        null|                null|                 null|               null|                    null|     null|                  null|              null|              null|                null|\n",
            "|  15910155|2010-02-01 11:28:00|2010-01-25 01:23:00|   DOT|Department of Tra...|Street Light Cond...|Fixture/Luminaire...|                null|        null|                null|                null|               null|                null|        MANHATTAN AVE|             119 ST W|INTERSECTION|         null|    null|          N/A| Pending|2010-01-25 01:23:00|  Service Request s...|          01/25/2010 12:00:...|Unspecified MANHA...|      null|    MANHATTAN|                      null|                      null|               UNKNOWN|       Unspecified|    MANHATTAN|        null|                null|                 null|               null|                    null|     null|                  null|              null|              null|                null|\n",
            "|  15912104|2010-02-01 13:30:00|2010-01-27 22:10:00|   DOT|Department of Tra...|Street Light Cond...|    Street Light Out|                null|        null|                null|                null|               null|                null|             132 ST E|           LOCUST AVE|INTERSECTION|         null|    null|          N/A| Pending|2010-01-27 22:10:00|  Service Request s...|          01/27/2010 12:00:...|   Unspecified BRONX|      null|        BRONX|                      null|                      null|               UNKNOWN|       Unspecified|        BRONX|        null|                null|                 null|               null|                    null|     null|                  null|              null|              null|                null|\n",
            "|  15912608|2010-02-01 11:05:00|2010-01-29 11:05:00|   DOT|Department of Tra...|Street Light Cond...|Street Light Cycling|                null|       11207|                null|                null|               null|                null|        HALSEY STREET|     EVERGREEN AVENUE|INTERSECTION|     BROOKLYN|    null|          N/A| Pending|2010-01-29 11:05:00|  Service Request s...|          01/29/2010 12:00:...|         04 BROOKLYN|      null|     BROOKLYN|                 1,008,532|                   190,147|               UNKNOWN|       Unspecified|     BROOKLYN|        null|                null|                 null|               null|                    null|     null|                  null| 40.68855305363482| -73.9124431513063|(40.6885530536348...|\n",
            "|  15913000|2010-02-01 12:36:00|2010-01-05 12:36:00|   DOT|Department of Tra...|Street Light Cond...|    Street Light Out|                null|        null|  GRAND CENTRAL PKWY|  GRAND CENTRAL PKWY|             188 ST|                null|                 null|                 null|        null|         null|    null|          N/A| Pending|2010-01-05 12:36:00|  \"Service Request ...|          01/05/2010 12:00:...|  Unspecified QUEENS|      null|       QUEENS|                      null|                      null|               UNKNOWN|       Unspecified|       QUEENS|        null|                null|                 null|               null|                    null|     null|                  null|              null|              null|                null|\n",
            "|  15922111|2010-02-02 11:27:00|2010-02-01 11:26:00|   DOT|Department of Tra...|Street Light Cond...|    Street Light Out|                null|        null|                null|                null|               null|                null|         ATLANTIC AVE|       NEW YORK AVE E|INTERSECTION|         null|    null|          N/A| Pending|2010-02-01 11:26:00|  \"Service Request ...|          02/01/2010 12:00:...|Unspecified BROOKLYN|      null|     BROOKLYN|                      null|                      null|               UNKNOWN|       Unspecified|     BROOKLYN|        null|                null|                 null|               null|                    null|     null|                  null|              null|              null|                null|\n",
            "+----------+-------------------+-------------------+------+--------------------+--------------------+--------------------+--------------------+------------+--------------------+--------------------+-------------------+--------------------+---------------------+---------------------+------------+-------------+--------+-------------+--------+-------------------+----------------------+------------------------------+--------------------+----------+-------------+--------------------------+--------------------------+----------------------+------------------+-------------+------------+--------------------+---------------------+-------------------+------------------------+---------+----------------------+------------------+------------------+--------------------+\n",
            "only showing top 20 rows\n",
            "\n"
          ]
        }
      ],
      "source": [
        "df_new3.show()"
      ]
    },
    {
      "cell_type": "code",
      "execution_count": null,
      "metadata": {
        "id": "IKM6aTEsXOIL"
      },
      "outputs": [],
      "source": [
        ""
      ]
    },
    {
      "cell_type": "markdown",
      "source": [
        "Combining rows Containing \"Created Date < Closed Date\" and \"Closed Date = Null\""
      ],
      "metadata": {
        "id": "bwnCdNX1qYnP"
      }
    },
    {
      "cell_type": "code",
      "execution_count": null,
      "metadata": {
        "id": "pFW-8cTpXOC_"
      },
      "outputs": [],
      "source": [
        "from functools import reduce "
      ]
    },
    {
      "cell_type": "code",
      "execution_count": null,
      "metadata": {
        "id": "f5I7tLf6XaUa"
      },
      "outputs": [],
      "source": [
        "def unionAll(*dfs):\n",
        "    return reduce(DataFrame.unionAll, dfs)"
      ]
    },
    {
      "cell_type": "code",
      "execution_count": null,
      "metadata": {
        "id": "JE7z-pQLXaP-"
      },
      "outputs": [],
      "source": [
        "df_data2 = unionAll(*[df_new,df_new2])"
      ]
    },
    {
      "cell_type": "code",
      "execution_count": null,
      "metadata": {
        "colab": {
          "base_uri": "https://localhost:8080/"
        },
        "id": "SsNo6ZljXaNv",
        "outputId": "5f67a5de-0646-41a4-85c5-47ed84311964"
      },
      "outputs": [
        {
          "output_type": "execute_result",
          "data": {
            "text/plain": [
              "25874695"
            ]
          },
          "metadata": {},
          "execution_count": 28
        }
      ],
      "source": [
        "df_data2.count()"
      ]
    },
    {
      "cell_type": "code",
      "execution_count": null,
      "metadata": {
        "colab": {
          "base_uri": "https://localhost:8080/"
        },
        "id": "O1TWQDN-XaLR",
        "outputId": "456ca777-926f-4949-f31c-409cfee82b90"
      },
      "outputs": [
        {
          "output_type": "stream",
          "name": "stdout",
          "text": [
            "+----------+-------------------+-------------------+------+--------------------+--------------------+--------------------+--------------------+------------+--------------------+--------------------+----------------+------------------+---------------------+---------------------+------------+--------+--------+-------------+------+-------------------+----------------------+------------------------------+---------------+----------+-----------+--------------------------+--------------------------+----------------------+------------------+------------+------------+--------------------+---------------------+-------------------+------------------------+---------+----------------------+------------------+------------------+--------------------+\n",
            "|Unique_Key|       Created_Date|        Closed_Date|Agency|         Agency_Name|      Complaint_Type|          Descriptor|       Location_Type|Incident_Zip|    Incident_Address|         Street_Name|  Cross_Street_1|    Cross_Street_2|Intersection_Street_1|Intersection_Street_2|Address_Type|    City|Landmark|Facility_Type|Status|           Due_Date|Resolution_Description|Resolution_Action_Updated_Date|Community_Board|       BBL|    Borough|X Coordinate (State Plane)|Y Coordinate (State Plane)|Open Data Channel Type|Park Facility Name|Park_Borough|Vehicle Type|Taxi Company Borough|Taxi Pick Up Location|Bridge Highway Name|Bridge Highway Direction|Road Ramp|Bridge Highway Segment|          Latitude|         Longitude|            Location|\n",
            "+----------+-------------------+-------------------+------+--------------------+--------------------+--------------------+--------------------+------------+--------------------+--------------------+----------------+------------------+---------------------+---------------------+------------+--------+--------+-------------+------+-------------------+----------------------+------------------------------+---------------+----------+-----------+--------------------------+--------------------------+----------------------+------------------+------------+------------+--------------------+---------------------+-------------------+------------------------+---------+----------------------+------------------+------------------+--------------------+\n",
            "|  15633048|2010-01-01 06:47:27|2010-01-02 04:11:49|   DOT|Department of Tra...|   Highway Condition|   Pothole - Highway|             Highway|       10029|                null|                null|            null|              null|                 null|                 null|        null|NEW YORK|    null|          N/A|Closed|2010-01-02 04:11:49|  The condition has...|          01/02/2010 04:11:...|   11 MANHATTAN|      null|  MANHATTAN|                 1,001,691|                   227,032|                 PHONE|       Unspecified|   MANHATTAN|        null|                null|                 null|             FDR Dr|       Northbound/Uptown|  Roadway|  East 96th St (Exi...| 40.78980931228038|-73.93701501629278|(40.7898093122803...|\n",
            "|  15633055|2010-01-01 11:23:19|2010-01-06 16:57:42|   DOF|Senior Citizen Re...|               SCRIE|    SCRIE Assistance|      Senior Address|       11229|                null|                null|            null|              null|                 null|                 null|     ADDRESS|BROOKLYN|    null|          N/A|Closed|2010-01-06 16:57:42|  The Department of...|          01/06/2010 04:57:...|    15 BROOKLYN|      null|   BROOKLYN|                      null|                      null|                 PHONE|       Unspecified|    BROOKLYN|        null|                null|                 null|               null|                    null|     null|                  null|              null|              null|                null|\n",
            "|  15633201|2010-01-01 04:49:33|2010-01-01 05:06:06|  NYPD|New York City Pol...| Urinating in Public|                 N/A|Residential Build...|       10013|    56 WALKER STREET|       WALKER STREET|   CHURCH STREET|          BROADWAY|                 null|                 null|     ADDRESS|NEW YORK|    null|     Precinct|Closed|2010-01-01 05:06:06|  The Police Depart...|          01/01/2010 05:06:...|   01 MANHATTAN|1001940004|  MANHATTAN|                   983,373|                   201,200|                 PHONE|       Unspecified|   MANHATTAN|        null|                null|                 null|               null|                    null|     null|                  null| 40.71892420625634|-74.00316375647537|(40.7189242062563...|\n",
            "|  15633394|2010-01-01 23:56:03|2010-01-03 00:00:33|   HPD|Department of Hou...|HPD Literature Re...|Tenant and Landlo...|                null|        null|                null|                null|            null|              null|                 null|                 null|        null|    null|    null|          N/A|Closed|2010-01-03 00:00:33|  The literature wi...|          01/02/2010 12:00:...|  0 Unspecified|      null|Unspecified|                      null|                      null|                 PHONE|       Unspecified| Unspecified|        null|                null|                 null|               null|                    null|     null|                  null|              null|              null|                null|\n",
            "|  15633844|2010-01-01 11:11:19|2010-01-01 16:58:44|  NYPD|New York City Pol...| Noise - Residential|    Loud Music/Party|Residential Build...|       11221|137 STUYVESANT AV...|   STUYVESANT AVENUE|VAN BUREN STREET|     GREENE AVENUE|                 null|                 null|     ADDRESS|BROOKLYN|    null|     Precinct|Closed|2010-01-01 16:58:44|  The Police Depart...|          01/01/2010 04:58:...|    03 BROOKLYN|3016160097|   BROOKLYN|                 1,002,677|                   190,865|                 PHONE|       Unspecified|    BROOKLYN|        null|                null|                 null|               null|                    null|     null|                  null|40.690537924498145| -73.9335533331082|(40.6905379244981...|\n",
            "|  15634175|2010-01-02 01:05:44|2010-01-02 06:51:58|  NYPD|New York City Pol...| Noise - Residential|    Loud Music/Party|Residential Build...|       10472| 1996 GLEASON AVENUE|      GLEASON AVENUE| VIRGINIA AVENUE|    PUGSLEY AVENUE|                 null|                 null|     ADDRESS|   BRONX|    null|     Precinct|Closed|2010-01-02 06:51:58|  The Police Depart...|          01/02/2010 06:51:...|       09 BRONX|2037920042|      BRONX|                 1,023,621|                   242,071|                 PHONE|       Unspecified|       BRONX|        null|                null|                 null|               null|                    null|     null|                  null| 40.83101664751081|-73.85773072259643|(40.8310166475108...|\n",
            "|  15634493|2010-01-02 01:16:35|2010-01-02 07:50:01|  NYPD|New York City Pol...| Noise - Residential|     Loud Television|Residential Build...|       10452|  1027 WALTON AVENUE|       WALTON AVENUE| EAST 164 STREET|   EAST 165 STREET|                 null|                 null|     ADDRESS|   BRONX|    null|     Precinct|Closed|2010-01-02 07:50:01|  The Police Depart...|          01/02/2010 07:50:...|       04 BRONX|2024770021|      BRONX|                 1,005,828|                   241,946|                 PHONE|       Unspecified|       BRONX|        null|                null|                 null|               null|                    null|     null|                  null| 40.83073495266584|-73.92202706239397|(40.8307349526658...|\n",
            "|  15634937|2010-01-01 00:00:00|2010-01-05 00:00:00|   HPD|Department of Hou...|             HEATING|                HEAT|RESIDENTIAL BUILDING|       10468|2281 DR M L KING ...|DR M L KING JR BO...| WEST 183 STREET| WEST FORDHAM ROAD|                 null|                 null|     ADDRESS|   BRONX|    null|          N/A|Closed|2010-01-05 00:00:00|  More than one com...|          01/05/2010 12:00:...|  0 Unspecified|2032180066|Unspecified|                 1,009,999|                   252,822|               UNKNOWN|       Unspecified| Unspecified|        null|                null|                 null|               null|                    null|     null|                  null|40.860575184765274|-73.90691323925813|(40.8605751847652...|\n",
            "|  15635023|2010-01-01 00:00:00|2010-01-04 00:00:00|   HPD|Department of Hou...|             HEATING|                HEAT|RESIDENTIAL BUILDING|       11233|   849 HALSEY STREET|       HALSEY STREET|   HOWARD AVENUE|   SARATOGA AVENUE|                 null|                 null|     ADDRESS|BROOKLYN|    null|          N/A|Closed|2010-01-04 00:00:00|  The Department of...|          01/04/2010 12:00:...|  0 Unspecified|3014910047|Unspecified|                 1,006,754|                   188,988|               UNKNOWN|       Unspecified| Unspecified|        null|                null|                 null|               null|                    null|     null|                  null|40.685376564950644|-73.91885819061036|(40.6853765649506...|\n",
            "|  15635165|2010-01-01 00:00:00|2010-01-05 00:00:00|   HPD|Department of Hou...|             HEATING|                HEAT|RESIDENTIAL BUILDING|       10466|1135 EAST 224 STREET|     EAST 224 STREET|            BEND|SCHIEFFELIN AVENUE|                 null|                 null|     ADDRESS|   BRONX|    null|          N/A|Closed|2010-01-05 00:00:00|  The Department of...|          01/05/2010 12:00:...|  0 Unspecified|2049030030|Unspecified|                 1,026,205|                   260,993|               UNKNOWN|       Unspecified| Unspecified|        null|                null|                 null|               null|                    null|     null|                  null| 40.88293989911719|-73.84827488251594|(40.8829398991171...|\n",
            "|  15635369|2010-01-01 00:00:00|2010-01-13 00:00:00|   HPD|Department of Hou...|GENERAL CONSTRUCTION|             WINDOWS|RESIDENTIAL BUILDING|       10456|1214 SHERIDAN AVENUE|     SHERIDAN AVENUE| EAST 167 STREET|   EAST 168 STREET|                 null|                 null|     ADDRESS|   BRONX|    null|          N/A|Closed|2010-01-13 00:00:00|  The Department of...|          01/13/2010 12:00:...|  0 Unspecified|2024530003|Unspecified|                 1,007,405|                   243,302|               UNKNOWN|       Unspecified| Unspecified|        null|                null|                 null|               null|                    null|     null|                  null|40.834452787215696|-73.91632383462321|(40.8344527872156...|\n",
            "|  15635490|2010-01-01 00:00:00|2010-01-06 00:00:00|   HPD|Department of Hou...|             HEATING|                HEAT|RESIDENTIAL BUILDING|       10460|    2082 BOSTON ROAD|         BOSTON ROAD| EAST 179 STREET|   EAST 180 STREET|                 null|                 null|     ADDRESS|   BRONX|    null|          N/A|Closed|2010-01-06 00:00:00|  More than one com...|          01/06/2010 12:00:...|  0 Unspecified|2031400007|Unspecified|                 1,017,875|                   246,104|               UNKNOWN|       Unspecified| Unspecified|        null|                null|                 null|               null|                    null|     null|                  null| 40.84210979931763|-73.87847396306556|(40.8421097993176...|\n",
            "|  15635619|2010-01-02 00:00:00|2010-01-05 00:00:00|   HPD|Department of Hou...|             HEATING|                HEAT|RESIDENTIAL BUILDING|       10031| 736 RIVERSIDE DRIVE|     RIVERSIDE DRIVE| WEST 150 STREET|   WEST 151 STREET|                 null|                 null|     ADDRESS|NEW YORK|    null|          N/A|Closed|2010-01-05 00:00:00|  More than one com...|          01/05/2010 12:00:...|  0 Unspecified|1020970047|Unspecified|                   998,221|                   241,946|               UNKNOWN|       Unspecified| Unspecified|        null|                null|                 null|               null|                    null|     null|                  null| 40.83075026178137|-73.94951524337782|(40.8307502617813...|\n",
            "|  15636451|2010-01-01 00:00:00|2010-01-08 00:00:00|   HPD|Department of Hou...|             HEATING|                HEAT|RESIDENTIAL BUILDING|       10026|49 ST NICHOLAS AV...|  ST NICHOLAS AVENUE| WEST 112 STREET|   WEST 113 STREET|                 null|                 null|     ADDRESS|NEW YORK|    null|          N/A|Closed|2010-01-08 00:00:00|  The Department of...|          01/08/2010 12:00:...|  0 Unspecified|1018220018|Unspecified|                   997,402|                   230,860|               UNKNOWN|       Unspecified| Unspecified|        null|                null|                 null|               null|                    null|     null|                  null| 40.80032355739803|-73.95249645558367|(40.8003235573980...|\n",
            "|  15636455|2010-01-01 00:00:00|2010-01-05 00:00:00|   HPD|Department of Hou...|             HEATING|                HEAT|RESIDENTIAL BUILDING|       10458| 214 EAST 203 STREET|     EAST 203 STREET| GRAND CONCOURSE|  VALENTINE AVENUE|                 null|                 null|     ADDRESS|   BRONX|    null|          N/A|Closed|2010-01-05 00:00:00|  More than one com...|          01/05/2010 12:00:...|  0 Unspecified|2033080008|Unspecified|                 1,015,790|                   257,647|               UNKNOWN|       Unspecified| Unspecified|        null|                null|                 null|               null|                    null|     null|                  null|40.873799540773234|-73.88595515823023|(40.8737995407732...|\n",
            "|  15636593|2010-01-02 13:45:05|2010-01-26 02:12:38|   TLC|Taxi and Limousin...|      Taxi Complaint|    Driver Complaint|              Street|       10017|                null|                null|            null|              null|       MADISON AVENUE|     EAST   46 STREET|INTERSECTION|NEW YORK|    null|          N/A|Closed|2010-01-26 02:12:38|  The complaint con...|          01/26/2010 02:12:...|   05 MANHATTAN|      null|  MANHATTAN|                   990,507|                   214,474|                 PHONE|       Unspecified|   MANHATTAN|        null|                null|                Other|               null|                    null|     null|                  null| 40.75535588223623|-73.97741567711402|(40.7553558822362...|\n",
            "|  15636642|2010-01-02 06:04:17|2010-01-02 07:24:29|  NYPD|New York City Pol...| Noise - Residential|    Loud Music/Party|Residential Build...|       11236|2115 ROCKAWAY PAR...|    ROCKAWAY PARKWAY| SKIDMORE AVENUE|    SCHENCK AVENUE|                 null|                 null|     ADDRESS|BROOKLYN|    null|     Precinct|Closed|2010-01-02 07:24:29|  The Police Depart...|          01/02/2010 07:24:...|    18 BROOKLYN|3083290225|   BROOKLYN|                 1,015,416|                   169,566|                 PHONE|       Unspecified|    BROOKLYN|        null|                null|                 null|               null|                    null|     null|                  null|40.632041228835405| -73.8877157440539|(40.6320412288354...|\n",
            "|  15636986|2010-01-02 23:36:41|2010-01-03 02:04:28|  NYPD|New York City Pol...| Noise - Residential|    Loud Music/Party|Residential Build...|       10040| 500 WEST 190 STREET|     WEST 190 STREET|AMSTERDAM AVENUE|    AUDUBON AVENUE|                 null|                 null|     ADDRESS|NEW YORK|    null|     Precinct|Closed|2010-01-03 02:04:28|  The Police Depart...|          01/03/2010 02:04:...|   12 MANHATTAN|1021590083|  MANHATTAN|                 1,004,438|                   250,348|                 PHONE|       Unspecified|   MANHATTAN|        null|                null|                 null|               null|                    null|     null|                  null| 40.85379926596536|-73.92702458568789|(40.8537992659653...|\n",
            "|  15637425|2010-01-02 13:22:32|2010-01-02 15:52:19|  NYPD|New York City Pol...|  Noise - Commercial|    Loud Music/Party|    Store/Commercial|       10013|        480 BROADWAY|            BROADWAY|    GRAND STREET|     BROOME STREET|                 null|                 null|     ADDRESS|NEW YORK|    null|     Precinct|Closed|2010-01-02 15:52:19|  The Police Depart...|          01/02/2010 03:52:...|   02 MANHATTAN|1004730010|  MANHATTAN|                   984,221|                   202,131|                 PHONE|       Unspecified|   MANHATTAN|        null|                null|                 null|               null|                    null|     null|                  null|40.721479620348866|-74.00010462081607|(40.7214796203488...|\n",
            "|  15637638|2010-01-02 13:11:00|2010-01-02 18:55:02|  NYPD|New York City Pol...| Noise - Residential|    Loud Music/Party|Residential Build...|       10025| 850 COLUMBUS AVENUE|     COLUMBUS AVENUE| WEST 100 STREET|   WEST 103 STREET|                 null|                 null|     ADDRESS|NEW YORK|    null|     Precinct|Closed|2010-01-02 18:55:02|  The Police Depart...|          01/02/2010 06:55:...|   07 MANHATTAN|1018550001|  MANHATTAN|                   993,983|                   229,483|                 PHONE|       Unspecified|   MANHATTAN|        null|                null|                 null|               null|                    null|     null|                  null| 40.79654849530831|-73.96484749326999|(40.7965484953083...|\n",
            "+----------+-------------------+-------------------+------+--------------------+--------------------+--------------------+--------------------+------------+--------------------+--------------------+----------------+------------------+---------------------+---------------------+------------+--------+--------+-------------+------+-------------------+----------------------+------------------------------+---------------+----------+-----------+--------------------------+--------------------------+----------------------+------------------+------------+------------+--------------------+---------------------+-------------------+------------------------+---------+----------------------+------------------+------------------+--------------------+\n",
            "only showing top 20 rows\n",
            "\n"
          ]
        }
      ],
      "source": [
        "df_data2.show()"
      ]
    },
    {
      "cell_type": "code",
      "source": [
        ""
      ],
      "metadata": {
        "id": "tAjMV4SfsWZx"
      },
      "execution_count": null,
      "outputs": []
    }
  ],
  "metadata": {
    "colab": {
      "name": "RmvDuplicate_DateConversion_full_data.ipynb",
      "provenance": []
    },
    "kernelspec": {
      "display_name": "Python 3",
      "name": "python3"
    },
    "language_info": {
      "name": "python"
    }
  },
  "nbformat": 4,
  "nbformat_minor": 0
}