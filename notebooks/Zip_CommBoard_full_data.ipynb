{
  "nbformat": 4,
  "nbformat_minor": 0,
  "metadata": {
    "colab": {
      "name": "Zip_CommBoard_full_data.ipynb",
      "provenance": []
    },
    "kernelspec": {
      "name": "python3",
      "display_name": "Python 3"
    },
    "language_info": {
      "name": "python"
    }
  },
  "cells": [
    {
      "cell_type": "code",
      "execution_count": null,
      "metadata": {
        "id": "2nbePVDPd2GN"
      },
      "outputs": [],
      "source": [
        ""
      ]
    },
    {
      "cell_type": "code",
      "execution_count": null,
      "metadata": {
        "colab": {
          "base_uri": "https://localhost:8080/"
        },
        "id": "Nv9ETYdesspN",
        "outputId": "7dbb9f3b-be24-4734-da30-06de54de7cc3"
      },
      "outputs": [
        {
          "output_type": "stream",
          "name": "stdout",
          "text": [
            "Drive already mounted at /content/drive/; to attempt to forcibly remount, call drive.mount(\"/content/drive/\", force_remount=True).\n"
          ]
        }
      ],
      "source": [
        "#from google.colab import drive\n",
        "#drive.mount('/content/drive/')"
      ]
    },
    {
      "cell_type": "code",
      "source": [
        "!pip install pyspark\n",
        "!pip install openclean\n",
        "!pip install uszipcode\n",
        "!pip install humanfriendly"
      ],
      "metadata": {
        "id": "OG4stg98svnn"
      },
      "execution_count": null,
      "outputs": []
    },
    {
      "cell_type": "code",
      "source": [
        "import pandas as pd\n",
        "import uszipcode\n",
        "import gzip\n",
        "import humanfriendly\n",
        "import os\n",
        "import numpy as np"
      ],
      "metadata": {
        "id": "GuiJdrTrs2Sj"
      },
      "execution_count": null,
      "outputs": []
    },
    {
      "cell_type": "code",
      "source": [
        "from openclean.data.source.socrata import Socrata\n",
        "from openclean.profiling.column import DefaultColumnProfiler\n",
        "from openclean.profiling.anomalies.sklearn import DBSCANOutliers\n",
        "from openclean.cluster.key import KeyCollision\n",
        "from openclean.function.value.key.fingerprint import Fingerprint"
      ],
      "metadata": {
        "id": "ydmDQQOFtO2z"
      },
      "execution_count": null,
      "outputs": []
    },
    {
      "cell_type": "code",
      "source": [
        "!pip install datatable"
      ],
      "metadata": {
        "colab": {
          "base_uri": "https://localhost:8080/"
        },
        "id": "wYNyyNZ7ghuZ",
        "outputId": "5371e1cc-46e2-40a3-f20d-b3bb6d7bc93d"
      },
      "execution_count": null,
      "outputs": [
        {
          "output_type": "stream",
          "name": "stdout",
          "text": [
            "Requirement already satisfied: datatable in /usr/local/lib/python3.7/dist-packages (1.0.0)\n"
          ]
        }
      ]
    },
    {
      "cell_type": "code",
      "source": [
        "import datatable as dt\n",
        "pd_data = dt.fread(\"../data/311_Service_Requests_from_2010_to_Present.csv\")"
      ],
      "metadata": {
        "colab": {
          "base_uri": "https://localhost:8080/",
          "height": 17
        },
        "id": "PhDY1Sthgh77",
        "outputId": "36b29999-0b7e-44dd-b6b3-878fd4a223e7"
      },
      "execution_count": null,
      "outputs": [
        {
          "output_type": "display_data",
          "data": {
            "text/html": [
              "<style type='text/css'>\n",
              ".datatable table.frame { margin-bottom: 0; }\n",
              ".datatable table.frame thead { border-bottom: none; }\n",
              ".datatable table.frame tr.coltypes td {  color: #FFFFFF;  line-height: 6px;  padding: 0 0.5em;}\n",
              ".datatable .bool    { background: #DDDD99; }\n",
              ".datatable .object  { background: #565656; }\n",
              ".datatable .int     { background: #5D9E5D; }\n",
              ".datatable .float   { background: #4040CC; }\n",
              ".datatable .str     { background: #CC4040; }\n",
              ".datatable .time    { background: #40CC40; }\n",
              ".datatable .row_index {  background: var(--jp-border-color3);  border-right: 1px solid var(--jp-border-color0);  color: var(--jp-ui-font-color3);  font-size: 9px;}\n",
              ".datatable .frame tbody td { text-align: left; }\n",
              ".datatable .frame tr.coltypes .row_index {  background: var(--jp-border-color0);}\n",
              ".datatable th:nth-child(2) { padding-left: 12px; }\n",
              ".datatable .hellipsis {  color: var(--jp-cell-editor-border-color);}\n",
              ".datatable .vellipsis {  background: var(--jp-layout-color0);  color: var(--jp-cell-editor-border-color);}\n",
              ".datatable .na {  color: var(--jp-cell-editor-border-color);  font-size: 80%;}\n",
              ".datatable .sp {  opacity: 0.25;}\n",
              ".datatable .footer { font-size: 9px; }\n",
              ".datatable .frame_dimensions {  background: var(--jp-border-color3);  border-top: 1px solid var(--jp-border-color0);  color: var(--jp-ui-font-color3);  display: inline-block;  opacity: 0.6;  padding: 1px 10px 1px 5px;}\n",
              ".datatable .frame thead tr.colnames {  background-image: url('data:image/png;base64,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');  background-repeat: repeat-x;  background-size: 14px;  height: 28px;}\n",
              "</style>\n"
            ],
            "text/plain": [
              "<IPython.core.display.HTML object>"
            ]
          },
          "metadata": {}
        }
      ]
    },
    {
      "cell_type": "code",
      "source": [
        "pd_data = pd.read_csv(\"../data/311_Service_Requests_from_2010_to_Present.csv\")"
      ],
      "metadata": {
        "id": "sgpyt6ZptRgY"
      },
      "execution_count": null,
      "outputs": []
    },
    {
      "cell_type": "code",
      "source": [
        "pd_data.head()"
      ],
      "metadata": {
        "colab": {
          "base_uri": "https://localhost:8080/",
          "height": 591
        },
        "id": "LSKo2qpftcTX",
        "outputId": "3eceb97a-fb04-44cd-e684-81da9caf0e05"
      },
      "execution_count": null,
      "outputs": [
        {
          "output_type": "execute_result",
          "data": {
            "text/html": [
              "<div>\n",
              "<style scoped>\n",
              "    .dataframe tbody tr th:only-of-type {\n",
              "        vertical-align: middle;\n",
              "    }\n",
              "\n",
              "    .dataframe tbody tr th {\n",
              "        vertical-align: top;\n",
              "    }\n",
              "\n",
              "    .dataframe thead th {\n",
              "        text-align: right;\n",
              "    }\n",
              "</style>\n",
              "<table border=\"1\" class=\"dataframe\">\n",
              "  <thead>\n",
              "    <tr style=\"text-align: right;\">\n",
              "      <th></th>\n",
              "      <th>Unnamed: 0</th>\n",
              "      <th>Unique Key</th>\n",
              "      <th>Created Date</th>\n",
              "      <th>Closed Date</th>\n",
              "      <th>Agency</th>\n",
              "      <th>Agency Name</th>\n",
              "      <th>Complaint Type</th>\n",
              "      <th>Descriptor</th>\n",
              "      <th>Location Type</th>\n",
              "      <th>Incident Zip</th>\n",
              "      <th>Incident Address</th>\n",
              "      <th>Street Name</th>\n",
              "      <th>Cross Street 1</th>\n",
              "      <th>Cross Street 2</th>\n",
              "      <th>Intersection Street 1</th>\n",
              "      <th>Intersection Street 2</th>\n",
              "      <th>Address Type</th>\n",
              "      <th>City</th>\n",
              "      <th>Landmark</th>\n",
              "      <th>Facility Type</th>\n",
              "      <th>Status</th>\n",
              "      <th>Due Date</th>\n",
              "      <th>Resolution Description</th>\n",
              "      <th>Resolution Action Updated Date</th>\n",
              "      <th>Community Board</th>\n",
              "      <th>BBL</th>\n",
              "      <th>Borough</th>\n",
              "      <th>X Coordinate (State Plane)</th>\n",
              "      <th>Y Coordinate (State Plane)</th>\n",
              "      <th>Open Data Channel Type</th>\n",
              "      <th>Park Facility Name</th>\n",
              "      <th>Park Borough</th>\n",
              "      <th>Vehicle Type</th>\n",
              "      <th>Taxi Company Borough</th>\n",
              "      <th>Taxi Pick Up Location</th>\n",
              "      <th>Bridge Highway Name</th>\n",
              "      <th>Bridge Highway Direction</th>\n",
              "      <th>Road Ramp</th>\n",
              "      <th>Bridge Highway Segment</th>\n",
              "      <th>Latitude</th>\n",
              "      <th>Longitude</th>\n",
              "      <th>Location</th>\n",
              "    </tr>\n",
              "  </thead>\n",
              "  <tbody>\n",
              "    <tr>\n",
              "      <th>0</th>\n",
              "      <td>0</td>\n",
              "      <td>51560911</td>\n",
              "      <td>08/17/2021 07:34:45 AM</td>\n",
              "      <td>08/17/2021 09:34:29 AM</td>\n",
              "      <td>NYPD</td>\n",
              "      <td>New York City Police Department</td>\n",
              "      <td>Illegal Parking</td>\n",
              "      <td>Blocked Sidewalk</td>\n",
              "      <td>Street/Sidewalk</td>\n",
              "      <td>11,421</td>\n",
              "      <td>92-13 92 AVENUE</td>\n",
              "      <td>92 AVENUE</td>\n",
              "      <td>92 STREET</td>\n",
              "      <td>WOODHAVEN BOULEVARD</td>\n",
              "      <td>92 STREET</td>\n",
              "      <td>WOODHAVEN BOULEVARD</td>\n",
              "      <td>NaN</td>\n",
              "      <td>WOODHAVEN</td>\n",
              "      <td>92 AVENUE</td>\n",
              "      <td>NaN</td>\n",
              "      <td>Closed</td>\n",
              "      <td>NaN</td>\n",
              "      <td>The Police Department issued a summons in resp...</td>\n",
              "      <td>08/17/2021 09:34:31 AM</td>\n",
              "      <td>09 QUEENS</td>\n",
              "      <td>4,089,860,017</td>\n",
              "      <td>QUEENS</td>\n",
              "      <td>1,025,640</td>\n",
              "      <td>190,277</td>\n",
              "      <td>MOBILE</td>\n",
              "      <td>Unspecified</td>\n",
              "      <td>QUEENS</td>\n",
              "      <td>NaN</td>\n",
              "      <td>NaN</td>\n",
              "      <td>NaN</td>\n",
              "      <td>NaN</td>\n",
              "      <td>NaN</td>\n",
              "      <td>NaN</td>\n",
              "      <td>NaN</td>\n",
              "      <td>41</td>\n",
              "      <td>-74</td>\n",
              "      <td>(40.68884640295723, -73.85075384808735)</td>\n",
              "    </tr>\n",
              "    <tr>\n",
              "      <th>1</th>\n",
              "      <td>1</td>\n",
              "      <td>51560923</td>\n",
              "      <td>08/17/2021 06:04:48 PM</td>\n",
              "      <td>08/17/2021 07:25:36 PM</td>\n",
              "      <td>NYPD</td>\n",
              "      <td>New York City Police Department</td>\n",
              "      <td>Illegal Parking</td>\n",
              "      <td>Blocked Sidewalk</td>\n",
              "      <td>Street/Sidewalk</td>\n",
              "      <td>10,468</td>\n",
              "      <td>CLAFLIN AVENUE</td>\n",
              "      <td>CLAFLIN AVENUE</td>\n",
              "      <td>CLAFLIN AVENUE</td>\n",
              "      <td>WEST  195 STREET</td>\n",
              "      <td>CLAFLIN AVENUE</td>\n",
              "      <td>WEST  195 STREET</td>\n",
              "      <td>NaN</td>\n",
              "      <td>NaN</td>\n",
              "      <td>NaN</td>\n",
              "      <td>NaN</td>\n",
              "      <td>Closed</td>\n",
              "      <td>NaN</td>\n",
              "      <td>The Police Department responded and upon arriv...</td>\n",
              "      <td>08/17/2021 07:25:44 PM</td>\n",
              "      <td>08 BRONX</td>\n",
              "      <td>nan</td>\n",
              "      <td>BRONX</td>\n",
              "      <td>1,011,740</td>\n",
              "      <td>256,343</td>\n",
              "      <td>PHONE</td>\n",
              "      <td>Unspecified</td>\n",
              "      <td>BRONX</td>\n",
              "      <td>NaN</td>\n",
              "      <td>NaN</td>\n",
              "      <td>NaN</td>\n",
              "      <td>NaN</td>\n",
              "      <td>NaN</td>\n",
              "      <td>NaN</td>\n",
              "      <td>NaN</td>\n",
              "      <td>41</td>\n",
              "      <td>-74</td>\n",
              "      <td>(40.87023400587434, -73.90060480716431)</td>\n",
              "    </tr>\n",
              "    <tr>\n",
              "      <th>2</th>\n",
              "      <td>2</td>\n",
              "      <td>50469886</td>\n",
              "      <td>05/04/2021 11:40:00 AM</td>\n",
              "      <td>07/21/2021 01:55:00 PM</td>\n",
              "      <td>DOT</td>\n",
              "      <td>Department of Transportation</td>\n",
              "      <td>Street Light Condition</td>\n",
              "      <td>Street Light Out</td>\n",
              "      <td>NaN</td>\n",
              "      <td>11,214</td>\n",
              "      <td>NaN</td>\n",
              "      <td>NaN</td>\n",
              "      <td>NaN</td>\n",
              "      <td>NaN</td>\n",
              "      <td>NEW UTRECHT AVENUE</td>\n",
              "      <td>84 STREET</td>\n",
              "      <td>INTERSECTION</td>\n",
              "      <td>BROOKLYN</td>\n",
              "      <td>NaN</td>\n",
              "      <td>NaN</td>\n",
              "      <td>Closed</td>\n",
              "      <td>NaN</td>\n",
              "      <td>Service Request status for this request is ava...</td>\n",
              "      <td>07/21/2021 01:55:00 PM</td>\n",
              "      <td>11 BROOKLYN</td>\n",
              "      <td>nan</td>\n",
              "      <td>BROOKLYN</td>\n",
              "      <td>983,735</td>\n",
              "      <td>161,202</td>\n",
              "      <td>UNKNOWN</td>\n",
              "      <td>Unspecified</td>\n",
              "      <td>BROOKLYN</td>\n",
              "      <td>NaN</td>\n",
              "      <td>NaN</td>\n",
              "      <td>NaN</td>\n",
              "      <td>NaN</td>\n",
              "      <td>NaN</td>\n",
              "      <td>NaN</td>\n",
              "      <td>NaN</td>\n",
              "      <td>41</td>\n",
              "      <td>-74</td>\n",
              "      <td>(40.60913860285155, -74.00185479490075)</td>\n",
              "    </tr>\n",
              "    <tr>\n",
              "      <th>3</th>\n",
              "      <td>3</td>\n",
              "      <td>50470191</td>\n",
              "      <td>05/04/2021 04:31:32 PM</td>\n",
              "      <td>NaN</td>\n",
              "      <td>DPR</td>\n",
              "      <td>Department of Parks and Recreation</td>\n",
              "      <td>New Tree Request</td>\n",
              "      <td>For One Address</td>\n",
              "      <td>Street</td>\n",
              "      <td>11,229</td>\n",
              "      <td>2041 EAST   18 STREET</td>\n",
              "      <td>EAST   18 STREET</td>\n",
              "      <td>AVENUE T</td>\n",
              "      <td>AVENUE U</td>\n",
              "      <td>AVENUE T</td>\n",
              "      <td>AVENUE U</td>\n",
              "      <td>NaN</td>\n",
              "      <td>BROOKLYN</td>\n",
              "      <td>EAST   18 STREET</td>\n",
              "      <td>NaN</td>\n",
              "      <td>In Progress</td>\n",
              "      <td>NaN</td>\n",
              "      <td>NaN</td>\n",
              "      <td>NaN</td>\n",
              "      <td>15 BROOKLYN</td>\n",
              "      <td>3,073,230,065</td>\n",
              "      <td>BROOKLYN</td>\n",
              "      <td>997,085</td>\n",
              "      <td>158,030</td>\n",
              "      <td>UNKNOWN</td>\n",
              "      <td>Unspecified</td>\n",
              "      <td>BROOKLYN</td>\n",
              "      <td>NaN</td>\n",
              "      <td>NaN</td>\n",
              "      <td>NaN</td>\n",
              "      <td>NaN</td>\n",
              "      <td>NaN</td>\n",
              "      <td>NaN</td>\n",
              "      <td>NaN</td>\n",
              "      <td>41</td>\n",
              "      <td>-74</td>\n",
              "      <td>(40.600422830424975, -73.95378022131071)</td>\n",
              "    </tr>\n",
              "    <tr>\n",
              "      <th>4</th>\n",
              "      <td>4</td>\n",
              "      <td>50470218</td>\n",
              "      <td>05/05/2021 01:47:05 AM</td>\n",
              "      <td>10/01/2021 10:53:17 AM</td>\n",
              "      <td>DOHMH</td>\n",
              "      <td>Department of Health and Mental Hygiene</td>\n",
              "      <td>Rodent</td>\n",
              "      <td>Signs of Rodents</td>\n",
              "      <td>1-2 Family Dwelling</td>\n",
              "      <td>11,420</td>\n",
              "      <td>115-44 135 STREET</td>\n",
              "      <td>135 STREET</td>\n",
              "      <td>115 AVENUE</td>\n",
              "      <td>116 AVENUE</td>\n",
              "      <td>115 AVENUE</td>\n",
              "      <td>116 AVENUE</td>\n",
              "      <td>ADDRESS</td>\n",
              "      <td>South Ozone Park</td>\n",
              "      <td>135 STREET</td>\n",
              "      <td>NaN</td>\n",
              "      <td>Closed</td>\n",
              "      <td>NaN</td>\n",
              "      <td>This service request was closed because the De...</td>\n",
              "      <td>05/05/2021 01:47:05 AM</td>\n",
              "      <td>10 QUEENS</td>\n",
              "      <td>4,116,770,025</td>\n",
              "      <td>QUEENS</td>\n",
              "      <td>1,038,085</td>\n",
              "      <td>187,070</td>\n",
              "      <td>MOBILE</td>\n",
              "      <td>Unspecified</td>\n",
              "      <td>QUEENS</td>\n",
              "      <td>NaN</td>\n",
              "      <td>NaN</td>\n",
              "      <td>NaN</td>\n",
              "      <td>NaN</td>\n",
              "      <td>NaN</td>\n",
              "      <td>NaN</td>\n",
              "      <td>NaN</td>\n",
              "      <td>41</td>\n",
              "      <td>-74</td>\n",
              "      <td>(40.67997699346374, -73.8059047916443)</td>\n",
              "    </tr>\n",
              "  </tbody>\n",
              "</table>\n",
              "</div>"
            ],
            "text/plain": [
              "   Unnamed: 0  Unique Key  ... Longitude                                  Location\n",
              "0           0    51560911  ...       -74   (40.68884640295723, -73.85075384808735)\n",
              "1           1    51560923  ...       -74   (40.87023400587434, -73.90060480716431)\n",
              "2           2    50469886  ...       -74   (40.60913860285155, -74.00185479490075)\n",
              "3           3    50470191  ...       -74  (40.600422830424975, -73.95378022131071)\n",
              "4           4    50470218  ...       -74    (40.67997699346374, -73.8059047916443)\n",
              "\n",
              "[5 rows x 42 columns]"
            ]
          },
          "metadata": {},
          "execution_count": 143
        }
      ]
    },
    {
      "cell_type": "code",
      "source": [
        "pd_data = pd_data.rename(columns={\"Created Date\":\"Created_Date\",\n",
        "                                  \"Closed Date\":\"Closed_Date\",\n",
        "                                  \"Agency Name\":\"Agency_Name\",\n",
        "                                  \"Complaint Type\":\"Complaint_Type\",\n",
        "                                  \"Location Type\":\"Location_Type\",\n",
        "                                  \"Incident Zip\":\"Incident_Zip\",\n",
        "                                  \"Incident Address\":\"Incident_Address\",\n",
        "                                  \"Street Name\":\"Street_Name\",\n",
        "                                  \"Cross Street 1\":\"Cross_Street_1\",\n",
        "                                  \"Cross Street 2\":\"Cross_Street_2\",\n",
        "                                  \"Intersection Street 1\":\"Intersection_Street_1\",\n",
        "                                  \"Intersection Street 2\":\"Intersection_Street_2\",\n",
        "                                  \"Address Type\":\"Address_Type\",\n",
        "                                  \"Facility Type\":\"Facility_Type\",\n",
        "                                  \"Due Date\":\"Due_Date\",\n",
        "                                  \"Resolution Description\":\"Resolution_Description\",\n",
        "                                  \"Resolution Action Updated Date\":\"Resolution_Action_Updated_Date\",\n",
        "                                  \"Community Board\":\"Community_Board\",\n",
        "                                  \"Park Borough\":\"Park_Borough\"})"
      ],
      "metadata": {
        "id": "hMinfgxktlID"
      },
      "execution_count": null,
      "outputs": []
    },
    {
      "cell_type": "markdown",
      "source": [
        "### ZIP Code mapping"
      ],
      "metadata": {
        "id": "aSB-ymPQxEEf"
      }
    },
    {
      "cell_type": "markdown",
      "source": [
        "Loading the Reference Data for zip codes."
      ],
      "metadata": {
        "id": "shzw52MQq2Ls"
      }
    },
    {
      "cell_type": "code",
      "source": [
        "zip_data = pd.read_csv(\"../data/nyc-zip-codes.csv\")"
      ],
      "metadata": {
        "id": "DlXV2yqKurcy"
      },
      "execution_count": null,
      "outputs": []
    },
    {
      "cell_type": "code",
      "source": [
        "zip_data.head()"
      ],
      "metadata": {
        "colab": {
          "base_uri": "https://localhost:8080/",
          "height": 206
        },
        "id": "wXBw2qIhvK2R",
        "outputId": "5b4d0e4e-afd9-4cfc-8e3d-7c013ba3b6c0"
      },
      "execution_count": null,
      "outputs": [
        {
          "output_type": "execute_result",
          "data": {
            "text/html": [
              "<div>\n",
              "<style scoped>\n",
              "    .dataframe tbody tr th:only-of-type {\n",
              "        vertical-align: middle;\n",
              "    }\n",
              "\n",
              "    .dataframe tbody tr th {\n",
              "        vertical-align: top;\n",
              "    }\n",
              "\n",
              "    .dataframe thead th {\n",
              "        text-align: right;\n",
              "    }\n",
              "</style>\n",
              "<table border=\"1\" class=\"dataframe\">\n",
              "  <thead>\n",
              "    <tr style=\"text-align: right;\">\n",
              "      <th></th>\n",
              "      <th>Borough</th>\n",
              "      <th>Neighborhood</th>\n",
              "      <th>ZipCode</th>\n",
              "    </tr>\n",
              "  </thead>\n",
              "  <tbody>\n",
              "    <tr>\n",
              "      <th>0</th>\n",
              "      <td>Bronx</td>\n",
              "      <td>Central Bronx</td>\n",
              "      <td>10453</td>\n",
              "    </tr>\n",
              "    <tr>\n",
              "      <th>1</th>\n",
              "      <td>Bronx</td>\n",
              "      <td>Central Bronx</td>\n",
              "      <td>10457</td>\n",
              "    </tr>\n",
              "    <tr>\n",
              "      <th>2</th>\n",
              "      <td>Bronx</td>\n",
              "      <td>Central Bronx</td>\n",
              "      <td>10460</td>\n",
              "    </tr>\n",
              "    <tr>\n",
              "      <th>3</th>\n",
              "      <td>Bronx</td>\n",
              "      <td>Bronx Park and Fordham</td>\n",
              "      <td>10458</td>\n",
              "    </tr>\n",
              "    <tr>\n",
              "      <th>4</th>\n",
              "      <td>Bronx</td>\n",
              "      <td>Bronx Park and Fordham</td>\n",
              "      <td>10467</td>\n",
              "    </tr>\n",
              "  </tbody>\n",
              "</table>\n",
              "</div>"
            ],
            "text/plain": [
              "  Borough            Neighborhood  ZipCode\n",
              "0   Bronx           Central Bronx    10453\n",
              "1   Bronx           Central Bronx    10457\n",
              "2   Bronx           Central Bronx    10460\n",
              "3   Bronx  Bronx Park and Fordham    10458\n",
              "4   Bronx  Bronx Park and Fordham    10467"
            ]
          },
          "metadata": {},
          "execution_count": 150
        }
      ]
    },
    {
      "cell_type": "code",
      "source": [
        "len(zip_data.ZipCode.unique())"
      ],
      "metadata": {
        "colab": {
          "base_uri": "https://localhost:8080/"
        },
        "id": "7L6x3t8QviFk",
        "outputId": "001faca8-3c93-41bd-f961-dda5de093efb"
      },
      "execution_count": null,
      "outputs": [
        {
          "output_type": "execute_result",
          "data": {
            "text/plain": [
              "178"
            ]
          },
          "metadata": {},
          "execution_count": 151
        }
      ]
    },
    {
      "cell_type": "markdown",
      "source": [
        "Unique Zip codes found in our dataset are way greater than the unique codes found in the reference data"
      ],
      "metadata": {
        "id": "pvsl08wErL-7"
      }
    },
    {
      "cell_type": "code",
      "source": [
        "len(pd_data.Incident_Zip.unique())"
      ],
      "metadata": {
        "colab": {
          "base_uri": "https://localhost:8080/"
        },
        "id": "lWDBxIDovnEm",
        "outputId": "1f4d4869-9577-46f8-892b-1518f6ddb797"
      },
      "execution_count": null,
      "outputs": [
        {
          "output_type": "execute_result",
          "data": {
            "text/plain": [
              "1378"
            ]
          },
          "metadata": {},
          "execution_count": 152
        }
      ]
    },
    {
      "cell_type": "markdown",
      "source": [
        "Creating a function to map valid zip codes using reference data and flagging other values as unspecified."
      ],
      "metadata": {
        "id": "FLgpkS4DrX8B"
      }
    },
    {
      "cell_type": "code",
      "source": [
        "def check_zip(z):\n",
        "    \n",
        "  if z in zip_data.ZipCode.unique():\n",
        "        return int(z) \n",
        "  \n",
        "  else:\n",
        "        return 'Unspecified'"
      ],
      "metadata": {
        "id": "pTHqr8njvs7n"
      },
      "execution_count": null,
      "outputs": []
    },
    {
      "cell_type": "code",
      "source": [
        "pd_data.Incident_Zip = pd_data.Incident_Zip.map(lambda x: check_zip(x))"
      ],
      "metadata": {
        "colab": {
          "base_uri": "https://localhost:8080/"
        },
        "id": "7dr7XRDUwPKB",
        "outputId": "04bbda86-7403-4bc4-a970-07528a0e2db0"
      },
      "execution_count": null,
      "outputs": [
        {
          "output_type": "stream",
          "name": "stderr",
          "text": [
            "/usr/local/lib/python3.7/dist-packages/ipykernel_launcher.py:3: FutureWarning: elementwise comparison failed; returning scalar instead, but in the future will perform elementwise comparison\n",
            "  This is separate from the ipykernel package so we can avoid doing imports until\n"
          ]
        }
      ]
    },
    {
      "cell_type": "code",
      "source": [
        "len(pd_data.Incident_Zip.unique())"
      ],
      "metadata": {
        "colab": {
          "base_uri": "https://localhost:8080/"
        },
        "id": "goQ1y1mSwakP",
        "outputId": "92f840a0-3952-40c8-cfb1-e58ee2ff1911"
      },
      "execution_count": null,
      "outputs": [
        {
          "output_type": "execute_result",
          "data": {
            "text/plain": [
              "179"
            ]
          },
          "metadata": {},
          "execution_count": 160
        }
      ]
    },
    {
      "cell_type": "code",
      "source": [
        "pd_data.head()"
      ],
      "metadata": {
        "colab": {
          "base_uri": "https://localhost:8080/",
          "height": 452
        },
        "id": "ulKQCg8cw-JU",
        "outputId": "f97f26dc-a231-41c7-98e5-20be96d15abd"
      },
      "execution_count": null,
      "outputs": [
        {
          "output_type": "execute_result",
          "data": {
            "text/html": [
              "<div>\n",
              "<style scoped>\n",
              "    .dataframe tbody tr th:only-of-type {\n",
              "        vertical-align: middle;\n",
              "    }\n",
              "\n",
              "    .dataframe tbody tr th {\n",
              "        vertical-align: top;\n",
              "    }\n",
              "\n",
              "    .dataframe thead th {\n",
              "        text-align: right;\n",
              "    }\n",
              "</style>\n",
              "<table border=\"1\" class=\"dataframe\">\n",
              "  <thead>\n",
              "    <tr style=\"text-align: right;\">\n",
              "      <th></th>\n",
              "      <th>Unnamed: 0</th>\n",
              "      <th>Unique Key</th>\n",
              "      <th>Created_Date</th>\n",
              "      <th>Closed_Date</th>\n",
              "      <th>Agency</th>\n",
              "      <th>Agency_Name</th>\n",
              "      <th>Complaint_Type</th>\n",
              "      <th>Descriptor</th>\n",
              "      <th>Location_Type</th>\n",
              "      <th>Incident_Zip</th>\n",
              "      <th>Incident_Address</th>\n",
              "      <th>Street_Name</th>\n",
              "      <th>Cross_Street_1</th>\n",
              "      <th>Cross_Street_2</th>\n",
              "      <th>Intersection_Street_1</th>\n",
              "      <th>Intersection_Street_2</th>\n",
              "      <th>Address_Type</th>\n",
              "      <th>City</th>\n",
              "      <th>Landmark</th>\n",
              "      <th>Facility_Type</th>\n",
              "      <th>Status</th>\n",
              "      <th>Due_Date</th>\n",
              "      <th>Resolution_Description</th>\n",
              "      <th>Resolution_Action_Updated_Date</th>\n",
              "      <th>Community_Board</th>\n",
              "      <th>BBL</th>\n",
              "      <th>Borough</th>\n",
              "      <th>X Coordinate (State Plane)</th>\n",
              "      <th>Y Coordinate (State Plane)</th>\n",
              "      <th>Open Data Channel Type</th>\n",
              "      <th>Park Facility Name</th>\n",
              "      <th>Park_Borough</th>\n",
              "      <th>Vehicle Type</th>\n",
              "      <th>Taxi Company Borough</th>\n",
              "      <th>Taxi Pick Up Location</th>\n",
              "      <th>Bridge Highway Name</th>\n",
              "      <th>Bridge Highway Direction</th>\n",
              "      <th>Road Ramp</th>\n",
              "      <th>Bridge Highway Segment</th>\n",
              "      <th>Latitude</th>\n",
              "      <th>Longitude</th>\n",
              "      <th>Location</th>\n",
              "    </tr>\n",
              "  </thead>\n",
              "  <tbody>\n",
              "    <tr>\n",
              "      <th>0</th>\n",
              "      <td>0</td>\n",
              "      <td>51560911</td>\n",
              "      <td>08/17/2021 07:34:45 AM</td>\n",
              "      <td>08/17/2021 09:34:29 AM</td>\n",
              "      <td>NYPD</td>\n",
              "      <td>New York City Police Department</td>\n",
              "      <td>Illegal Parking</td>\n",
              "      <td>Blocked Sidewalk</td>\n",
              "      <td>Street/Sidewalk</td>\n",
              "      <td>11421</td>\n",
              "      <td>92-13 92 AVENUE</td>\n",
              "      <td>92 AVENUE</td>\n",
              "      <td>92 STREET</td>\n",
              "      <td>WOODHAVEN BOULEVARD</td>\n",
              "      <td>92 STREET</td>\n",
              "      <td>WOODHAVEN BOULEVARD</td>\n",
              "      <td>NaN</td>\n",
              "      <td>WOODHAVEN</td>\n",
              "      <td>92 AVENUE</td>\n",
              "      <td>NaN</td>\n",
              "      <td>Closed</td>\n",
              "      <td>NaN</td>\n",
              "      <td>The Police Department issued a summons in resp...</td>\n",
              "      <td>08/17/2021 09:34:31 AM</td>\n",
              "      <td>09 QUEENS</td>\n",
              "      <td>4,089,860,017</td>\n",
              "      <td>QUEENS</td>\n",
              "      <td>1,025,640</td>\n",
              "      <td>190,277</td>\n",
              "      <td>MOBILE</td>\n",
              "      <td>Unspecified</td>\n",
              "      <td>QUEENS</td>\n",
              "      <td>NaN</td>\n",
              "      <td>NaN</td>\n",
              "      <td>NaN</td>\n",
              "      <td>NaN</td>\n",
              "      <td>NaN</td>\n",
              "      <td>NaN</td>\n",
              "      <td>NaN</td>\n",
              "      <td>41</td>\n",
              "      <td>-74</td>\n",
              "      <td>(40.68884640295723, -73.85075384808735)</td>\n",
              "    </tr>\n",
              "    <tr>\n",
              "      <th>1</th>\n",
              "      <td>1</td>\n",
              "      <td>51560923</td>\n",
              "      <td>08/17/2021 06:04:48 PM</td>\n",
              "      <td>08/17/2021 07:25:36 PM</td>\n",
              "      <td>NYPD</td>\n",
              "      <td>New York City Police Department</td>\n",
              "      <td>Illegal Parking</td>\n",
              "      <td>Blocked Sidewalk</td>\n",
              "      <td>Street/Sidewalk</td>\n",
              "      <td>10468</td>\n",
              "      <td>CLAFLIN AVENUE</td>\n",
              "      <td>CLAFLIN AVENUE</td>\n",
              "      <td>CLAFLIN AVENUE</td>\n",
              "      <td>WEST  195 STREET</td>\n",
              "      <td>CLAFLIN AVENUE</td>\n",
              "      <td>WEST  195 STREET</td>\n",
              "      <td>NaN</td>\n",
              "      <td>NaN</td>\n",
              "      <td>NaN</td>\n",
              "      <td>NaN</td>\n",
              "      <td>Closed</td>\n",
              "      <td>NaN</td>\n",
              "      <td>The Police Department responded and upon arriv...</td>\n",
              "      <td>08/17/2021 07:25:44 PM</td>\n",
              "      <td>08 BRONX</td>\n",
              "      <td>nan</td>\n",
              "      <td>BRONX</td>\n",
              "      <td>1,011,740</td>\n",
              "      <td>256,343</td>\n",
              "      <td>PHONE</td>\n",
              "      <td>Unspecified</td>\n",
              "      <td>BRONX</td>\n",
              "      <td>NaN</td>\n",
              "      <td>NaN</td>\n",
              "      <td>NaN</td>\n",
              "      <td>NaN</td>\n",
              "      <td>NaN</td>\n",
              "      <td>NaN</td>\n",
              "      <td>NaN</td>\n",
              "      <td>41</td>\n",
              "      <td>-74</td>\n",
              "      <td>(40.87023400587434, -73.90060480716431)</td>\n",
              "    </tr>\n",
              "    <tr>\n",
              "      <th>2</th>\n",
              "      <td>2</td>\n",
              "      <td>50469886</td>\n",
              "      <td>05/04/2021 11:40:00 AM</td>\n",
              "      <td>07/21/2021 01:55:00 PM</td>\n",
              "      <td>DOT</td>\n",
              "      <td>Department of Transportation</td>\n",
              "      <td>Street Light Condition</td>\n",
              "      <td>Street Light Out</td>\n",
              "      <td>NaN</td>\n",
              "      <td>11214</td>\n",
              "      <td>NaN</td>\n",
              "      <td>NaN</td>\n",
              "      <td>NaN</td>\n",
              "      <td>NaN</td>\n",
              "      <td>NEW UTRECHT AVENUE</td>\n",
              "      <td>84 STREET</td>\n",
              "      <td>INTERSECTION</td>\n",
              "      <td>BROOKLYN</td>\n",
              "      <td>NaN</td>\n",
              "      <td>NaN</td>\n",
              "      <td>Closed</td>\n",
              "      <td>NaN</td>\n",
              "      <td>Service Request status for this request is ava...</td>\n",
              "      <td>07/21/2021 01:55:00 PM</td>\n",
              "      <td>11 BROOKLYN</td>\n",
              "      <td>nan</td>\n",
              "      <td>BROOKLYN</td>\n",
              "      <td>983,735</td>\n",
              "      <td>161,202</td>\n",
              "      <td>UNKNOWN</td>\n",
              "      <td>Unspecified</td>\n",
              "      <td>BROOKLYN</td>\n",
              "      <td>NaN</td>\n",
              "      <td>NaN</td>\n",
              "      <td>NaN</td>\n",
              "      <td>NaN</td>\n",
              "      <td>NaN</td>\n",
              "      <td>NaN</td>\n",
              "      <td>NaN</td>\n",
              "      <td>41</td>\n",
              "      <td>-74</td>\n",
              "      <td>(40.60913860285155, -74.00185479490075)</td>\n",
              "    </tr>\n",
              "    <tr>\n",
              "      <th>3</th>\n",
              "      <td>3</td>\n",
              "      <td>50470191</td>\n",
              "      <td>05/04/2021 04:31:32 PM</td>\n",
              "      <td>NaN</td>\n",
              "      <td>DPR</td>\n",
              "      <td>Department of Parks and Recreation</td>\n",
              "      <td>New Tree Request</td>\n",
              "      <td>For One Address</td>\n",
              "      <td>Street</td>\n",
              "      <td>11229</td>\n",
              "      <td>2041 EAST   18 STREET</td>\n",
              "      <td>EAST   18 STREET</td>\n",
              "      <td>AVENUE T</td>\n",
              "      <td>AVENUE U</td>\n",
              "      <td>AVENUE T</td>\n",
              "      <td>AVENUE U</td>\n",
              "      <td>NaN</td>\n",
              "      <td>BROOKLYN</td>\n",
              "      <td>EAST   18 STREET</td>\n",
              "      <td>NaN</td>\n",
              "      <td>In Progress</td>\n",
              "      <td>NaN</td>\n",
              "      <td>NaN</td>\n",
              "      <td>NaN</td>\n",
              "      <td>15 BROOKLYN</td>\n",
              "      <td>3,073,230,065</td>\n",
              "      <td>BROOKLYN</td>\n",
              "      <td>997,085</td>\n",
              "      <td>158,030</td>\n",
              "      <td>UNKNOWN</td>\n",
              "      <td>Unspecified</td>\n",
              "      <td>BROOKLYN</td>\n",
              "      <td>NaN</td>\n",
              "      <td>NaN</td>\n",
              "      <td>NaN</td>\n",
              "      <td>NaN</td>\n",
              "      <td>NaN</td>\n",
              "      <td>NaN</td>\n",
              "      <td>NaN</td>\n",
              "      <td>41</td>\n",
              "      <td>-74</td>\n",
              "      <td>(40.600422830424975, -73.95378022131071)</td>\n",
              "    </tr>\n",
              "    <tr>\n",
              "      <th>4</th>\n",
              "      <td>4</td>\n",
              "      <td>50470218</td>\n",
              "      <td>05/05/2021 01:47:05 AM</td>\n",
              "      <td>10/01/2021 10:53:17 AM</td>\n",
              "      <td>DOHMH</td>\n",
              "      <td>Department of Health and Mental Hygiene</td>\n",
              "      <td>Rodent</td>\n",
              "      <td>Signs of Rodents</td>\n",
              "      <td>1-2 Family Dwelling</td>\n",
              "      <td>11420</td>\n",
              "      <td>115-44 135 STREET</td>\n",
              "      <td>135 STREET</td>\n",
              "      <td>115 AVENUE</td>\n",
              "      <td>116 AVENUE</td>\n",
              "      <td>115 AVENUE</td>\n",
              "      <td>116 AVENUE</td>\n",
              "      <td>ADDRESS</td>\n",
              "      <td>South Ozone Park</td>\n",
              "      <td>135 STREET</td>\n",
              "      <td>NaN</td>\n",
              "      <td>Closed</td>\n",
              "      <td>NaN</td>\n",
              "      <td>This service request was closed because the De...</td>\n",
              "      <td>05/05/2021 01:47:05 AM</td>\n",
              "      <td>10 QUEENS</td>\n",
              "      <td>4,116,770,025</td>\n",
              "      <td>QUEENS</td>\n",
              "      <td>1,038,085</td>\n",
              "      <td>187,070</td>\n",
              "      <td>MOBILE</td>\n",
              "      <td>Unspecified</td>\n",
              "      <td>QUEENS</td>\n",
              "      <td>NaN</td>\n",
              "      <td>NaN</td>\n",
              "      <td>NaN</td>\n",
              "      <td>NaN</td>\n",
              "      <td>NaN</td>\n",
              "      <td>NaN</td>\n",
              "      <td>NaN</td>\n",
              "      <td>41</td>\n",
              "      <td>-74</td>\n",
              "      <td>(40.67997699346374, -73.8059047916443)</td>\n",
              "    </tr>\n",
              "  </tbody>\n",
              "</table>\n",
              "</div>"
            ],
            "text/plain": [
              "   Unnamed: 0  Unique Key  ... Longitude                                  Location\n",
              "0           0    51560911  ...       -74   (40.68884640295723, -73.85075384808735)\n",
              "1           1    51560923  ...       -74   (40.87023400587434, -73.90060480716431)\n",
              "2           2    50469886  ...       -74   (40.60913860285155, -74.00185479490075)\n",
              "3           3    50470191  ...       -74  (40.600422830424975, -73.95378022131071)\n",
              "4           4    50470218  ...       -74    (40.67997699346374, -73.8059047916443)\n",
              "\n",
              "[5 rows x 42 columns]"
            ]
          },
          "metadata": {},
          "execution_count": 162
        }
      ]
    },
    {
      "cell_type": "markdown",
      "source": [
        "### Community Board"
      ],
      "metadata": {
        "id": "swJZjTqgxHmB"
      }
    },
    {
      "cell_type": "markdown",
      "source": [
        "Reference data for Community Board is found here: https://communityprofiles.planning.nyc.gov/"
      ],
      "metadata": {
        "id": "F8u2cz1g0ZsZ"
      }
    },
    {
      "cell_type": "code",
      "source": [
        "community_data = pd.read_csv(\"../data/CommunityDistrictData.csv\")"
      ],
      "metadata": {
        "id": "Jin51AJoxLGw"
      },
      "execution_count": null,
      "outputs": []
    },
    {
      "cell_type": "code",
      "source": [
        "community_data.head()"
      ],
      "metadata": {
        "colab": {
          "base_uri": "https://localhost:8080/",
          "height": 603
        },
        "id": "HBKoKsAuzlNk",
        "outputId": "376610b7-bf2f-4619-9b36-ab1b6a3ef486"
      },
      "execution_count": null,
      "outputs": [
        {
          "output_type": "execute_result",
          "data": {
            "text/html": [
              "<div>\n",
              "<style scoped>\n",
              "    .dataframe tbody tr th:only-of-type {\n",
              "        vertical-align: middle;\n",
              "    }\n",
              "\n",
              "    .dataframe tbody tr th {\n",
              "        vertical-align: top;\n",
              "    }\n",
              "\n",
              "    .dataframe thead th {\n",
              "        text-align: right;\n",
              "    }\n",
              "</style>\n",
              "<table border=\"1\" class=\"dataframe\">\n",
              "  <thead>\n",
              "    <tr style=\"text-align: right;\">\n",
              "      <th></th>\n",
              "      <th>the_geom</th>\n",
              "      <th>cartodb_id</th>\n",
              "      <th>the_geom_webmercator</th>\n",
              "      <th>acres</th>\n",
              "      <th>acs_tooltip</th>\n",
              "      <th>acs_tooltip_2</th>\n",
              "      <th>acs_tooltip_3</th>\n",
              "      <th>area_sqmi</th>\n",
              "      <th>borocd</th>\n",
              "      <th>cb_email</th>\n",
              "      <th>cb_website</th>\n",
              "      <th>cd_full_title</th>\n",
              "      <th>cd_short_title</th>\n",
              "      <th>cd_son_fy2018</th>\n",
              "      <th>cd_tot_bldgs</th>\n",
              "      <th>cd_tot_resunits</th>\n",
              "      <th>count_hosp_clinic</th>\n",
              "      <th>count_libraries</th>\n",
              "      <th>count_parks</th>\n",
              "      <th>count_public_schools</th>\n",
              "      <th>crime_count</th>\n",
              "      <th>crime_count_boro</th>\n",
              "      <th>crime_count_nyc</th>\n",
              "      <th>crime_per_1000</th>\n",
              "      <th>crime_per_1000_boro</th>\n",
              "      <th>crime_per_1000_nyc</th>\n",
              "      <th>female_10_14</th>\n",
              "      <th>female_15_19</th>\n",
              "      <th>female_20_24</th>\n",
              "      <th>female_25_29</th>\n",
              "      <th>female_30_34</th>\n",
              "      <th>female_35_39</th>\n",
              "      <th>female_40_44</th>\n",
              "      <th>female_45_49</th>\n",
              "      <th>female_5_9</th>\n",
              "      <th>female_50_54</th>\n",
              "      <th>female_55_59</th>\n",
              "      <th>female_60_64</th>\n",
              "      <th>female_65_69</th>\n",
              "      <th>female_70_74</th>\n",
              "      <th>...</th>\n",
              "      <th>pct_asian_nh</th>\n",
              "      <th>pct_bach_deg</th>\n",
              "      <th>pct_bach_deg_boro</th>\n",
              "      <th>pct_bach_deg_nyc</th>\n",
              "      <th>pct_black_nh</th>\n",
              "      <th>pct_clean_strts</th>\n",
              "      <th>pct_clean_strts_boro</th>\n",
              "      <th>pct_clean_strts_nyc</th>\n",
              "      <th>pct_foreign_born</th>\n",
              "      <th>pct_hh_rent_burd</th>\n",
              "      <th>pct_hh_rent_burd_boro</th>\n",
              "      <th>pct_hh_rent_burd_nyc</th>\n",
              "      <th>pct_hispanic</th>\n",
              "      <th>pct_other_nh</th>\n",
              "      <th>pct_served_parks</th>\n",
              "      <th>pct_white_nh</th>\n",
              "      <th>pop_2000</th>\n",
              "      <th>pop_2010</th>\n",
              "      <th>pop_acs</th>\n",
              "      <th>pop_change_00_10</th>\n",
              "      <th>poverty_rate</th>\n",
              "      <th>poverty_rate_boro</th>\n",
              "      <th>poverty_rate_nyc</th>\n",
              "      <th>puma</th>\n",
              "      <th>shared_puma</th>\n",
              "      <th>shared_puma_cd</th>\n",
              "      <th>son_issue_1</th>\n",
              "      <th>son_issue_2</th>\n",
              "      <th>son_issue_3</th>\n",
              "      <th>total_lot_area</th>\n",
              "      <th>under18_rate</th>\n",
              "      <th>under18_rate_boro</th>\n",
              "      <th>under18_rate_nyc</th>\n",
              "      <th>unemployment_boro</th>\n",
              "      <th>unemployment</th>\n",
              "      <th>unemployment_nyc</th>\n",
              "      <th>v_pluto</th>\n",
              "      <th>v_acs</th>\n",
              "      <th>v_facdb</th>\n",
              "      <th>v_crime</th>\n",
              "    </tr>\n",
              "  </thead>\n",
              "  <tbody>\n",
              "    <tr>\n",
              "      <th>0</th>\n",
              "      <td>NaN</td>\n",
              "      <td>1</td>\n",
              "      <td>NaN</td>\n",
              "      <td>976.3</td>\n",
              "      <td>American Community Survey 2014-2018 5-Year Est...</td>\n",
              "      <td>American Community Survey (ACS) 2013-2017 5-ye...</td>\n",
              "      <td>2010 Census population counts for floodplain a...</td>\n",
              "      <td>1.5</td>\n",
              "      <td>101</td>\n",
              "      <td>man01@cb.nyc.gov</td>\n",
              "      <td>www1.nyc.gov/site/manhattancb1/index.page</td>\n",
              "      <td>Manhattan Community District 1</td>\n",
              "      <td>Manhattan CD 1</td>\n",
              "      <td>NaN</td>\n",
              "      <td>1725</td>\n",
              "      <td>45629</td>\n",
              "      <td>10</td>\n",
              "      <td>2</td>\n",
              "      <td>13</td>\n",
              "      <td>19</td>\n",
              "      <td>1055</td>\n",
              "      <td>26271</td>\n",
              "      <td>92480</td>\n",
              "      <td>6.8</td>\n",
              "      <td>16.1</td>\n",
              "      <td>11</td>\n",
              "      <td>1.1</td>\n",
              "      <td>2.4</td>\n",
              "      <td>3.9</td>\n",
              "      <td>7.2</td>\n",
              "      <td>6.5</td>\n",
              "      <td>4.7</td>\n",
              "      <td>3.6</td>\n",
              "      <td>2.9</td>\n",
              "      <td>1.8</td>\n",
              "      <td>2.3</td>\n",
              "      <td>2.4</td>\n",
              "      <td>2.6</td>\n",
              "      <td>2.4</td>\n",
              "      <td>1.8</td>\n",
              "      <td>...</td>\n",
              "      <td>15.5</td>\n",
              "      <td>82.2</td>\n",
              "      <td>60.8</td>\n",
              "      <td>37.4</td>\n",
              "      <td>2.2</td>\n",
              "      <td>95.4</td>\n",
              "      <td>94.1</td>\n",
              "      <td>95.1</td>\n",
              "      <td>23.3</td>\n",
              "      <td>30.1</td>\n",
              "      <td>36.4</td>\n",
              "      <td>44.2</td>\n",
              "      <td>6.5</td>\n",
              "      <td>3.6</td>\n",
              "      <td>100</td>\n",
              "      <td>72.2</td>\n",
              "      <td>34420</td>\n",
              "      <td>60978</td>\n",
              "      <td>154636</td>\n",
              "      <td>0.77</td>\n",
              "      <td>8.8</td>\n",
              "      <td>14.4</td>\n",
              "      <td>19.8</td>\n",
              "      <td>3810</td>\n",
              "      <td>True</td>\n",
              "      <td>Manhattan CD 2</td>\n",
              "      <td>Infrastructure resiliency</td>\n",
              "      <td>Traffic</td>\n",
              "      <td>Other</td>\n",
              "      <td>2881166.373</td>\n",
              "      <td>12.7</td>\n",
              "      <td>14.4</td>\n",
              "      <td>20.9</td>\n",
              "      <td>3.8</td>\n",
              "      <td>2.8</td>\n",
              "      <td>4.4</td>\n",
              "      <td>20v4</td>\n",
              "      <td>Y2014-2018</td>\n",
              "      <td>6/24/20</td>\n",
              "      <td>2019</td>\n",
              "    </tr>\n",
              "    <tr>\n",
              "      <th>1</th>\n",
              "      <td>NaN</td>\n",
              "      <td>2</td>\n",
              "      <td>NaN</td>\n",
              "      <td>865.9</td>\n",
              "      <td>American Community Survey 2014-2018 5-Year Est...</td>\n",
              "      <td>American Community Survey (ACS) 2013-2017 5-ye...</td>\n",
              "      <td>2010 Census population counts for floodplain a...</td>\n",
              "      <td>1.4</td>\n",
              "      <td>102</td>\n",
              "      <td>bgormley@cb.nyc.gov</td>\n",
              "      <td>www.nyc.gov/html/mancb2</td>\n",
              "      <td>Manhattan Community District 2</td>\n",
              "      <td>Manhattan CD 2</td>\n",
              "      <td>NaN</td>\n",
              "      <td>5256</td>\n",
              "      <td>60610</td>\n",
              "      <td>19</td>\n",
              "      <td>3</td>\n",
              "      <td>6</td>\n",
              "      <td>8</td>\n",
              "      <td>2313</td>\n",
              "      <td>26271</td>\n",
              "      <td>92480</td>\n",
              "      <td>15.0</td>\n",
              "      <td>16.1</td>\n",
              "      <td>11</td>\n",
              "      <td>1.1</td>\n",
              "      <td>2.4</td>\n",
              "      <td>3.9</td>\n",
              "      <td>7.2</td>\n",
              "      <td>6.5</td>\n",
              "      <td>4.7</td>\n",
              "      <td>3.6</td>\n",
              "      <td>2.9</td>\n",
              "      <td>1.8</td>\n",
              "      <td>2.3</td>\n",
              "      <td>2.4</td>\n",
              "      <td>2.6</td>\n",
              "      <td>2.4</td>\n",
              "      <td>1.8</td>\n",
              "      <td>...</td>\n",
              "      <td>15.5</td>\n",
              "      <td>82.2</td>\n",
              "      <td>60.8</td>\n",
              "      <td>37.4</td>\n",
              "      <td>2.2</td>\n",
              "      <td>96.3</td>\n",
              "      <td>94.1</td>\n",
              "      <td>95.1</td>\n",
              "      <td>23.3</td>\n",
              "      <td>30.1</td>\n",
              "      <td>36.4</td>\n",
              "      <td>44.2</td>\n",
              "      <td>6.5</td>\n",
              "      <td>3.6</td>\n",
              "      <td>100</td>\n",
              "      <td>72.2</td>\n",
              "      <td>93119</td>\n",
              "      <td>90016</td>\n",
              "      <td>154636</td>\n",
              "      <td>-0.03</td>\n",
              "      <td>8.8</td>\n",
              "      <td>14.4</td>\n",
              "      <td>19.8</td>\n",
              "      <td>3810</td>\n",
              "      <td>True</td>\n",
              "      <td>Manhattan CD 1</td>\n",
              "      <td>Parks</td>\n",
              "      <td>Schools</td>\n",
              "      <td>Senior services</td>\n",
              "      <td>2231472.120</td>\n",
              "      <td>12.7</td>\n",
              "      <td>14.4</td>\n",
              "      <td>20.9</td>\n",
              "      <td>3.8</td>\n",
              "      <td>2.8</td>\n",
              "      <td>4.4</td>\n",
              "      <td>20v4</td>\n",
              "      <td>Y2014-2018</td>\n",
              "      <td>6/24/20</td>\n",
              "      <td>2019</td>\n",
              "    </tr>\n",
              "    <tr>\n",
              "      <th>2</th>\n",
              "      <td>NaN</td>\n",
              "      <td>3</td>\n",
              "      <td>NaN</td>\n",
              "      <td>1076.9</td>\n",
              "      <td>American Community Survey 2014-2018 5-Year Est...</td>\n",
              "      <td>American Community Survey (ACS) 2013-2017 5-ye...</td>\n",
              "      <td>2010 Census population counts for floodplain a...</td>\n",
              "      <td>1.7</td>\n",
              "      <td>103</td>\n",
              "      <td>mn03@cb.nyc.gov</td>\n",
              "      <td>www.nyc.gov/html/mancb3</td>\n",
              "      <td>Manhattan Community District 3</td>\n",
              "      <td>Manhattan CD 3</td>\n",
              "      <td>NaN</td>\n",
              "      <td>4644</td>\n",
              "      <td>82557</td>\n",
              "      <td>41</td>\n",
              "      <td>5</td>\n",
              "      <td>13</td>\n",
              "      <td>42</td>\n",
              "      <td>2360</td>\n",
              "      <td>26271</td>\n",
              "      <td>92480</td>\n",
              "      <td>15.2</td>\n",
              "      <td>16.1</td>\n",
              "      <td>11</td>\n",
              "      <td>1.5</td>\n",
              "      <td>2.9</td>\n",
              "      <td>4.2</td>\n",
              "      <td>6.4</td>\n",
              "      <td>4.1</td>\n",
              "      <td>3.2</td>\n",
              "      <td>3.0</td>\n",
              "      <td>3.2</td>\n",
              "      <td>1.2</td>\n",
              "      <td>2.8</td>\n",
              "      <td>3.3</td>\n",
              "      <td>3.4</td>\n",
              "      <td>2.9</td>\n",
              "      <td>2.1</td>\n",
              "      <td>...</td>\n",
              "      <td>30.6</td>\n",
              "      <td>43.3</td>\n",
              "      <td>60.8</td>\n",
              "      <td>37.4</td>\n",
              "      <td>8.4</td>\n",
              "      <td>91.0</td>\n",
              "      <td>94.1</td>\n",
              "      <td>95.1</td>\n",
              "      <td>34.5</td>\n",
              "      <td>38.4</td>\n",
              "      <td>36.4</td>\n",
              "      <td>44.2</td>\n",
              "      <td>25.1</td>\n",
              "      <td>2.6</td>\n",
              "      <td>100</td>\n",
              "      <td>33.3</td>\n",
              "      <td>164407</td>\n",
              "      <td>163277</td>\n",
              "      <td>154995</td>\n",
              "      <td>-0.01</td>\n",
              "      <td>19.3</td>\n",
              "      <td>14.4</td>\n",
              "      <td>19.8</td>\n",
              "      <td>3809</td>\n",
              "      <td>False</td>\n",
              "      <td>NaN</td>\n",
              "      <td>Affordable housing</td>\n",
              "      <td>Senior services</td>\n",
              "      <td>Homelessness</td>\n",
              "      <td>2985434.526</td>\n",
              "      <td>11.4</td>\n",
              "      <td>14.4</td>\n",
              "      <td>20.9</td>\n",
              "      <td>3.8</td>\n",
              "      <td>3.6</td>\n",
              "      <td>4.4</td>\n",
              "      <td>20v4</td>\n",
              "      <td>Y2014-2018</td>\n",
              "      <td>6/24/20</td>\n",
              "      <td>2019</td>\n",
              "    </tr>\n",
              "    <tr>\n",
              "      <th>3</th>\n",
              "      <td>NaN</td>\n",
              "      <td>4</td>\n",
              "      <td>NaN</td>\n",
              "      <td>1131.6</td>\n",
              "      <td>American Community Survey 2014-2018 5-Year Est...</td>\n",
              "      <td>American Community Survey (ACS) 2013-2017 5-ye...</td>\n",
              "      <td>2010 Census population counts for floodplain a...</td>\n",
              "      <td>1.8</td>\n",
              "      <td>104</td>\n",
              "      <td>jbodine@cb.nyc.gov</td>\n",
              "      <td>www.nyc.gov/mcb4</td>\n",
              "      <td>Manhattan Community District 4</td>\n",
              "      <td>Manhattan CD 4</td>\n",
              "      <td>NaN</td>\n",
              "      <td>3829</td>\n",
              "      <td>85706</td>\n",
              "      <td>38</td>\n",
              "      <td>2</td>\n",
              "      <td>7</td>\n",
              "      <td>29</td>\n",
              "      <td>2792</td>\n",
              "      <td>26271</td>\n",
              "      <td>92480</td>\n",
              "      <td>18.1</td>\n",
              "      <td>16.1</td>\n",
              "      <td>11</td>\n",
              "      <td>0.9</td>\n",
              "      <td>1.7</td>\n",
              "      <td>4.0</td>\n",
              "      <td>7.2</td>\n",
              "      <td>6.4</td>\n",
              "      <td>3.8</td>\n",
              "      <td>3.0</td>\n",
              "      <td>2.9</td>\n",
              "      <td>1.0</td>\n",
              "      <td>2.3</td>\n",
              "      <td>2.7</td>\n",
              "      <td>2.7</td>\n",
              "      <td>2.1</td>\n",
              "      <td>2.1</td>\n",
              "      <td>...</td>\n",
              "      <td>17.2</td>\n",
              "      <td>74.1</td>\n",
              "      <td>60.8</td>\n",
              "      <td>37.4</td>\n",
              "      <td>5.2</td>\n",
              "      <td>95.6</td>\n",
              "      <td>94.1</td>\n",
              "      <td>95.1</td>\n",
              "      <td>30.8</td>\n",
              "      <td>33.9</td>\n",
              "      <td>36.4</td>\n",
              "      <td>44.2</td>\n",
              "      <td>15.5</td>\n",
              "      <td>3.0</td>\n",
              "      <td>94</td>\n",
              "      <td>59.1</td>\n",
              "      <td>87479</td>\n",
              "      <td>103245</td>\n",
              "      <td>154496</td>\n",
              "      <td>0.18</td>\n",
              "      <td>11.3</td>\n",
              "      <td>14.4</td>\n",
              "      <td>19.8</td>\n",
              "      <td>3807</td>\n",
              "      <td>True</td>\n",
              "      <td>Manhattan CD 5</td>\n",
              "      <td>Affordable housing</td>\n",
              "      <td>Land use trends (zoning, development, neighbor...</td>\n",
              "      <td>Traffic</td>\n",
              "      <td>3110433.364</td>\n",
              "      <td>8.2</td>\n",
              "      <td>14.4</td>\n",
              "      <td>20.9</td>\n",
              "      <td>3.8</td>\n",
              "      <td>3.5</td>\n",
              "      <td>4.4</td>\n",
              "      <td>20v4</td>\n",
              "      <td>Y2014-2018</td>\n",
              "      <td>6/24/20</td>\n",
              "      <td>2019</td>\n",
              "    </tr>\n",
              "    <tr>\n",
              "      <th>4</th>\n",
              "      <td>NaN</td>\n",
              "      <td>5</td>\n",
              "      <td>NaN</td>\n",
              "      <td>1005.4</td>\n",
              "      <td>American Community Survey 2014-2018 5-Year Est...</td>\n",
              "      <td>American Community Survey (ACS) 2013-2017 5-ye...</td>\n",
              "      <td>2010 Census population counts for floodplain a...</td>\n",
              "      <td>1.6</td>\n",
              "      <td>105</td>\n",
              "      <td>office@cb5.org</td>\n",
              "      <td>www.cb5.org</td>\n",
              "      <td>Manhattan Community District 5</td>\n",
              "      <td>Manhattan CD 5</td>\n",
              "      <td>NaN</td>\n",
              "      <td>3127</td>\n",
              "      <td>49436</td>\n",
              "      <td>23</td>\n",
              "      <td>7</td>\n",
              "      <td>3</td>\n",
              "      <td>13</td>\n",
              "      <td>4538</td>\n",
              "      <td>26271</td>\n",
              "      <td>92480</td>\n",
              "      <td>29.4</td>\n",
              "      <td>16.1</td>\n",
              "      <td>11</td>\n",
              "      <td>0.9</td>\n",
              "      <td>1.7</td>\n",
              "      <td>4.0</td>\n",
              "      <td>7.2</td>\n",
              "      <td>6.4</td>\n",
              "      <td>3.8</td>\n",
              "      <td>3.0</td>\n",
              "      <td>2.9</td>\n",
              "      <td>1.0</td>\n",
              "      <td>2.3</td>\n",
              "      <td>2.7</td>\n",
              "      <td>2.7</td>\n",
              "      <td>2.1</td>\n",
              "      <td>2.1</td>\n",
              "      <td>...</td>\n",
              "      <td>17.2</td>\n",
              "      <td>74.1</td>\n",
              "      <td>60.8</td>\n",
              "      <td>37.4</td>\n",
              "      <td>5.2</td>\n",
              "      <td>94.4</td>\n",
              "      <td>94.1</td>\n",
              "      <td>95.1</td>\n",
              "      <td>30.8</td>\n",
              "      <td>33.9</td>\n",
              "      <td>36.4</td>\n",
              "      <td>44.2</td>\n",
              "      <td>15.5</td>\n",
              "      <td>3.0</td>\n",
              "      <td>95</td>\n",
              "      <td>59.1</td>\n",
              "      <td>44028</td>\n",
              "      <td>51673</td>\n",
              "      <td>154496</td>\n",
              "      <td>0.17</td>\n",
              "      <td>11.3</td>\n",
              "      <td>14.4</td>\n",
              "      <td>19.8</td>\n",
              "      <td>3807</td>\n",
              "      <td>True</td>\n",
              "      <td>Manhattan CD 4</td>\n",
              "      <td>Traffic</td>\n",
              "      <td>Trash removal &amp; cleanliness</td>\n",
              "      <td>Homelessness</td>\n",
              "      <td>2741102.661</td>\n",
              "      <td>8.2</td>\n",
              "      <td>14.4</td>\n",
              "      <td>20.9</td>\n",
              "      <td>3.8</td>\n",
              "      <td>3.5</td>\n",
              "      <td>4.4</td>\n",
              "      <td>20v4</td>\n",
              "      <td>Y2014-2018</td>\n",
              "      <td>6/24/20</td>\n",
              "      <td>2019</td>\n",
              "    </tr>\n",
              "  </tbody>\n",
              "</table>\n",
              "<p>5 rows × 188 columns</p>\n",
              "</div>"
            ],
            "text/plain": [
              "   the_geom  cartodb_id  the_geom_webmercator  ...       v_acs  v_facdb v_crime\n",
              "0       NaN           1                   NaN  ...  Y2014-2018  6/24/20    2019\n",
              "1       NaN           2                   NaN  ...  Y2014-2018  6/24/20    2019\n",
              "2       NaN           3                   NaN  ...  Y2014-2018  6/24/20    2019\n",
              "3       NaN           4                   NaN  ...  Y2014-2018  6/24/20    2019\n",
              "4       NaN           5                   NaN  ...  Y2014-2018  6/24/20    2019\n",
              "\n",
              "[5 rows x 188 columns]"
            ]
          },
          "metadata": {},
          "execution_count": 38
        }
      ]
    },
    {
      "cell_type": "markdown",
      "source": [
        "Checking for unique values of Community Boards in the reference data and our dataset."
      ],
      "metadata": {
        "id": "-a6cTVnaru_B"
      }
    },
    {
      "cell_type": "code",
      "source": [
        "len(community_data.cd_short_title.unique())"
      ],
      "metadata": {
        "colab": {
          "base_uri": "https://localhost:8080/"
        },
        "id": "PVo9ZMRt0EPg",
        "outputId": "3c55a7ed-7ae5-4706-8781-9a7e22ef0826"
      },
      "execution_count": null,
      "outputs": [
        {
          "output_type": "execute_result",
          "data": {
            "text/plain": [
              "59"
            ]
          },
          "metadata": {},
          "execution_count": 40
        }
      ]
    },
    {
      "cell_type": "code",
      "source": [
        "len(pd_data.Community_Board.unique())"
      ],
      "metadata": {
        "colab": {
          "base_uri": "https://localhost:8080/"
        },
        "id": "IneXgIJw0MwP",
        "outputId": "7dbf6676-d4a5-4e60-9453-2f15b952f5a2"
      },
      "execution_count": null,
      "outputs": [
        {
          "output_type": "execute_result",
          "data": {
            "text/plain": [
              "80"
            ]
          },
          "metadata": {},
          "execution_count": 41
        }
      ]
    },
    {
      "cell_type": "markdown",
      "source": [
        "Checking the format of names."
      ],
      "metadata": {
        "id": "_JwXqDSGr2uE"
      }
    },
    {
      "cell_type": "code",
      "source": [
        "community_data.cd_short_title.head(10)"
      ],
      "metadata": {
        "colab": {
          "base_uri": "https://localhost:8080/"
        },
        "id": "o-WLzPHPznnf",
        "outputId": "59cf1bc5-e7fe-4495-8ba9-7394671103ec"
      },
      "execution_count": null,
      "outputs": [
        {
          "output_type": "execute_result",
          "data": {
            "text/plain": [
              "0     Manhattan CD 1\n",
              "1     Manhattan CD 2\n",
              "2     Manhattan CD 3\n",
              "3     Manhattan CD 4\n",
              "4     Manhattan CD 5\n",
              "5     Manhattan CD 6\n",
              "6     Manhattan CD 7\n",
              "7     Manhattan CD 8\n",
              "8     Manhattan CD 9\n",
              "9    Manhattan CD 10\n",
              "Name: cd_short_title, dtype: object"
            ]
          },
          "metadata": {},
          "execution_count": 39
        }
      ]
    },
    {
      "cell_type": "code",
      "source": [
        "pd_data.Community_Board.head(10)"
      ],
      "metadata": {
        "colab": {
          "base_uri": "https://localhost:8080/"
        },
        "id": "05SQQPqb2RoN",
        "outputId": "a9fea268-85d2-477e-bdb6-f2d0062e2869"
      },
      "execution_count": null,
      "outputs": [
        {
          "output_type": "execute_result",
          "data": {
            "text/plain": [
              "0        09 QUEENS\n",
              "1         08 BRONX\n",
              "2      11 BROOKLYN\n",
              "3      15 BROOKLYN\n",
              "4        10 QUEENS\n",
              "5        10 QUEENS\n",
              "6         11 BRONX\n",
              "7         04 BRONX\n",
              "8      06 BROOKLYN\n",
              "9    0 Unspecified\n",
              "Name: Community_Board, dtype: object"
            ]
          },
          "metadata": {},
          "execution_count": 42
        }
      ]
    },
    {
      "cell_type": "markdown",
      "source": [
        "As seen above, there seems to be difference in formatting of the values in both datasets. We will make small changes to the reference data and our dataset so that the Community titles in reference data matches with the Community Board column in our dataset."
      ],
      "metadata": {
        "id": "cJ6mAhoT2WYw"
      }
    },
    {
      "cell_type": "code",
      "source": [
        "pd.options.mode.chained_assignment = None \n",
        "\n",
        "for row in community_data.index:\n",
        "    upper = community_data.at[row, \"cd_short_title\"].upper().replace(' CD','')\n",
        "    num_first = \"{}\".format(upper[-2:] + ' ' + upper[:-2]).strip()\n",
        "    community_data.cd_short_title.loc[row] = num_first"
      ],
      "metadata": {
        "id": "cYDYgSYf2uiJ"
      },
      "execution_count": null,
      "outputs": []
    },
    {
      "cell_type": "code",
      "source": [
        "community_data.cd_short_title.head(10)"
      ],
      "metadata": {
        "colab": {
          "base_uri": "https://localhost:8080/"
        },
        "id": "sesyotx03g50",
        "outputId": "a629f8d8-a877-410c-96a8-e9773b617b84"
      },
      "execution_count": null,
      "outputs": [
        {
          "output_type": "execute_result",
          "data": {
            "text/plain": [
              "0     1 MANHATTAN\n",
              "1     2 MANHATTAN\n",
              "2     3 MANHATTAN\n",
              "3     4 MANHATTAN\n",
              "4     5 MANHATTAN\n",
              "5     6 MANHATTAN\n",
              "6     7 MANHATTAN\n",
              "7     8 MANHATTAN\n",
              "8     9 MANHATTAN\n",
              "9    10 MANHATTAN\n",
              "Name: cd_short_title, dtype: object"
            ]
          },
          "metadata": {},
          "execution_count": 44
        }
      ]
    },
    {
      "cell_type": "code",
      "source": [
        "def community_changes(cb_string): \n",
        "  \n",
        "  if cb_string.startswith('0'):\n",
        "        return cb_string[1:]\n",
        "  else:\n",
        "        return cb_string"
      ],
      "metadata": {
        "id": "5qwnEzSX3kSv"
      },
      "execution_count": null,
      "outputs": []
    },
    {
      "cell_type": "code",
      "source": [
        "pd_data.Community_Board = [community_changes(str(i)) for i in pd_data.Community_Board]"
      ],
      "metadata": {
        "id": "hRfkyCoJ3tUn"
      },
      "execution_count": null,
      "outputs": []
    },
    {
      "cell_type": "code",
      "source": [
        "pd_data.Community_Board.head(10)"
      ],
      "metadata": {
        "colab": {
          "base_uri": "https://localhost:8080/"
        },
        "id": "39Xh0FdT4tq1",
        "outputId": "e927dcd9-881a-4949-8955-bd3b5bcd8dff"
      },
      "execution_count": null,
      "outputs": [
        {
          "output_type": "execute_result",
          "data": {
            "text/plain": [
              "0        9 QUEENS\n",
              "1         8 BRONX\n",
              "2     11 BROOKLYN\n",
              "3     15 BROOKLYN\n",
              "4       10 QUEENS\n",
              "5       10 QUEENS\n",
              "6        11 BRONX\n",
              "7         4 BRONX\n",
              "8      6 BROOKLYN\n",
              "9     Unspecified\n",
              "Name: Community_Board, dtype: object"
            ]
          },
          "metadata": {},
          "execution_count": 51
        }
      ]
    },
    {
      "cell_type": "markdown",
      "source": [
        "Mapping Community Board names with the reference data and flagging other values as unspecified."
      ],
      "metadata": {
        "id": "qqV7Iqukr9a9"
      }
    },
    {
      "cell_type": "code",
      "source": [
        "def check_community(z):\n",
        "    \n",
        "  if z in community_data.cd_short_title.unique():\n",
        "        return z \n",
        "  \n",
        "  else:\n",
        "        return 'Unspecified'"
      ],
      "metadata": {
        "id": "bj9SAEfH0VF_"
      },
      "execution_count": null,
      "outputs": []
    },
    {
      "cell_type": "code",
      "source": [
        "pd_data.Community_Board = pd_data.Community_Board.map(lambda x: check_community(x))"
      ],
      "metadata": {
        "id": "Xpxl6daz0rRJ"
      },
      "execution_count": null,
      "outputs": []
    },
    {
      "cell_type": "code",
      "source": [
        "len(pd_data.Community_Board.unique())"
      ],
      "metadata": {
        "colab": {
          "base_uri": "https://localhost:8080/"
        },
        "id": "xomV0Pqp0y_v",
        "outputId": "87f79c70-97c7-419c-b477-a6f862510cb1"
      },
      "execution_count": null,
      "outputs": [
        {
          "output_type": "execute_result",
          "data": {
            "text/plain": [
              "60"
            ]
          },
          "metadata": {},
          "execution_count": 54
        }
      ]
    }
  ]
}